{
  "nbformat": 4,
  "nbformat_minor": 0,
  "metadata": {
    "colab": {
      "name": "04_C학점_한국가요의_영어가사_증가율_조사",
      "provenance": [],
      "collapsed_sections": []
    },
    "kernelspec": {
      "name": "python3",
      "display_name": "Python 3"
    },
    "language_info": {
      "name": "python"
    }
  },
  "cells": [
    {
      "cell_type": "markdown",
      "metadata": {
        "id": "GqwINdAATxyj"
      },
      "source": [
        "팀원 명단:\n",
        "이연우\t학과: 자유전공학부    학번: 2021-11577\n",
        "이강혁\t학과: 자유전공학부    학번: 2021-13290\n",
        "양태현\t학과: 자유전공학부    학번: 2021-14284\n",
        "김지윤  학과: 자유전공학부    학번: 2021-17138\n",
        "\n",
        "주제: 옛날 우리 부모님들이 자주 들으셨던 서태지와 아이들 노래와 김광석 노래를 들어보면 현재 한국 가요와 매우 다르다는 것을 알 수 있다. 하지만 현재가요와 과거의 가요의 가사는 어떠한 차이가 있을까? 그 중 언어적인 관점에서 그 차이를 알아보는 조사를 진행한다.\n",
        "\n",
        "추가 Note:\n",
        "각 년도의 제일 인기 있었던 100개곡을 분석하기 때문에 총 600개의 가사 링크에서 Unique Word를 분석함. 그러기 때문에 Web Crawling부분 lyricdet부분에 상당한 시간이 걸림. 팀원 컴퓨터로 진행했을때는 13분44초가 걸리고 코드에 에러가 아닌 많은수의 음악을 분석하느라 발생하는 현상임."
      ]
    },
    {
      "cell_type": "markdown",
      "metadata": {
        "id": "ZSDucDc3aSYf"
      },
      "source": [
        "#1. Import Packages"
      ]
    },
    {
      "cell_type": "code",
      "metadata": {
        "colab": {
          "base_uri": "https://localhost:8080/"
        },
        "id": "_uAzKQdLTR73",
        "outputId": "105d0391-bf49-4cbf-a228-311a4e74ec0e"
      },
      "source": [
        "!apt-get update\n",
        "!apt-get install python-numpy libicu-dev\n",
        "!pip install polyglot\n",
        "!pip install PyICU\n",
        "!pip install pycld2\n",
        "\n",
        "from bs4 import BeautifulSoup\n",
        "from urllib.request import urlopen\n",
        "from collections import Counter\n",
        "from polyglot.detect import Detector\n",
        "import matplotlib.pyplot as plt\n",
        "import numpy as np"
      ],
      "execution_count": null,
      "outputs": [
        {
          "output_type": "stream",
          "text": [
            "Hit:1 https://cloud.r-project.org/bin/linux/ubuntu bionic-cran40/ InRelease\n",
            "Ign:2 https://developer.download.nvidia.com/compute/cuda/repos/ubuntu1804/x86_64  InRelease\n",
            "Ign:3 https://developer.download.nvidia.com/compute/machine-learning/repos/ubuntu1804/x86_64  InRelease\n",
            "Hit:4 https://developer.download.nvidia.com/compute/cuda/repos/ubuntu1804/x86_64  Release\n",
            "Hit:5 https://developer.download.nvidia.com/compute/machine-learning/repos/ubuntu1804/x86_64  Release\n",
            "Hit:6 http://ppa.launchpad.net/c2d4u.team/c2d4u4.0+/ubuntu bionic InRelease\n",
            "Get:7 http://security.ubuntu.com/ubuntu bionic-security InRelease [88.7 kB]\n",
            "Hit:9 http://archive.ubuntu.com/ubuntu bionic InRelease\n",
            "Get:11 http://archive.ubuntu.com/ubuntu bionic-updates InRelease [88.7 kB]\n",
            "Hit:12 http://ppa.launchpad.net/cran/libgit2/ubuntu bionic InRelease\n",
            "Hit:13 http://ppa.launchpad.net/deadsnakes/ppa/ubuntu bionic InRelease\n",
            "Get:14 http://archive.ubuntu.com/ubuntu bionic-backports InRelease [74.6 kB]\n",
            "Hit:15 http://ppa.launchpad.net/graphics-drivers/ppa/ubuntu bionic InRelease\n",
            "Fetched 252 kB in 3s (100 kB/s)\n",
            "Reading package lists... Done\n",
            "Reading package lists... Done\n",
            "Building dependency tree       \n",
            "Reading state information... Done\n",
            "python-numpy is already the newest version (1:1.13.3-2ubuntu1).\n",
            "libicu-dev is already the newest version (60.2-3ubuntu3.1).\n",
            "0 upgraded, 0 newly installed, 0 to remove and 48 not upgraded.\n",
            "Requirement already satisfied: polyglot in /usr/local/lib/python3.7/dist-packages (16.7.4)\n",
            "Requirement already satisfied: PyICU in /usr/local/lib/python3.7/dist-packages (2.7.3)\n",
            "Requirement already satisfied: pycld2 in /usr/local/lib/python3.7/dist-packages (0.41)\n"
          ],
          "name": "stdout"
        }
      ]
    },
    {
      "cell_type": "markdown",
      "metadata": {
        "id": "kL8I9JTRaWns"
      },
      "source": [
        "#2.Entire Code"
      ]
    },
    {
      "cell_type": "code",
      "metadata": {
        "id": "ek_bBoRYfQO9",
        "colab": {
          "base_uri": "https://localhost:8080/",
          "height": 707
        },
        "outputId": "79ace0b0-b7e9-4b5c-8d5b-e18507586bd6"
      },
      "source": [
        "def lyricfinder(link): #벅스음원 사이트의 \"  \"년 베스트 가요 콜렉션 링크를 사용하여 포함되어 있는 인기 100노래의 가사 링크를 Obtain하는 function\n",
        "\n",
        "    url = urlopen(link)\n",
        "    lyriclinks=[]     #empty array instatiation\n",
        "\n",
        "\n",
        "\n",
        "    encoding=url.info().get_content_charset(failobj=\"utf-8\")     #setup for webcrawling\n",
        "    text=url.read().decode(encoding)\n",
        "    soup= BeautifulSoup(text,'html.parser')\n",
        "\n",
        "    for link in soup.find_all('a','trackInfo')    :#inspect 부분에서 link placeholder 가 있는 곳을 타겟\n",
        "      lyriclinks.append(link.get('href'))\n",
        "\n",
        "    return lyriclinks     #link를 함수의 output으로 array로 만듬\n",
        "  \n",
        "def confidenceparser(string):  #name: Korean      code: ko       confidence:  85.0 read bytes:  3608 이런 형식으로 나오는 polyglot detector function에서 confidence 숫자를 때내기위한 function\n",
        "  left,right=string.split(\"confidence: \")     #split을 이용하여 left and right string을 partition\n",
        "  left2,right2=right.split(\"read\")\n",
        "  return left2.strip()\n",
        "\n",
        "def languageparser(string): #위에 나오는 형식의 Languagename을 때내기 위한 function\n",
        "  left,right=string.split(\"name: \") #위에 logic과 동일\n",
        "  left2,right2=right.split(\"   code\")\n",
        "  return left2.strip()\n",
        "\n",
        "\n",
        "def lyricdet(songs,year):           #가사링크를 lyriclinks array를 활용하여 가사분석을 실행하는 함수\n",
        "  unique = []                       #가사word의 Unique 한 언어를 카운팅하기 때문에 Unique Instatiation\n",
        "  total=[]                          #각 노래의 Unique한 word를 나중에 총 합할 array\n",
        "  i=0\n",
        "  while i<len(songs):               #<100과 동일\n",
        "  \n",
        "    url = urlopen(songs[i])\n",
        "\n",
        "    encoding=url.info().get_content_charset(failobj=\"utf-8\")    #Setup\n",
        "    text=url.read().decode(encoding)\n",
        "    soup= BeautifulSoup(text,'html.parser')\n",
        "\n",
        "    lyrics=soup.find_all('div','lyricsContainer')             #가사가 있는 web element를 타겟\n",
        "    lyrics=soup.find_all('xmp')\n",
        "    lyrics=str(lyrics)\n",
        "    lyrics = lyrics.replace(\"[<xmp>\", \"\")                     #불필요한 추가적인 web element 제거\n",
        "    lyrics = lyrics.replace(\"</xmp>]\", \"\")\n",
        "    lyrics = lyrics.lower()                                   #영어단어를 위한 lowercase\n",
        "    words = lyrics.split()                                    #각 단어를 spacebar로 분석하기 위한 split\n",
        "    i=i+1\n",
        "\n",
        "    for word in words:                                        #모든 단어를 Unique라는 array에 넣어서 비교분석, unique array에 동일한 단어가 있으면 append할 필요 없음 주로 the, a,과, 나 를, 이런 반복적인 언어를 지우기 위한 process\n",
        "      if word not in unique:\n",
        "          unique.append(word)\n",
        "\n",
        "    total=total+unique                                        #unique한 단어를 최종 total array에 dump\n",
        "    unique=[]                                                 #unique체커를 매 노래마다 새로 확인해야하기때문에 다시 array를 비움\n",
        "\n",
        "  data=[]\n",
        "  string=' '.join([str(item) for item in total])              #total이란 array를 한 string으로 넣기 위한 라인\n",
        "  for language in Detector(string).languages:                 #polyglot이란 package를 활용하여 total에있는 String의 언어를 분석 KR몇 프로 EN 몇 프로 \n",
        "    print(str(language))                 \n",
        "    data.append(languageparser(str(language)))                #name: Korean      code: ko       confidence:  85.0 read bytes:  3608 처럼 나오는 데이터를 parser function을 활용해 data라는 array에 append\n",
        "    data.append(confidenceparser(str(language)))              #confidence data %를 append\n",
        "  \n",
        "  data.append(year)                                           #마지막에 이 데이터가 무슨 year에 correlates하는지 알려주기 위해 추가\n",
        "  print(data)                                                  #Raw Data 출력\n",
        "  return data\n",
        "\n",
        "def graph(data1,data2,data3,data4,data5,data6):               #가지고온 data를 그래프로 만드는 function\n",
        "\n",
        "  alldata=[data1,data2,data3,data4,data5,data6]               #데이터를 2d matrix로 변형하여 쉽게 조작\n",
        "  a=0\n",
        "  years=[]                                                    #그래프에 표기하기위한 x axis data\n",
        "  language1values=[]                                          #그래프에 y axis를 합한 데이터를 제작하기 위한 2data instatiation\n",
        "  language2values=[]\n",
        "  while a<6:                                                  #[\"Korean\",'65','english','35','year'] 이런 식으로 되있는 데이터를 그래프로 사용할 array로 만들 process\n",
        "    years.append(alldata[a][6])\n",
        "    language1values.append(float(alldata[a][1]))\n",
        "    language2values.append(float(alldata[a][3]))\n",
        "    a=a+1\n",
        "\n",
        "  width = 0.35                                                #graph의 width 설정\n",
        "\n",
        "  fig, ax = plt.subplots()                                    \n",
        "\n",
        "  ax.bar(years, language1values, width, label=data1[0])       #graph data를 설정하고 legend를 data1[0]=Korean으로 설정\n",
        "  ax.bar(years, language2values, width, bottom=language1values,label=data1[2]) #graph data를 설정하고 legend를 data1[2]=English으로 설정 Bottom을 language1value로 추가하여 korean+english데이터를 활용\n",
        "\n",
        "  ax.set_ylabel('Confidence Level')                           #Graph labeling\n",
        "  ax.set_title('Song Attributes by Languages')\n",
        "  ax.legend()\n",
        "\n",
        "  plt.show()\n",
        "\n",
        "\n",
        "\n",
        "#def over main code\n",
        "lyrics1995= lyricfinder(\"https://music.bugs.co.kr/musicpd/albumview/6794?wl_ref=list_mab_03\")           #Find all the song's lyric page from a top album of 1995\n",
        "lyrics2000=lyricfinder(\"https://music.bugs.co.kr/musicpd/albumview/6720\")                               #Find all the song's lyric page from a top album of 2000\n",
        "lyrics2005=lyricfinder(\"https://music.bugs.co.kr/musicpd/albumview/6715\")                                #Find all the song's lyric page from a top album of 2005\n",
        "lyrics2010=lyricfinder(\"https://music.bugs.co.kr/musicpd/albumview/36722\")                              #Find all the song's lyric page from a top album of 2010 etc..\n",
        "lyrics2015=lyricfinder(\"https://music.bugs.co.kr/musicpd/albumview/15389\")\n",
        "lyrics2020=lyricfinder(\"https://music.bugs.co.kr/musicpd/albumview/43963\")\n",
        "\n",
        "\n",
        "yr95=lyricdet(lyrics1995,\"1995\")                                                                #찾은 링크를 활용해서 가사 분석을 실행함\n",
        "yr00=lyricdet(lyrics2000,\"2000\")\n",
        "yr05=lyricdet(lyrics2005,\"2005\")\n",
        "yr10=lyricdet(lyrics2010,\"2010\")\n",
        "yr15=lyricdet(lyrics2015,\"2015\")\n",
        "yr20=lyricdet(lyrics2020,\"2020\")\n",
        "\n",
        "graph(yr95,yr00,yr05,yr10,yr15,yr20)                                                          #가사 분석으로 만든 Dataarray를 활용한 Graph만들기"
      ],
      "execution_count": null,
      "outputs": [
        {
          "output_type": "stream",
          "text": [
            "name: Korean      code: ko       confidence:  99.0 read bytes:  3652\n",
            "name: English     code: en       confidence:   0.0 read bytes:  1241\n",
            "name: Xhosa       code: xh       confidence:   0.0 read bytes:   585\n",
            "['Korean', '99.0', 'English', '0.0', 'Xhosa', '0.0', '1995']\n",
            "name: Korean      code: ko       confidence:  95.0 read bytes:  3647\n",
            "name: English     code: en       confidence:   4.0 read bytes:  1260\n",
            "name: un          code: un       confidence:   0.0 read bytes:     0\n",
            "['Korean', '95.0', 'English', '4.0', 'un', '0.0', '2000']\n",
            "name: Korean      code: ko       confidence:  94.0 read bytes:  3637\n",
            "name: English     code: en       confidence:   5.0 read bytes:  1218\n",
            "name: Scots       code: sco      confidence:   0.0 read bytes:  1511\n",
            "['Korean', '94.0', 'English', '5.0', 'Scots', '0.0', '2005']\n",
            "name: Korean      code: ko       confidence:  88.0 read bytes:  3609\n",
            "name: English     code: en       confidence:   9.0 read bytes:  1240\n",
            "name: Scots       code: sco      confidence:   0.0 read bytes:   752\n",
            "['Korean', '88.0', 'English', '9.0', 'Scots', '0.0', '2010']\n",
            "name: Korean      code: ko       confidence:  89.0 read bytes:  3610\n",
            "name: English     code: en       confidence:   8.0 read bytes:  1216\n",
            "name: Scots       code: sco      confidence:   0.0 read bytes:   925\n",
            "['Korean', '89.0', 'English', '8.0', 'Scots', '0.0', '2015']\n",
            "name: Korean      code: ko       confidence:  85.0 read bytes:  3608\n",
            "name: English     code: en       confidence:  12.0 read bytes:  1034\n",
            "name: Czech       code: cs       confidence:   0.0 read bytes:   682\n",
            "['Korean', '85.0', 'English', '12.0', 'Czech', '0.0', '2020']\n"
          ],
          "name": "stdout"
        },
        {
          "output_type": "display_data",
          "data": {
            "image/png": "[encoded data removed]",
            "text/plain": [
              "<Figure size 432x288 with 1 Axes>"
            ]
          },
          "metadata": {
            "tags": [],
            "needs_background": "light"
          }
        }
      ]
    },
    {
      "cell_type": "markdown",
      "metadata": {
        "id": "8PVUUBppZmhP"
      },
      "source": [
        "#3. lyricfinder 함수: \n",
        "lyrics2000=lyricfinder(\"https://music.bugs.co.kr/musicpd/albumview/6720\")   로 100개 인기 노래의 벅스 앨범을 활용해 모든 노래의 가사 페이지를 수집"
      ]
    },
    {
      "cell_type": "code",
      "metadata": {
        "id": "Iu2T_WEp4DoP"
      },
      "source": [
        "def lyricfinder(link): #벅스음원 사이트의 \"  \"년 베스트 가요 콜렉션 링크를 사용하여 포함되어 있는 인기 100노래의 가사 링크를 Obtain하는 function\n",
        "\n",
        "    url = urlopen(link)\n",
        "    lyriclinks=[]     #empty array instatiation\n",
        "\n",
        "\n",
        "\n",
        "    encoding=url.info().get_content_charset(failobj=\"utf-8\")     #setup for webcrawling\n",
        "    text=url.read().decode(encoding)\n",
        "    soup= BeautifulSoup(text,'html.parser')\n",
        "\n",
        "    for link in soup.find_all('a','trackInfo')    :#a class의 trackInfo를 가진 'id' inspect 부분에서 link placeholder 가 있는 곳을 타겟\n",
        "      lyriclinks.append(link.get('href'))\n",
        "\n",
        "    return lyriclinks     #link를 함수의 output으로 array로 만듬\n",
        "\n",
        "    "
      ],
      "execution_count": null,
      "outputs": []
    },
    {
      "cell_type": "markdown",
      "metadata": {
        "id": "OiZGgVCUZ86J"
      },
      "source": [
        "#4. lyricdet함수+ technical functions:\n",
        "\n",
        "가사링크를 array로 받은후 그 array의 모든 가사를 string으로 seperate하고 Unique(array)한 String으로 분류. 그 후 각 노래의 unique한 string을 total(array)에다가 추가한 후 array를 다시 하나의 string으로 conversion. Polyglot의 detector 활용한 언어 분석으로 total(String)을 인풋, 그러면 각 언어의 confidence level이 나오는데 나온 string을 우리가 사용할 수 있는 데이터로 parser function이 data(array)에 만듬"
      ]
    },
    {
      "cell_type": "code",
      "metadata": {
        "id": "kDi8M_rF4EB8"
      },
      "source": [
        "def confidenceparser(string):  #name: Korean      code: ko       confidence:  85.0 read bytes:  3608 이런 형식으로 나오는 polyglot detector function에서 confidence 숫자를 때내기위한 function\n",
        "  left,right=string.split(\"confidence: \")     #split을 이용하여 left and right string을 partition\n",
        "  left2,right2=right.split(\"read\")\n",
        "  return left2.strip()\n",
        "\n",
        "def languageparser(string): #위에 나오는 형식의 Languagename을 때내기 위한 function\n",
        "  left,right=string.split(\"name: \") #위에 logic과 동일\n",
        "  left2,right2=right.split(\"   code\")\n",
        "  return left2.strip()\n",
        "\n",
        "\n",
        "def lyricdet(songs,year):           #가사링크를 lyriclinks array를 활용하여 가사분석을 실행하는 함수\n",
        "  unique = []                       #가사word의 Unique 한 언어를 카운팅하기 때문에 Unique Instatiation\n",
        "  total=[]                          #각 노래의 Unique한 word를 나중에 총 합할 array\n",
        "  i=0\n",
        "  while i<len(songs):               #<100과 동일\n",
        "  \n",
        "    url = urlopen(songs[i])\n",
        "\n",
        "    encoding=url.info().get_content_charset(failobj=\"utf-8\")    #Setup\n",
        "    text=url.read().decode(encoding)\n",
        "    soup= BeautifulSoup(text,'html.parser')\n",
        "\n",
        "    lyrics=soup.find_all('div','lyricsContainer')             #가사가 있는 web element를 타겟\n",
        "    lyrics=soup.find_all('xmp')\n",
        "    lyrics=str(lyrics)\n",
        "    lyrics = lyrics.replace(\"[<xmp>\", \"\")                     #불필요한 추가적인 web element 제거\n",
        "    lyrics = lyrics.replace(\"</xmp>]\", \"\")\n",
        "    lyrics = lyrics.lower()                                   #영어단어를 위한 lowercase\n",
        "    words = lyrics.split()                                    #각 단어를 spacebar로 분석하기 위한 split\n",
        "    i=i+1\n",
        "\n",
        "    for word in words:                                        #모든 단어를 Unique라는 array에 넣어서 비교분석, unique array에 동일한 단어가 있으면 append할 필요 없음 주로 the, a,과, 나 를, 이런 반복적인 언어를 지우기 위한 process\n",
        "      if word not in unique:\n",
        "          unique.append(word)\n",
        "\n",
        "    total=total+unique                                        #unique한 단어를 최종 total array에 dump\n",
        "    unique=[]                                                 #unique체커를 매 노래마다 새로 확인해야하기때문에 다시 array를 비움\n",
        "\n",
        "  data=[]\n",
        "  string=' '.join([str(item) for item in total])              #total이란 array를 한 string으로 넣기 위한 라인\n",
        "  for language in Detector(string).languages:                 #polyglot이란 package를 활용하여 total에있는 String의 언어를 분석 KR몇 프로 EN 몇 프로 \n",
        "    data.append(languageparser(str(language)))                #name: Korean      code: ko       confidence:  85.0 read bytes:  3608 처럼 나오는 데이터를 parser function을 활용해 data라는 array에 append\n",
        "    data.append(confidenceparser(str(language)))              #confidence data %를 append\n",
        "  \n",
        "  data.append(year)                                           #마지막에 이 데이터가 무슨 year에 correlates하는지 알려주기 위해 추가\n",
        "\n",
        "  return data"
      ],
      "execution_count": null,
      "outputs": []
    },
    {
      "cell_type": "markdown",
      "metadata": {
        "id": "IKiTQt-Ra0QE"
      },
      "source": [
        "#5. data정리+Graph 함수:\n",
        "\n",
        "Data로 나온 array를 그래프화 할 수 있게 다시 배열하고 Stacked bargraph를 matlab plot을 활용해서 생성.\n"
      ]
    },
    {
      "cell_type": "code",
      "metadata": {
        "id": "21tq0AYVa6vB"
      },
      "source": [
        "\n",
        "def graph(data1,data2,data3,data4,data5,data6):               #가지고온 data를 그래프로 만드는 function\n",
        "\n",
        "  alldata=[data1,data2,data3,data4,data5,data6]               #데이터를 2d matrix로 변형하여 쉽게 조작\n",
        "  a=0\n",
        "  years=[]                                                    #그래프에 표기하기위한 x axis data\n",
        "  language1values=[]                                          #그래프에 y axis를 합한 데이터를 제작하기 위한 2data instatiation\n",
        "  language2values=[]\n",
        "  while a<6:                                                  #[\"Korean\",'65','english','35','year'] 이런 식으로 되있는 데이터를 그래프로 사용할 array로 만들 process\n",
        "    years.append(alldata[a][6])\n",
        "    language1values.append(float(alldata[a][1]))\n",
        "    language2values.append(float(alldata[a][3]))\n",
        "    a=a+1\n",
        "\n",
        "  width = 0.35                                                #graph의 width 설정\n",
        "\n",
        "  fig, ax = plt.subplots()                                    \n",
        "\n",
        "  ax.bar(years, language1values, width, label=data1[0])       #graph data를 설정하고 legend를 data1[0]=Korean으로 설정\n",
        "  ax.bar(years, language2values, width, bottom=language1values,label=data1[2]) #graph data를 설정하고 legend를 data1[2]=English으로 설정 Bottom을 language1value로 추가하여 korean+english데이터를 활용\n",
        "\n",
        "  ax.set_ylabel('Confidence Level')                           #Graph labeling\n",
        "  ax.set_title('Song Attributes by Languages')\n",
        "  ax.legend()\n",
        "\n",
        "  plt.show()"
      ],
      "execution_count": null,
      "outputs": []
    },
    {
      "cell_type": "markdown",
      "metadata": {
        "id": "HeXPUS_DbOak"
      },
      "source": [
        "#6. Function을 Define한 후 Main에 사용되는 나머지 code들 "
      ]
    },
    {
      "cell_type": "code",
      "metadata": {
        "id": "8k0K2tHabNsN"
      },
      "source": [
        "lyrics1995= lyricfinder(\"https://music.bugs.co.kr/musicpd/albumview/6794?wl_ref=list_mab_03\")           #Find all the song's lyric page from a top album of 1995\n",
        "lyrics2000=lyricfinder(\"https://music.bugs.co.kr/musicpd/albumview/6720\")                               #Find all the song's lyric page from a top album of 2000\n",
        "lyrics2005=lyricfinder(\"https://music.bugs.co.kr/musicpd/albumview/6715\")                                #Find all the song's lyric page from a top album of 2005\n",
        "lyrics2010=lyricfinder(\"https://music.bugs.co.kr/musicpd/albumview/36722\")                              #Find all the song's lyric page from a top album of 2010 etc..\n",
        "lyrics2015=lyricfinder(\"https://music.bugs.co.kr/musicpd/albumview/15389\")\n",
        "lyrics2020=lyricfinder(\"https://music.bugs.co.kr/musicpd/albumview/43963\")\n",
        "\n",
        "\n",
        "yr95=lyricdet(lyrics1995,\"1995\")                                                                #찾은 링크를 활용해서 가사 분석을 실행함\n",
        "yr00=lyricdet(lyrics2000,\"2000\")\n",
        "yr05=lyricdet(lyrics2005,\"2005\")\n",
        "yr10=lyricdet(lyrics2010,\"2010\")\n",
        "yr15=lyricdet(lyrics2015,\"2015\")\n",
        "yr20=lyricdet(lyrics2020,\"2020\")\n",
        "\n",
        "graph(yr95,yr00,yr05,yr10,yr15,yr20)                                            #yr95-20(array)를 활용한 그래프 만들기"
      ],
      "execution_count": null,
      "outputs": []
    },
    {
      "cell_type": "code",
      "metadata": {
        "id": "WaPhq1QbK6ir",
        "colab": {
          "base_uri": "https://localhost:8080/"
        },
        "outputId": "f1fb8e2d-d4c3-45a0-cef9-e0ec61934d58"
      },
      "source": [
        ""
      ],
      "execution_count": null,
      "outputs": [
        {
          "output_type": "stream",
          "text": [
            "['https://music.bugs.co.kr/track/31904571?wl_ref=list_tr_08_mab', 'https://music.bugs.co.kr/track/31999479?wl_ref=list_tr_08_mab', 'https://music.bugs.co.kr/track/31806631?wl_ref=list_tr_08_mab', 'https://music.bugs.co.kr/track/31867170?wl_ref=list_tr_08_mab', 'https://music.bugs.co.kr/track/31793255?wl_ref=list_tr_08_mab', 'https://music.bugs.co.kr/track/31769281?wl_ref=list_tr_08_mab', 'https://music.bugs.co.kr/track/68635585?wl_ref=list_tr_08_mab', 'https://music.bugs.co.kr/track/68635584?wl_ref=list_tr_08_mab', 'https://music.bugs.co.kr/track/31954275?wl_ref=list_tr_08_mab', 'https://music.bugs.co.kr/track/31820337?wl_ref=list_tr_08_mab', 'https://music.bugs.co.kr/track/31780300?wl_ref=list_tr_08_mab', 'https://music.bugs.co.kr/track/31861854?wl_ref=list_tr_08_mab', 'https://music.bugs.co.kr/track/31833551?wl_ref=list_tr_08_mab', 'https://music.bugs.co.kr/track/31955568?wl_ref=list_tr_08_mab', 'https://music.bugs.co.kr/track/31708907?wl_ref=list_tr_08_mab', 'https://music.bugs.co.kr/track/31972746?wl_ref=list_tr_08_mab', 'https://music.bugs.co.kr/track/31852657?wl_ref=list_tr_08_mab', 'https://music.bugs.co.kr/track/32031230?wl_ref=list_tr_08_mab', 'https://music.bugs.co.kr/track/31849691?wl_ref=list_tr_08_mab', 'https://music.bugs.co.kr/track/31746566?wl_ref=list_tr_08_mab', 'https://music.bugs.co.kr/track/31834128?wl_ref=list_tr_08_mab', 'https://music.bugs.co.kr/track/31920378?wl_ref=list_tr_08_mab', 'https://music.bugs.co.kr/track/5956261?wl_ref=list_tr_08_mab', 'https://music.bugs.co.kr/track/5800525?wl_ref=list_tr_08_mab', 'https://music.bugs.co.kr/track/31740348?wl_ref=list_tr_08_mab', 'https://music.bugs.co.kr/track/31895186?wl_ref=list_tr_08_mab', 'https://music.bugs.co.kr/track/31805729?wl_ref=list_tr_08_mab', 'https://music.bugs.co.kr/track/31993235?wl_ref=list_tr_08_mab', 'https://music.bugs.co.kr/track/5995640?wl_ref=list_tr_08_mab', 'https://music.bugs.co.kr/track/31825866?wl_ref=list_tr_08_mab', 'https://music.bugs.co.kr/track/31833487?wl_ref=list_tr_08_mab', 'https://music.bugs.co.kr/track/6006091?wl_ref=list_tr_08_mab', 'https://music.bugs.co.kr/track/5965225?wl_ref=list_tr_08_mab', 'https://music.bugs.co.kr/track/31875982?wl_ref=list_tr_08_mab', 'https://music.bugs.co.kr/track/31975363?wl_ref=list_tr_08_mab', 'https://music.bugs.co.kr/track/31955415?wl_ref=list_tr_08_mab', 'https://music.bugs.co.kr/track/31928989?wl_ref=list_tr_08_mab', 'https://music.bugs.co.kr/track/31994992?wl_ref=list_tr_08_mab', 'https://music.bugs.co.kr/track/31905589?wl_ref=list_tr_08_mab', 'https://music.bugs.co.kr/track/31885861?wl_ref=list_tr_08_mab', 'https://music.bugs.co.kr/track/31882077?wl_ref=list_tr_08_mab', 'https://music.bugs.co.kr/track/5967221?wl_ref=list_tr_08_mab', 'https://music.bugs.co.kr/track/31867978?wl_ref=list_tr_08_mab', 'https://music.bugs.co.kr/track/31801957?wl_ref=list_tr_08_mab', 'https://music.bugs.co.kr/track/5863189?wl_ref=list_tr_08_mab', 'https://music.bugs.co.kr/track/31958195?wl_ref=list_tr_08_mab', 'https://music.bugs.co.kr/track/32049967?wl_ref=list_tr_08_mab', 'https://music.bugs.co.kr/track/31978572?wl_ref=list_tr_08_mab', 'https://music.bugs.co.kr/track/31877218?wl_ref=list_tr_08_mab', 'https://music.bugs.co.kr/track/31947647?wl_ref=list_tr_08_mab', 'https://music.bugs.co.kr/track/5902137?wl_ref=list_tr_08_mab', 'https://music.bugs.co.kr/track/31926925?wl_ref=list_tr_08_mab', 'https://music.bugs.co.kr/track/6012889?wl_ref=list_tr_08_mab', 'https://music.bugs.co.kr/track/5990595?wl_ref=list_tr_08_mab', 'https://music.bugs.co.kr/track/31999879?wl_ref=list_tr_08_mab', 'https://music.bugs.co.kr/track/32005270?wl_ref=list_tr_08_mab', 'https://music.bugs.co.kr/track/31903378?wl_ref=list_tr_08_mab', 'https://music.bugs.co.kr/track/31854630?wl_ref=list_tr_08_mab', 'https://music.bugs.co.kr/track/31802125?wl_ref=list_tr_08_mab', 'https://music.bugs.co.kr/track/31960849?wl_ref=list_tr_08_mab', 'https://music.bugs.co.kr/track/6001242?wl_ref=list_tr_08_mab', 'https://music.bugs.co.kr/track/31908733?wl_ref=list_tr_08_mab', 'https://music.bugs.co.kr/track/31900621?wl_ref=list_tr_08_mab', 'https://music.bugs.co.kr/track/31912137?wl_ref=list_tr_08_mab', 'https://music.bugs.co.kr/track/32010261?wl_ref=list_tr_08_mab', 'https://music.bugs.co.kr/track/31966937?wl_ref=list_tr_08_mab', 'https://music.bugs.co.kr/track/32043557?wl_ref=list_tr_08_mab', 'https://music.bugs.co.kr/track/31878895?wl_ref=list_tr_08_mab', 'https://music.bugs.co.kr/track/31961769?wl_ref=list_tr_08_mab', 'https://music.bugs.co.kr/track/31527735?wl_ref=list_tr_08_mab', 'https://music.bugs.co.kr/track/31856904?wl_ref=list_tr_08_mab', 'https://music.bugs.co.kr/track/31513323?wl_ref=list_tr_08_mab', 'https://music.bugs.co.kr/track/31898735?wl_ref=list_tr_08_mab', 'https://music.bugs.co.kr/track/31826882?wl_ref=list_tr_08_mab', 'https://music.bugs.co.kr/track/31809390?wl_ref=list_tr_08_mab', 'https://music.bugs.co.kr/track/5993034?wl_ref=list_tr_08_mab', 'https://music.bugs.co.kr/track/6007616?wl_ref=list_tr_08_mab', 'https://music.bugs.co.kr/track/31811487?wl_ref=list_tr_08_mab', 'https://music.bugs.co.kr/track/31791926?wl_ref=list_tr_08_mab', 'https://music.bugs.co.kr/track/31840399?wl_ref=list_tr_08_mab', 'https://music.bugs.co.kr/track/71578163?wl_ref=list_tr_08_mab', 'https://music.bugs.co.kr/track/32042792?wl_ref=list_tr_08_mab', 'https://music.bugs.co.kr/track/5967046?wl_ref=list_tr_08_mab', 'https://music.bugs.co.kr/track/5951218?wl_ref=list_tr_08_mab', 'https://music.bugs.co.kr/track/31801064?wl_ref=list_tr_08_mab', 'https://music.bugs.co.kr/track/32042185?wl_ref=list_tr_08_mab', 'https://music.bugs.co.kr/track/5967047?wl_ref=list_tr_08_mab', 'https://music.bugs.co.kr/track/32031228?wl_ref=list_tr_08_mab', 'https://music.bugs.co.kr/track/31790904?wl_ref=list_tr_08_mab', 'https://music.bugs.co.kr/track/31894960?wl_ref=list_tr_08_mab', 'https://music.bugs.co.kr/track/31814458?wl_ref=list_tr_08_mab', 'https://music.bugs.co.kr/track/31945202?wl_ref=list_tr_08_mab', 'https://music.bugs.co.kr/track/31969464?wl_ref=list_tr_08_mab', 'https://music.bugs.co.kr/track/31976443?wl_ref=list_tr_08_mab', 'https://music.bugs.co.kr/track/31942728?wl_ref=list_tr_08_mab', 'https://music.bugs.co.kr/track/6015405?wl_ref=list_tr_08_mab', 'https://music.bugs.co.kr/track/31931966?wl_ref=list_tr_08_mab', 'https://music.bugs.co.kr/track/6011419?wl_ref=list_tr_08_mab', 'https://music.bugs.co.kr/track/32072017?wl_ref=list_tr_08_mab', 'https://music.bugs.co.kr/track/32075135?wl_ref=list_tr_08_mab']\n"
          ],
          "name": "stdout"
        }
      ]
    }
  ]
}