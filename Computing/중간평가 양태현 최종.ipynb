{
  "nbformat": 4,
  "nbformat_minor": 0,
  "metadata": {
    "colab": {
      "name": "Untitled1.ipynb",
      "provenance": [],
      "toc_visible": true
    },
    "kernelspec": {
      "name": "python3",
      "display_name": "Python 3"
    },
    "language_info": {
      "name": "python"
    }
  },
  "cells": [
    {
      "cell_type": "markdown",
      "metadata": {
        "id": "-dV6l8_p_-69"
      },
      "source": [
        "#프로그램 제목: 변형된 숫자야구 게임\n",
        "#제작자: 2021-14284 자유전공학부, 양태현\n",
        "#제작요청자: 2021-15956 자유전공학부, 이호석"
      ]
    },
    {
      "cell_type": "markdown",
      "metadata": {
        "id": "ccH2IaLwAh6D"
      },
      "source": [
        "##제작 요청 내용\n",
        "#변형된 숫자야구 게임\n",
        "> 게임 규칙: 컴퓨터가 중복되지 않은 숫자들로 구성된 임의의 네자리 수를 생각한다.(예를 들어, 5 2 9 1) 첫 자리가 0으로 시작해도 된다. 사용자는 **10번 안에 답을 맞추어야 이긴다.** 사용자가 컴퓨터에게 자신이 생각하는 네 자리 수를 물어보는데, 예를 들어 2 8 9 1을 물어보았다고 가정하자. 2는 5291에 들어있지만 자릿수가 다르므로 ball이다. 9,1은 5 2 9 1에 들어있고 자릿수도 일치하므로 strike이다. 이 경우, 컴퓨터는 사용자에게 1ball 2strike라고 알려준\n",
        "다. 만약 사용자가 0437이라고 입력하면, 0ball 0strike이라고 하지 않고 Out이라고 알려준다.\n",
        "\n",
        "\n",
        "*   요구1 게임 시작\n",
        "  - random 모듈을 이용하여 컴퓨터는 네 자리수의 정답을 설정한다.\n",
        "  - 프로그램을 시작하면 '당신의 게임머니는 100원입니다. 얼마를 배팅하시겠습니까?' 라고 물어본다.\n",
        "  - 100이상의 숫자를 입력하면 '100이하의 숫자를 입력해주세요'라고 출력하고 다시 배팅값을 물어본다.\n",
        "\n",
        "*   요구2 게임 전개\n",
        "  - 배팅값이 설정되면 '1번째 guess?'라고 물어보고 답안을 입력받는다.\n",
        "  - '~ball ~stike'입니다.' 라고 알려주고 남은 시도 횟수를 알려준다.\n",
        "  - 컴퓨터는 사전에 random.randint()를 통해 몇번째 답변에 거짓말을 할지 정한다. 그리고 답변 1회부터 5회 사이에 한 번 거짓말을 해야 한다.(즉, 1ball인데 1ball 2strike라고 알려주는 식)\n",
        "\n",
        "\n",
        "*   요구3 게임 지속/종료\n",
        "  - 10회 이전에 사용자가 정답을 맞추면 '정답입니다!'를 출력하고 배팅금액 만큼을 기존 100원에 더해 게임머니로 돌려준다. 예를들어, 50원을 배팅했다면 '당신의 게임머니는 150원입니다.'\n",
        "  - 10회 이전에 답을 맞추지 못하면 '졌습니다'를 출력하고 배팅금액 만큼을 기존 100원에 빼서 게임머니로 돌려준다.\n",
        "  -게임을 지속할지 의사를 묻고 의사가 없으면(n,no,N,No) 게임을 종료, 의사가 있으면 업데이트 된 게임머니를 이용해 다시 게임을 시작한다.\n",
        "  -게임에서 졌는데 게임머니를 모두 소진해서 0원이 된 경우에도 안내메시지와 함께 게임이 종료된다.\n",
        "\n",
        "\n",
        "\n",
        "\n",
        "\n",
        "\n",
        "\n",
        "\n",
        "\n",
        "\n",
        "\n",
        "\n",
        "\n",
        "\n",
        "\n",
        "\n",
        "\n",
        "\n",
        "\n",
        "##"
      ]
    },
    {
      "cell_type": "markdown",
      "metadata": {
        "id": "0SY_XqtrUrVi"
      },
      "source": [
        "#The Full Code:"
      ]
    },
    {
      "cell_type": "code",
      "metadata": {
        "id": "eEJ2EqAc_tt-",
        "colab": {
          "base_uri": "https://localhost:8080/"
        },
        "outputId": "06889048-da7c-4682-d14a-45a364399197"
      },
      "source": [
        "import random                                                                   #randomint를 사용하기 위한 random import\n",
        "game=True \n",
        "money=100                                                                       #처음 시작하는 돈은 무조건 100원이기 때문에 while문에 들어가기 전에 설정\n",
        "while game:                                                                     #while문을 써서 게임을 반복 실행하기 때문에 game=true로 미리 설정을 함\n",
        "\n",
        "  \n",
        "  lists=random.sample(range(10), 4)                                             #random.sample을 활용해 중복되지 않는 4가지 수를 lists에 입력\n",
        "\n",
        "  lie= random.randint(0,4)                                                      #거짓말을 할 턴을 0~4 index를 활용하기 때문에 1~5에서 -1 된 값으로 미리 설정\n",
        "  print(\"숫자야구게임을 시작합니다. \\n\")\n",
        "  print(lists)\n",
        "  request=int(input(\"당신의 게임머니는 \"+str(money)+\"원입니다. 얼마를 배팅하시겠습니까?\")) #게임 머니를 알려주고 베팅을 얼마를 할지 \n",
        "  while request>money:                                                          # 요구1대로 100원 이상을 물어보면 프로그램이 캐치함\n",
        "   request=int(input(str(money)+\" 이하의 숫자를 입력해주세요\"))\n",
        "\n",
        "  print(\"게임을 진행하겠습니다\")                                                  #게임시작\n",
        "  \n",
        "\n",
        "\n",
        "\n",
        "\n",
        "  for i in range(0,10):                                                         #main loop 총 10번의 기회를 주기때문에 range(1,10)\n",
        "   guess= input(\"\\n\"+str(i+1)+\"번째 Guess?(중복되지 않는 수를 입력하시요 예: 1 2 3 4)\").split() #사용자의 command를 spacebar를 통해서 list를 생성\n",
        "   j=0                                                                          #list의 index를 관리할 variable instantiate\n",
        "   strike=0                                                                     #Strike Variable Setup\n",
        "   ball=0                                                                       #Ball variable setup. Strike 와 ball을 룹 안에 Instatiate하는 이유는 매 guess횟수마다 strike 과 ball count가 0으로 시작해야 하기 때문\n",
        "   for j in range(0,4):                                                         #list의 각 element를 지나가는 loop\n",
        "   \n",
        "     if (int(guess[j]) in lists):                                               #사용자가 입력한 j index의 엘레멘트가 정답에 포함이 되어있고,\n",
        "        if (int(guess[j])==int(lists[j])):                                      #그 숫자가 정답과 같은 위치에 있다면\n",
        "          strike=strike+1                                                       #strike 하나를 +1 카운팅함\n",
        "\n",
        "        else:\n",
        "         ball=ball+1                                                            #그 숫자와 정답에 같은 위치에있지는않지만 리스트에 있다는 뜻은 ball+1\n",
        "\n",
        "  \n",
        "   if strike==4:                                                                #스트라잌을 4개를 맞췄다면 정답이기 때문에 베팅한 머니를 총머니에 +하고 main loop에서 break함\n",
        "      print(\"정답입니다!\")\n",
        "      money= request+money\n",
        "      break\n",
        "  \n",
        "   if i==lie:                                                                   #횟수가 lie variable와 같다면 lie를 표현하는 방법\n",
        "     fakestrike= random.randint(0,3)                                            #fake strike는 0부터 3이여야 한다 4이면 정답이기 때문에.\n",
        "     fakeball=random.randint(0,4)                                               #fake ball는 0부터 4여도 된다\n",
        "     while fakestrike==strike:                                                  #만약에 fake strike과 진짜 strike의 숫자가 같으면 않기 때문에 같으면 reroll\n",
        "        fakestrike= random.randint(0,3)                                         #fakeball도 마찬가지\n",
        "     while fakeball==ball:\n",
        "        fakeballstrike= random.randint(0,4)\n",
        "     print(fakestrike, \"strike\", fakeball,\"ball\")                               #fakeball과 fakestrike를 프린트\n",
        "  \n",
        "   else:\n",
        "      print(strike,\"strike\",ball,\"ball\")                                        #만약에 guessnumber이 lieindex와 같지 않다면 정직한 답을 준다\n",
        "  \n",
        "   if i==9:                                                                     #index가 9까지 갔지만 정답을 맞추지 못하는 경우 졌다는 판정을 줌, 그리고 돈에서 베팅한 돈을 뺀다\n",
        "     print(\"기회를 다 활용하여 졌습니다. 비밀숫자는\",lists,\"입니다.\")\n",
        "     money=money-request\n",
        "  if money<=0:                                                                  #돈이 0보다 덜하다면 게임은 자동으로 꺼짐. 앞에서서 whileloop을 False로 하기 때문에 game over\n",
        "    print(\"게임 머니를 다 소진하여 게임이 자동으로 꺼집니다.\")\n",
        "    game=False\n",
        "  \n",
        "  \n",
        "  again=str.lower(input('현재 남은 돈은 '+str(money)+\"입니다 게임을 계속 하실것인가요? (Y,y,YES,yes/n,no,N,NO)\"))#계속 할것인지 물어보는 command str.lower를 활용해 다양한 답변을 입력 할 수 있다\n",
        "  \n",
        "  while (again!='n')and (again!=\"no\") and (again!='y') and (again!='yes'):       #표시된 답변을 주지 않았다면 계속 물어보게 while문을 활용\n",
        "    again=str.lower(input('현재 남은 돈은 '+str(money)+\"입니다 command를 제대로 입력해 주시기를 바라겠습니다 (Y,y,YES,yes/n,no,N,NO)\"))\n",
        "\n",
        "\n",
        "  if again==\"n\" or again==\"no\":                                                 #no 혹은n을 썼다면 False, 게임 끝, 그렇지 않았다면 게임을 계속된다\n",
        "      game=False\n",
        "     \n",
        "  if again=='yes' or again=='y':\n",
        "      game=True\n",
        "     \n",
        "    \n",
        "  \n",
        "\n",
        "  \n",
        "  \n",
        "    \n",
        "    \n",
        "    \n",
        "  \n",
        "  \n"
      ],
      "execution_count": 69,
      "outputs": [
        {
          "output_type": "stream",
          "text": [
            "숫자야구게임을 시작합니다. \n",
            "\n",
            "[7, 8, 9, 5]\n",
            "당신의 게임머니는 100원입니다. 얼마를 배팅하시겠습니까?100\n",
            "게임을 진행하겠습니다\n",
            "\n",
            "1번째 Guess?(중복되지 않는 수를 입력하시요 예: 1 2 3 4)7 8 9 5\n",
            "정답입니다!\n",
            "현재 남은 돈은 200입니다 게임을 계속 하실것인가요? (Y,y,YES,yes/n,no,N,NO)yes\n",
            "숫자야구게임을 시작합니다. \n",
            "\n",
            "[3, 2, 9, 7]\n",
            "당신의 게임머니는 200원입니다. 얼마를 배팅하시겠습니까?100\n",
            "게임을 진행하겠습니다\n",
            "\n",
            "1번째 Guess?(중복되지 않는 수를 입력하시요 예: 1 2 3 4)3 2 9 7\n",
            "정답입니다!\n",
            "현재 남은 돈은 300입니다 게임을 계속 하실것인가요? (Y,y,YES,yes/n,no,N,NO)no\n"
          ],
          "name": "stdout"
        }
      ]
    },
    {
      "cell_type": "markdown",
      "metadata": {
        "id": "u3w1iJpcQPnC"
      },
      "source": [
        "#Instantiation:\n",
        "#게임을 시작하기 전 필요한 variable들과 while boolean식의 룹을 활용해서 게임을 재시작함"
      ]
    },
    {
      "cell_type": "code",
      "metadata": {
        "colab": {
          "base_uri": "https://localhost:8080/"
        },
        "id": "cgNvnIhUM2Vu",
        "outputId": "c5a1967e-5c2a-4b9b-aeb3-bdc8d416b4f3"
      },
      "source": [
        "import random                                                                   #randomint를 사용하기 위한 random import\n",
        "game=True \n",
        "money=100                                                                       #처음 시작하는 돈은 무조건 100원이기 때문에 while문에 들어가기 전에 설정\n",
        "while game:                                                                     #while문을 써서 게임을 반복 실행하기 때문에 game=true로 미리 설정을 함\n",
        "\n",
        "  \n",
        "  lists=random.sample(range(10), 4)                                             #random.sample을 활용해 중복되지 않는 4가지 수를 lists에 입력\n",
        "\n",
        "  lie= random.randint(0,4)                                                      #거짓말을 할 턴을 0~4 index를 활용하기 때문에 1~5에서 -1 된 값으로 미리 설정\n",
        "  print(\"숫자야구게임을 시작합니다. \\n\")\n",
        "  print(lists)\n",
        "  request=int(input(\"당신의 게임머니는 \"+str(money)+\"원입니다. 얼마를 배팅하시겠습니까?\")) #게임 머니를 알려주고 베팅을 얼마를 할지 \n",
        "  while request>money:                                                          # 요구1대로 100원 이상을 물어보면 프로그램이 캐치함\n",
        "   request=int(input(str(money)+\" 이하의 숫자를 입력해주세요\"))\n",
        "\n",
        "  print(\"게임을 진행하겠습니다\")      "
      ],
      "execution_count": 52,
      "outputs": [
        {
          "output_type": "stream",
          "text": [
            "[1, 0, 9, 5]\n",
            "1\n"
          ],
          "name": "stdout"
        }
      ]
    },
    {
      "cell_type": "markdown",
      "metadata": {
        "id": "z87jDI-5T9SZ"
      },
      "source": [
        "#Comparing Algorithm: \n",
        "#정답 lists와 유저가 맞춘 array를 서로 비교하면서 strike 과 ball을 카운팅하는 부분"
      ]
    },
    {
      "cell_type": "code",
      "metadata": {
        "id": "BniiE97mUGSi"
      },
      "source": [
        " for i in range(0,10):                                                         #main loop 총 10번의 기회를 주기때문에 range(1,10)\n",
        "   guess= input(\"\\n\"+str(i+1)+\"번째 Guess?(중복되지 않는 수를 입력하시요 예: 1 2 3 4)\").split() #사용자의 command를 spacebar를 통해서 list를 생성\n",
        "   j=0                                                                          #list의 index를 관리할 variable instantiate\n",
        "   strike=0                                                                     #Strike Variable Setup\n",
        "   ball=0                                                                       #Ball variable setup. Strike 와 ball을 룹 안에 Instatiate하는 이유는 매 guess횟수마다 strike 과 ball count가 0으로 시작해야 하기 때문\n",
        "   for j in range(0,4):                                                         #list의 각 element를 지나가는 loop\n",
        "   \n",
        "     if (int(guess[j]) in lists):                                               #사용자가 입력한 j index의 엘레멘트가 정답에 포함이 되어있고,\n",
        "        if (int(guess[j])==int(lists[j])):                                      #그 숫자가 정답과 같은 위치에 있다면\n",
        "          strike=strike+1                                                       #strike 하나를 +1 카운팅함\n",
        "\n",
        "        else:\n",
        "         ball=ball+1                                                            #그 숫자와 정답에 같은 위치에있지는않지만 리스트에 있다는 뜻은 ball+1"
      ],
      "execution_count": null,
      "outputs": []
    },
    {
      "cell_type": "markdown",
      "metadata": {
        "id": "rHY1GBRGUFx-"
      },
      "source": [
        "#변수와 outcomes:\n",
        "#게임에서의 outcome을 proccess하고 거짓말을 해야 할 타이밍때 거짓말로 오답을 줌"
      ]
    },
    {
      "cell_type": "code",
      "metadata": {
        "id": "oVSWH4nzUeNm"
      },
      "source": [
        " if strike==4:                                                                #스트라잌을 4개를 맞췄다면 정답이기 때문에 베팅한 머니를 총머니에 +하고 main loop에서 break함\n",
        "      print(\"정답입니다!\")\n",
        "      money= request+money\n",
        "      break\n",
        "  \n",
        "   if i==lie:                                                                   #횟수가 lie variable와 같다면 lie를 표현하는 방법\n",
        "     fakestrike= random.randint(0,3)                                            #fake strike는 0부터 3이여야 한다 4이면 정답이기 때문에.\n",
        "     fakeball=random.randint(0,4)                                               #fake ball는 0부터 4여도 된다\n",
        "     while fakestrike==strike:                                                  #만약에 fake strike과 진짜 strike의 숫자가 같으면 않기 때문에 같으면 reroll\n",
        "        fakestrike= random.randint(0,3)                                         #fakeball도 마찬가지\n",
        "     while fakeball==ball:\n",
        "        fakeballstrike= random.randint(0,4)\n",
        "     print(fakestrike, \"strike\", fakeball,\"ball\")                               #fakeball과 fakestrike를 프린트\n",
        "  \n",
        "   else:\n",
        "      print(strike,\"strike\",ball,\"ball\")                                        #만약에 guessnumber이 lieindex와 같지 않다면 정직한 답을 준다\n",
        "  \n",
        "   if i==9:                                                                     #index가 9까지 갔지만 정답을 맞추지 못하는 경우 졌다는 판정을 줌, 그리고 돈에서 베팅한 돈을 뺀다\n",
        "     print(\"기회를 다 활용하여 졌습니다. 비밀숫자는\",lists,\"입니다.\")\n",
        "     money=money-request\n",
        "  if money<=0:                                                                  #돈이 0보다 덜하다면 게임은 자동으로 꺼짐. 앞에서서 whileloop을 False로 하기 때문에 game over\n",
        "    print(\"게임 머니를 다 소진하여 게임이 자동으로 꺼집니다.\")\n",
        "    game=False"
      ],
      "execution_count": null,
      "outputs": []
    },
    {
      "cell_type": "markdown",
      "metadata": {
        "id": "vQiHRUNrUhhN"
      },
      "source": [
        "#End result:\n",
        "#게임머니의 현황을 알려주고 게임을 다시  할지 물어봄"
      ]
    },
    {
      "cell_type": "code",
      "metadata": {
        "id": "x-tXqGqTUlwR"
      },
      "source": [
        "  again=str.lower(input('현재 남은 돈은 '+str(money)+\"입니다 게임을 계속 하실것인가요? (Y,y,YES,yes/n,no,N,NO)\"))#계속 할것인지 물어보는 command str.lower를 활용해 다양한 답변을 입력 할 수 있다\n",
        "  \n",
        "  while (again!='n')and (again!=\"no\") and (again!='y') and (again!='yes'):       #표시된 답변을 주지 않았다면 계속 물어보게 while문을 활용\n",
        "    again=str.lower(input('현재 남은 돈은 '+str(money)+\"입니다 command를 제대로 입력해 주시기를 바라겠습니다 (Y,y,YES,yes/n,no,N,NO)\"))\n",
        "\n",
        "\n",
        "  if again==\"n\" or again==\"no\":                                                 #no 혹은n을 썼다면 False, 게임 끝, 그렇지 않았다면 게임을 계속된다\n",
        "      game=False\n",
        "     \n",
        "  if again=='yes' or again=='y':\n",
        "      game=True"
      ],
      "execution_count": null,
      "outputs": []
    }
  ]
}