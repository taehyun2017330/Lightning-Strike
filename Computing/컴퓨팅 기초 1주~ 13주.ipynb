{
  "nbformat": 4,
  "nbformat_minor": 0,
  "metadata": {
    "colab": {
      "name": "004_30_2021-14284 양태현.ipynb",
      "provenance": [],
      "collapsed_sections": [
        "-SUKcn1F1_VI",
        "k3i7kMmO2vG1",
        "s3EchzGG9Qzl",
        "8mqOF-HE-2Es"
      ],
      "toc_visible": true
    },
    "kernelspec": {
      "name": "python3",
      "display_name": "Python 3"
    }
  },
  "cells": [
    {
      "cell_type": "code",
      "metadata": {
        "colab": {
          "base_uri": "https://localhost:8080/"
        },
        "id": "6kL0yiy3zmKD",
        "outputId": "7b7e1acf-3b60-432d-a3df-e312f8ac162e"
      },
      "source": [
        "print(2+5)"
      ],
      "execution_count": null,
      "outputs": [
        {
          "output_type": "stream",
          "text": [
            "7\n"
          ],
          "name": "stdout"
        }
      ]
    },
    {
      "cell_type": "markdown",
      "metadata": {
        "id": "-SUKcn1F1_VI"
      },
      "source": [
        "#1주차 실습강의"
      ]
    },
    {
      "cell_type": "markdown",
      "metadata": {
        "id": "L1yCzIpB2PIm"
      },
      "source": [
        "##실습 1번"
      ]
    },
    {
      "cell_type": "code",
      "metadata": {
        "colab": {
          "base_uri": "https://localhost:8080/"
        },
        "id": "W2Sh2z1G0ar1",
        "outputId": "24262922-ec59-48e5-dbcb-2a298155a03b"
      },
      "source": [
        "print('hello')\n",
        "print('안녕')"
      ],
      "execution_count": null,
      "outputs": [
        {
          "output_type": "stream",
          "text": [
            "hello\n",
            "안녕\n"
          ],
          "name": "stdout"
        }
      ]
    },
    {
      "cell_type": "markdown",
      "metadata": {
        "id": "Dnpfynzv1UBk"
      },
      "source": [
        "print()함수는 결과를 출력하라는 내용이다"
      ]
    },
    {
      "cell_type": "markdown",
      "metadata": {
        "id": "-IKnCM2G2Tn2"
      },
      "source": [
        "##실습 2번"
      ]
    },
    {
      "cell_type": "code",
      "metadata": {
        "id": "9brlmwyc0_L0"
      },
      "source": [
        "\n"
      ],
      "execution_count": null,
      "outputs": []
    },
    {
      "cell_type": "markdown",
      "metadata": {
        "id": "d6HmqZAvYtsl"
      },
      "source": [
        "## 3/11 수업 메모\n"
      ]
    },
    {
      "cell_type": "code",
      "metadata": {
        "colab": {
          "base_uri": "https://localhost:8080/"
        },
        "id": "VL5vQS_XYxCK",
        "outputId": "f000b5f8-d62c-482c-fffa-adbd467056a4"
      },
      "source": [
        "print('how old are you')\n",
        "age= input()"
      ],
      "execution_count": null,
      "outputs": [
        {
          "output_type": "stream",
          "text": [
            "how old are you\n",
            "asd\n"
          ],
          "name": "stdout"
        }
      ]
    },
    {
      "cell_type": "code",
      "metadata": {
        "id": "qWwCU9wPYzRV"
      },
      "source": [
        "## 그냥 age= input('how old are you')로 할시 'How old are you' 와 input value에 Space 가 없음 String code 안에 \\n를 추가해야 출력물이 똑같애짐\n",
        "age= input('how old are you \\n')"
      ],
      "execution_count": null,
      "outputs": []
    },
    {
      "cell_type": "markdown",
      "metadata": {
        "id": "k3i7kMmO2vG1"
      },
      "source": [
        "#2주차 실습"
      ]
    },
    {
      "cell_type": "markdown",
      "metadata": {
        "id": "gWynXr-p4Wk4"
      },
      "source": [
        "### 2-1"
      ]
    },
    {
      "cell_type": "markdown",
      "metadata": {
        "id": "WtfbGnIe29fz"
      },
      "source": [
        "####실습1"
      ]
    },
    {
      "cell_type": "code",
      "metadata": {
        "colab": {
          "base_uri": "https://localhost:8080/"
        },
        "id": "sN4IJsTW3BIX",
        "outputId": "ba96eac6-3a85-4fd6-f08f-022e95eb54ae"
      },
      "source": [
        "10+20"
      ],
      "execution_count": null,
      "outputs": [
        {
          "output_type": "execute_result",
          "data": {
            "text/plain": [
              "30"
            ]
          },
          "metadata": {
            "tags": []
          },
          "execution_count": 3
        }
      ]
    },
    {
      "cell_type": "code",
      "metadata": {
        "colab": {
          "base_uri": "https://localhost:8080/"
        },
        "id": "yYLnli5i2-jW",
        "outputId": "c75c35e4-837c-4f0c-c1d4-4bdf1eab9186"
      },
      "source": [
        "30-5"
      ],
      "execution_count": null,
      "outputs": [
        {
          "output_type": "execute_result",
          "data": {
            "text/plain": [
              "25"
            ]
          },
          "metadata": {
            "tags": []
          },
          "execution_count": 6
        }
      ]
    },
    {
      "cell_type": "code",
      "metadata": {
        "colab": {
          "base_uri": "https://localhost:8080/"
        },
        "id": "0UQlAbQg3E9I",
        "outputId": "a0faea46-86cb-4276-eac1-eb2e05f7362b"
      },
      "source": [
        "15*7.0"
      ],
      "execution_count": null,
      "outputs": [
        {
          "output_type": "execute_result",
          "data": {
            "text/plain": [
              "105.0"
            ]
          },
          "metadata": {
            "tags": []
          },
          "execution_count": 7
        }
      ]
    },
    {
      "cell_type": "code",
      "metadata": {
        "colab": {
          "base_uri": "https://localhost:8080/"
        },
        "id": "D4PbBlS73Gbs",
        "outputId": "7086fa0b-1533-458b-f50a-74085a4c28af"
      },
      "source": [
        "2/4"
      ],
      "execution_count": null,
      "outputs": [
        {
          "output_type": "execute_result",
          "data": {
            "text/plain": [
              "0.5"
            ]
          },
          "metadata": {
            "tags": []
          },
          "execution_count": 8
        }
      ]
    },
    {
      "cell_type": "code",
      "metadata": {
        "colab": {
          "base_uri": "https://localhost:8080/"
        },
        "id": "RevsvU6-3HRe",
        "outputId": "5b9ebb35-13e1-4d24-c287-a05ac734fa83"
      },
      "source": [
        "2.0/4.0"
      ],
      "execution_count": null,
      "outputs": [
        {
          "output_type": "execute_result",
          "data": {
            "text/plain": [
              "0.5"
            ]
          },
          "metadata": {
            "tags": []
          },
          "execution_count": 9
        }
      ]
    },
    {
      "cell_type": "code",
      "metadata": {
        "colab": {
          "base_uri": "https://localhost:8080/"
        },
        "id": "mzS5Oraq3IUB",
        "outputId": "b40e0d99-e9f6-4c34-eaec-15afd1055829"
      },
      "source": [
        "2.0/4"
      ],
      "execution_count": null,
      "outputs": [
        {
          "output_type": "execute_result",
          "data": {
            "text/plain": [
              "0.5"
            ]
          },
          "metadata": {
            "tags": []
          },
          "execution_count": 10
        }
      ]
    },
    {
      "cell_type": "code",
      "metadata": {
        "colab": {
          "base_uri": "https://localhost:8080/"
        },
        "id": "BHJsf8ag3JVp",
        "outputId": "c61ece41-290d-42dd-d26a-71227e9e34b5"
      },
      "source": [
        "50%4"
      ],
      "execution_count": null,
      "outputs": [
        {
          "output_type": "execute_result",
          "data": {
            "text/plain": [
              "2"
            ]
          },
          "metadata": {
            "tags": []
          },
          "execution_count": 11
        }
      ]
    },
    {
      "cell_type": "code",
      "metadata": {
        "colab": {
          "base_uri": "https://localhost:8080/"
        },
        "id": "dXThO50K3KdP",
        "outputId": "b7007098-287e-45d6-dade-5eea38a63046"
      },
      "source": [
        "10**3"
      ],
      "execution_count": null,
      "outputs": [
        {
          "output_type": "execute_result",
          "data": {
            "text/plain": [
              "1000"
            ]
          },
          "metadata": {
            "tags": []
          },
          "execution_count": 12
        }
      ]
    },
    {
      "cell_type": "markdown",
      "metadata": {
        "id": "TYYJnTtp3bMS"
      },
      "source": [
        "####실습2"
      ]
    },
    {
      "cell_type": "code",
      "metadata": {
        "id": "CmNPku4P3ckv"
      },
      "source": [
        "milk = 1850\n",
        "egg = 4000\n",
        "totalPrice = (2*milk+egg)*0.95"
      ],
      "execution_count": null,
      "outputs": []
    },
    {
      "cell_type": "markdown",
      "metadata": {
        "id": "Fg1lCNhE34F5"
      },
      "source": [
        "####실습 3"
      ]
    },
    {
      "cell_type": "code",
      "metadata": {
        "colab": {
          "base_uri": "https://localhost:8080/"
        },
        "id": "GBPNZ6jT35zN",
        "outputId": "4aa02fb4-ebee-4eb9-aa81-2101c7c8d122"
      },
      "source": [
        "c = 5.0/9.0*(100-32.0)\n",
        "f = 9.0/5.9*(50+32.0)\n",
        "print(c,f)"
      ],
      "execution_count": null,
      "outputs": [
        {
          "output_type": "stream",
          "text": [
            "37.77777777777778 125.08474576271186\n"
          ],
          "name": "stdout"
        }
      ]
    },
    {
      "cell_type": "code",
      "metadata": {
        "id": "B3_L3q7x4QLj"
      },
      "source": [
        ""
      ],
      "execution_count": null,
      "outputs": []
    },
    {
      "cell_type": "markdown",
      "metadata": {
        "id": "9nAA1tnm4Ydp"
      },
      "source": [
        "### 2-2"
      ]
    },
    {
      "cell_type": "markdown",
      "metadata": {
        "id": "iQfuT9mF4fUc"
      },
      "source": [
        "####Quiz"
      ]
    },
    {
      "cell_type": "code",
      "metadata": {
        "colab": {
          "base_uri": "https://localhost:8080/"
        },
        "id": "Lcu-RIdf4ZSo",
        "outputId": "6b81df18-09cc-4e7e-8c7e-fbd13a0d8760"
      },
      "source": [
        "print('파이썬은 즐거워 '*5)"
      ],
      "execution_count": null,
      "outputs": [
        {
          "output_type": "stream",
          "text": [
            "파이썬은 즐거워 파이썬은 즐거워 파이썬은 즐거워 파이썬은 즐거워 파이썬은 즐거워 \n"
          ],
          "name": "stdout"
        }
      ]
    },
    {
      "cell_type": "code",
      "metadata": {
        "id": "BHU3oZ1l4ee6"
      },
      "source": [
        ""
      ],
      "execution_count": null,
      "outputs": []
    },
    {
      "cell_type": "markdown",
      "metadata": {
        "id": "ldKERyCv4nY9"
      },
      "source": [
        "####실습 1"
      ]
    },
    {
      "cell_type": "code",
      "metadata": {
        "colab": {
          "base_uri": "https://localhost:8080/"
        },
        "id": "NFQgys1R4o-8",
        "outputId": "7ac7ecca-ba9f-442b-d611-6b5f75b5a01e"
      },
      "source": [
        "num=10\n",
        "print ('콩 '*num, \"나무를\", num, '번 찍었습니다.')"
      ],
      "execution_count": null,
      "outputs": [
        {
          "output_type": "stream",
          "text": [
            "콩 콩 콩 콩 콩 콩 콩 콩 콩 콩  나무를 10 번 찍었습니다.\n"
          ],
          "name": "stdout"
        }
      ]
    },
    {
      "cell_type": "markdown",
      "metadata": {
        "id": "BxLBW7Cq47w9"
      },
      "source": [
        "####실습 2"
      ]
    },
    {
      "cell_type": "code",
      "metadata": {
        "colab": {
          "base_uri": "https://localhost:8080/"
        },
        "id": "xZ1MfIys4vyU",
        "outputId": "e41bd246-4ab6-4044-ff22-f1b89b65dddf"
      },
      "source": [
        "print ('Tell me your favorite stuff.')\n",
        "fruit = input('Your favorite fruit is ')\n",
        "flower = input('Your favorite flower is ')\n",
        "drink = input('Your favorite drink is ')\n",
        "print ('You entered: ', fruit, flower, drink )"
      ],
      "execution_count": null,
      "outputs": [
        {
          "output_type": "stream",
          "text": [
            "Tell me your favorite stuff.\n",
            "Your favorite fruit is tomato\n",
            "Your favorite flower is rose\n",
            "Your favorite drink is water\n",
            "You entered:  tomato rose water\n"
          ],
          "name": "stdout"
        }
      ]
    },
    {
      "cell_type": "markdown",
      "metadata": {
        "id": "uX5z6IDC5F43"
      },
      "source": [
        "####실습 3"
      ]
    },
    {
      "cell_type": "code",
      "metadata": {
        "colab": {
          "base_uri": "https://localhost:8080/"
        },
        "id": "-73m09pT5G2U",
        "outputId": "c46fcd0a-06b9-43d7-976d-2b9fbb4afdf9"
      },
      "source": [
        "name = input('이름 : ')\n",
        "age = input('나이 : ')\n",
        "school = input('학교 : ')\n",
        "major = input('학부 : ')\n",
        "comment = input('\\n수업에 바라는점:')\n",
        "print ('\\n'+ school+' '+major+\" \"+ age+ \"세 \"+name+\"님\\n\"+ comment+\" 의견 감사합니다.\" )"
      ],
      "execution_count": null,
      "outputs": [
        {
          "output_type": "stream",
          "text": [
            "이름 : 홍길동\n",
            "나이 : \n",
            "학교 : ㄴ\n",
            "학부 : ㄴ\n",
            "\n",
            "수업에 바라는점:ㄴ\n",
            "\n",
            "ㄴ ㄴ 세 홍길동님\n",
            "ㄴ 의견 감사합니다.\n"
          ],
          "name": "stdout"
        }
      ]
    },
    {
      "cell_type": "markdown",
      "metadata": {
        "id": "PEr2-M9-6_N0"
      },
      "source": [
        "####실습 4-1"
      ]
    },
    {
      "cell_type": "code",
      "metadata": {
        "colab": {
          "base_uri": "https://localhost:8080/"
        },
        "id": "Gi4Pu3j_6gvM",
        "outputId": "46e2b148-495a-4c03-f261-8075b36bfb1c"
      },
      "source": [
        "sentence = input('대화를 시작합니다. \\n \\n')\n",
        "print(sentence)"
      ],
      "execution_count": null,
      "outputs": [
        {
          "output_type": "stream",
          "text": [
            "대화를 시작합니다. \n",
            " \n",
            "너이름이 뭐야?\n",
            "너이름이 뭐야?\n"
          ],
          "name": "stdout"
        }
      ]
    },
    {
      "cell_type": "markdown",
      "metadata": {
        "id": "oFt5CzNY7Xea"
      },
      "source": [
        "####실습 4-2"
      ]
    },
    {
      "cell_type": "code",
      "metadata": {
        "id": "ykXbVwrg7ZXS"
      },
      "source": [
        "print('대화를 시작합니다. \\n')\n",
        "x=0\n",
        "for x in range (0,3):\n",
        "  sentence=input(\"조련사: \")\n",
        "  print(\"앵무새: \"+sentence+ '\\n')\n",
        "  x+=1"
      ],
      "execution_count": null,
      "outputs": []
    },
    {
      "cell_type": "markdown",
      "metadata": {
        "id": "4kElU6v9tD7J"
      },
      "source": [
        "##수업 메모"
      ]
    },
    {
      "cell_type": "code",
      "metadata": {
        "colab": {
          "base_uri": "https://localhost:8080/"
        },
        "id": "TMprGa-ItE07",
        "outputId": "4e6eb573-0a26-4f9b-85ef-b0dab053bcf6"
      },
      "source": [
        "score = 75\n",
        "if score >= 90:\n",
        " print('A입니다. ')\n",
        "elif score >= 80 :\n",
        " print('B입니다.')\n",
        "elif score >= 70 :\n",
        " print('C입니다.')\n",
        "elif score >= 60 :\n",
        " print('D입니다.')\n",
        "else:\n",
        " print('F입니다.')\n"
      ],
      "execution_count": null,
      "outputs": [
        {
          "output_type": "stream",
          "text": [
            "C입니다.\n"
          ],
          "name": "stdout"
        }
      ]
    },
    {
      "cell_type": "code",
      "metadata": {
        "colab": {
          "base_uri": "https://localhost:8080/"
        },
        "id": "EvvR-KDOthsT",
        "outputId": "2ae9939b-d2a0-47c5-9f5c-48e14d6c1037"
      },
      "source": [
        "score = 75\n",
        "if score >= 90:\n",
        " print('A입니다. ')\n",
        "if score >= 80 :\n",
        " print('B입니다.')\n",
        "if score >= 70 :\n",
        " print('C입니다.')\n",
        "if score >= 60 :\n",
        " print('D입니다.')\n",
        "else:\n",
        " print('F입니다.')\n"
      ],
      "execution_count": null,
      "outputs": [
        {
          "output_type": "stream",
          "text": [
            "C입니다.\n",
            "D입니다.\n"
          ],
          "name": "stdout"
        }
      ]
    },
    {
      "cell_type": "code",
      "metadata": {
        "colab": {
          "base_uri": "https://localhost:8080/"
        },
        "id": "w_HrjiYDttEs",
        "outputId": "64ef2218-9fda-40bc-f3e3-331047e6b458"
      },
      "source": [
        "# This is a guess the number game.\n",
        "print ('Hello! What is your name?')\n",
        "myName = input()\n",
        "number = 5\n",
        "print ( 'Well, ' + myName + ', I am thinking of a number between 1 and 20.')\n",
        "print ( 'Take a guess.')\n",
        "guess = input( )\n",
        "guess = int(guess)\n",
        "if guess != number:\n",
        " print ( 'Your guess is worong.')\n",
        "if guess == number:\n",
        " print ('Good job, ' + myName + '! You guessed my number!')\n"
      ],
      "execution_count": null,
      "outputs": [
        {
          "output_type": "stream",
          "text": [
            "Hello! What is your name?\n",
            "5\n",
            "Well, 5, I am thinking of a number between 1 and 20.\n",
            "Take a guess.\n",
            "5\n",
            "Good job, 5! You guessed my number!\n"
          ],
          "name": "stdout"
        }
      ]
    },
    {
      "cell_type": "code",
      "metadata": {
        "colab": {
          "base_uri": "https://localhost:8080/"
        },
        "id": "iM4wbl23t2TO",
        "outputId": "e12729ab-c491-428f-e940-9d126ac1cf46"
      },
      "source": [
        "currentAge = input('몇 살이세요?')\n",
        "currentAge = int(currentAge)\n",
        "futureAge = currentAge + 10\n",
        "print ('당신의 10년 후에 나이는 ' + str(futureAge) + '살 입니다.')"
      ],
      "execution_count": null,
      "outputs": [
        {
          "output_type": "stream",
          "text": [
            "몇 살이세요?2\n",
            "당신의 10년 후에 나이는 12살 입니다.\n"
          ],
          "name": "stdout"
        }
      ]
    },
    {
      "cell_type": "markdown",
      "metadata": {
        "id": "4vNmTQAE5vup"
      },
      "source": [
        "![](https://drive.google.com/uc?export=view&id=1Eh4ECL66UfH3j0ouAG7qK3aOr9ABriQ6"
      ]
    },
    {
      "cell_type": "markdown",
      "metadata": {
        "id": "Xp0d4wseuAho"
      },
      "source": [
        "# 3주차 실습"
      ]
    },
    {
      "cell_type": "markdown",
      "metadata": {
        "id": "3gdkjCKNuIYa"
      },
      "source": [
        "##3-1"
      ]
    },
    {
      "cell_type": "markdown",
      "metadata": {
        "id": "Hg33yl6K7OgH"
      },
      "source": [
        "###실습1:온도 변환 프로그램\n"
      ]
    },
    {
      "cell_type": "code",
      "metadata": {
        "colab": {
          "base_uri": "https://localhost:8080/"
        },
        "id": "zdKsBRXSuJBy",
        "outputId": "65ab660b-4af6-4f42-d024-c860f63f2d9c"
      },
      "source": [
        "print('학과:자유전공학과, 학번:2021-14284, 이름:양태현\\n')\n",
        "print('온도 변환 프로그램')\n",
        "f= int(input('화씨 온도를 입력하세요:'))\n",
        "c= 5.0/9.0*(f-32.0)\n",
        "print('섭씨 온도는 ',c,' 입니다.')\n",
        "c= int(input('\\n섭씨 온도를 입력하세요:'))\n",
        "f=9.0/5.0*c+32.0\n",
        "print('화씨 온도는 ',f,' 입니다.')\n",
        "\n",
        "\n"
      ],
      "execution_count": null,
      "outputs": [
        {
          "output_type": "stream",
          "text": [
            "학과:자유전공학과, 학번:2021-14284, 이름:양태현\n",
            "\n",
            "온도 변환 프로그램\n",
            "화씨 온도를 입력하세요:50\n",
            "섭씨 온도는  10.0  입니다.\n",
            "\n",
            "섭씨 온도를 입력하세요:50\n",
            "화씨 온도는  122.0  입니다.\n"
          ],
          "name": "stdout"
        }
      ]
    },
    {
      "cell_type": "markdown",
      "metadata": {
        "id": "w0bhSldU7T81"
      },
      "source": [
        "###실습2:환율 계산기"
      ]
    },
    {
      "cell_type": "code",
      "metadata": {
        "colab": {
          "base_uri": "https://localhost:8080/"
        },
        "id": "wJreDn1x7S5e",
        "outputId": "aa033488-a573-431c-8b5d-5636d2f9d674"
      },
      "source": [
        "print('환율계산 프로그램\\n')\n",
        "og=int(input('금액을 입력하세요:'))\n",
        "dollar=str(0.00084*og)\n",
        "yuan=str(og*0.15 )\n",
        "yen=str(og*0.0094)\n",
        "peso= str(og*0.021)\n",
        "og= str(og)\n",
        "\n",
        "print('대한민국 '+og+'원은 '+dollar+'달러입니다.')\n",
        "print('중국 '+og+'위안은 '+yuan+'달러입니다.')\n",
        "print('일본 ' +og+'엔은 '+yen+'달러입니다.')\n",
        "print('필리핀 '+og+'페소는 '+peso+'달러입니다.')"
      ],
      "execution_count": null,
      "outputs": [
        {
          "output_type": "stream",
          "text": [
            "환율계산 프로그램\n",
            "\n",
            "금액을 입력하세요:5000\n",
            "대한민국 5000원은 4.2달러입니다.\n",
            "중국 5000위안은 750.0달러입니다.\n",
            "일본 5000엔은 47.0달러입니다.\n",
            "필리핀 5000페소는 105.0달러입니다.\n"
          ],
          "name": "stdout"
        }
      ]
    },
    {
      "cell_type": "markdown",
      "metadata": {
        "id": "s3EchzGG9Qzl"
      },
      "source": [
        "###실습3:부가세 계산 프로그램"
      ]
    },
    {
      "cell_type": "code",
      "metadata": {
        "colab": {
          "base_uri": "https://localhost:8080/"
        },
        "id": "7l2mOUjx7eIv",
        "outputId": "a96d6012-5c5f-48a7-936d-0b1269d2a23f"
      },
      "source": [
        "print('부가세 계산 프로그램')\n",
        "total=int(input('합계금액을 입력하세요:'))\n",
        "tax= int(round(total *(10/110),0))\n",
        "payment=str(int(round(total-tax,0)))\n",
        "tax=str(tax)\n",
        "\n",
        "\n",
        "print('공급가액 '+payment+'원')\n",
        "print('세액 '+tax+'원입니다.')"
      ],
      "execution_count": null,
      "outputs": [
        {
          "output_type": "stream",
          "text": [
            "부가세 계산 프로그램\n",
            "합계금액을 입력하세요:100000\n",
            "공급가액 90909원\n",
            "세액 9091원입니다.\n"
          ],
          "name": "stdout"
        }
      ]
    },
    {
      "cell_type": "markdown",
      "metadata": {
        "id": "8mqOF-HE-2Es"
      },
      "source": [
        "###실습4:칼로리계산 프로그램(보너스)"
      ]
    },
    {
      "cell_type": "code",
      "metadata": {
        "colab": {
          "base_uri": "https://localhost:8080/"
        },
        "id": "OqmGKgw6-3F5",
        "outputId": "826c4234-766c-4186-d8b6-6e848dd1f018"
      },
      "source": [
        "print('칼로리 계산 프로그램')\n",
        "\n",
        "weight= int(input('몸무게(kg):'))\n",
        "time= int(input('운동시간(분):'))\n",
        "\n",
        "walk=str(((4 * 3.5 * weight /200)*time))\n",
        "jog=str(((7 * 3.5 * weight /200)*time))\n",
        "swim=str(((9 * 3.5 * weight /200)*time))\n",
        "stairs=str(((5 * 3.5 * weight /200)*time))\n",
        "time=str(time)\n",
        "\n",
        "print('\\n걷기운동 '+time+'분은 '+walk+'kcal가 소모됩니다. ')\n",
        "print('조깅운동 ' +time+'분은 '+jog+'kcal가 소모됩니다. ')\n",
        "print('계단오르기운동 '+time+'분은 '+stairs+'kcal가 소모됩니다. ')\n",
        "print('수영운동 '+time+'분은 '+swim+'kcal가 소모됩니다. ')"
      ],
      "execution_count": null,
      "outputs": [
        {
          "output_type": "stream",
          "text": [
            "칼로리 계산 프로그램\n",
            "몸무게(kg):60\n",
            "운동시간(분):10\n",
            "\n",
            "걷기운동 10분은 42.0kcal가 소모됩니다. \n",
            "조깅운동 10분은 73.5kcal가 소모됩니다. \n",
            "계단오르기운동 10분은 52.5kcal가 소모됩니다. \n",
            "수영운동 10분은 94.5kcal가 소모됩니다. \n"
          ],
          "name": "stdout"
        }
      ]
    },
    {
      "cell_type": "markdown",
      "metadata": {
        "id": "gN0977YuBm10"
      },
      "source": [
        "##3-2"
      ]
    },
    {
      "cell_type": "markdown",
      "metadata": {
        "id": "BWneDhpEBxl2"
      },
      "source": [
        "###실습1: 합격 여부 판단하는 프로그램"
      ]
    },
    {
      "cell_type": "code",
      "metadata": {
        "colab": {
          "base_uri": "https://localhost:8080/"
        },
        "id": "ayegAl8-ByQi",
        "outputId": "345f4073-f74c-41bb-9d1b-61b9fe4c7177"
      },
      "source": [
        "score=int(input('성적을 입력하시오.\\n'))\n",
        "if score>=90:\n",
        "  print('합격입니다.')\n",
        "else:\n",
        "  print('불합격입니다.')"
      ],
      "execution_count": null,
      "outputs": [
        {
          "output_type": "stream",
          "text": [
            "성적을 입력하시오.\n",
            "97\n",
            "합격입니다.\n"
          ],
          "name": "stdout"
        }
      ]
    },
    {
      "cell_type": "markdown",
      "metadata": {
        "id": "lH1qrmDACEH4"
      },
      "source": [
        "###실습2: 큰 수/작은 수/같은 수 출력하기"
      ]
    },
    {
      "cell_type": "code",
      "metadata": {
        "colab": {
          "base_uri": "https://localhost:8080/"
        },
        "id": "ILDI7EOgCFyX",
        "outputId": "f5f5cd85-7d42-4f89-e57b-65d7f9205c5a"
      },
      "source": [
        "first=int(input('첫 번째 정수를 입력하시오: '))\n",
        "second=int(input('두 번째 정수를 입력하시오: '))\n",
        "\n",
        "if first>second:\n",
        "  print('\\n큰수:',first)\n",
        "  print('작은수:',second)\n",
        "\n",
        "elif second>first:\n",
        "  print('\\n큰수:',second)\n",
        "  print('작은수:',first)\n",
        "\n",
        "else:\n",
        "  print('\\n두 수는 같습니다')"
      ],
      "execution_count": null,
      "outputs": [
        {
          "output_type": "stream",
          "text": [
            "첫 번째 정수를 입력하시오: 45\n",
            "두 번째 정수를 입력하시오: 45\n",
            "\n",
            "두 수는 같습니다\n"
          ],
          "name": "stdout"
        }
      ]
    },
    {
      "cell_type": "markdown",
      "metadata": {
        "id": "vQXjPtNmC3SE"
      },
      "source": [
        "###실습3: 짝수 홀수 검사하는 프로그램"
      ]
    },
    {
      "cell_type": "code",
      "metadata": {
        "colab": {
          "base_uri": "https://localhost:8080/"
        },
        "id": "AQcmdoFeC6Oq",
        "outputId": "ceb7c262-b634-4410-bb36-f8cc0ecf65fb"
      },
      "source": [
        "number= int(input('숫자를 입력하시오.\\n'))\n",
        "if (number%2)==0:\n",
        "  print('짝수입니다.')\n",
        "else:\n",
        "  print('홀수입니다.')"
      ],
      "execution_count": null,
      "outputs": [
        {
          "output_type": "stream",
          "text": [
            "숫자를 입력하시오.\n",
            "0\n",
            "짝수입니다.\n"
          ],
          "name": "stdout"
        }
      ]
    },
    {
      "cell_type": "markdown",
      "metadata": {
        "id": "cwYwidZWD-47"
      },
      "source": [
        "###실습4 : BMI계산프로그램"
      ]
    },
    {
      "cell_type": "code",
      "metadata": {
        "id": "TccBUjlNECWo"
      },
      "source": [
        "weight= float(input('몸무게(kg)와 키(m)를 차례대로 입력하세요.\\n'))\n",
        "height=float( (input()))\n",
        "bmi= weight/(height**2)\n",
        "print(\"BMI \", \"%.2f\"%bmi)\n",
        "if bmi>25:\n",
        "  print ('비만입니다. 운동으로 감량이 필요합니다.')\n",
        "else:\n",
        "  print('정상입니다. 꾸준한 운동으로 유지시켜주세요.')"
      ],
      "execution_count": null,
      "outputs": []
    },
    {
      "cell_type": "markdown",
      "metadata": {
        "id": "hqA93yGmGXXO"
      },
      "source": [
        "###실습5 : 범위 주고 난수 발생시키기\n",
        "\n"
      ]
    },
    {
      "cell_type": "code",
      "metadata": {
        "colab": {
          "base_uri": "https://localhost:8080/"
        },
        "id": "jB3zZUudGWrB",
        "outputId": "2c78a9cb-0b4e-4dc9-cd14-efef89284cac"
      },
      "source": [
        "import random\n",
        "start= int(input('범위의 시작 값을 입력하세요.\\n'))\n",
        "end= int(input('범위의 끝 값을 입력하세요.\\n'))\n",
        "\n",
        "if end<start:\n",
        "  print('끝 값을 잘못 입력하셨습니다.')\n",
        "\n",
        "else: \n",
        " \n",
        "  number= random.randint(start,end)\n",
        "  start=str(start)\n",
        "  end=str(end)\n",
        "  number=str(number)\n",
        "  print('범위 '+start+'부터 '+end+'가운데 선택된 랜덤 넘버는 '+number+'입니다.')\n"
      ],
      "execution_count": null,
      "outputs": [
        {
          "output_type": "stream",
          "text": [
            "범위의 시작 값을 입력하세요.\n",
            "100\n",
            "범위의 끝 값을 입력하세요.\n",
            "200\n",
            "범위 100부터 200가운데 선택된 랜덤 넘버는 172입니다.\n"
          ],
          "name": "stdout"
        }
      ]
    },
    {
      "cell_type": "markdown",
      "metadata": {
        "id": "MWw4yJYgHxqJ"
      },
      "source": [
        "###실습6:칼로리계산기(보너스)"
      ]
    },
    {
      "cell_type": "code",
      "metadata": {
        "colab": {
          "base_uri": "https://localhost:8080/"
        },
        "id": "geJ2XjzlHxC_",
        "outputId": "4f271938-3746-4a37-fea9-73e10624f324"
      },
      "source": [
        "print('칼로리 계산 프로그램')\n",
        "\n",
        "weight=float(input('몸무게(kg): '))\n",
        "time=float(input('운동시간(분): '))\n",
        "selection= int(input('운동종목(1.걷기, 2. 조깅, 3.계단오르기, 4.수영):'))\n",
        "walk=str(((4 * 3.5 * weight /200)*time))\n",
        "jog=str(((7 * 3.5 * weight /200)*time))\n",
        "stairs=str(((5 * 3.5 * weight /200)*time))\n",
        "swim=str(((9 * 3.5 * weight /200)*time))\n",
        "time=str(time)\n",
        "\n",
        "if selection==1:\n",
        "  print('\\n걷기운동 '+time+'분은 '+walk+'kcal가 소모됩니다.')\n",
        "  \n",
        "elif selection==2:\n",
        "  print('\\n조깅운동 '+time+'분은 '+jog+'kcal가 소모됩니다.')\n",
        "\n",
        "elif selection==3:\n",
        "  print('\\n계단 오르기운동 '+time+'분은 '+jog+'kcal가 소모됩니다.')\n",
        "\n",
        "elif selection==4:\n",
        "  print('\\n수영운동 '+time+'분은 '+jog+'kcal가 소모됩니다.')\n",
        "\n",
        "else:\n",
        "  print('\\n포함되지 않은 운동종목입니다.')\n"
      ],
      "execution_count": null,
      "outputs": [
        {
          "output_type": "stream",
          "text": [
            "칼로리 계산 프로그램\n",
            "몸무게(kg): 10\n",
            "운동시간(분): 50\n",
            "운동종목(1.걷기, 2. 조깅, 3.계단오르기, 4.수영):5\n",
            "\n",
            "포함되지 않은 운동종목입니다.\n"
          ],
          "name": "stdout"
        }
      ]
    },
    {
      "cell_type": "markdown",
      "metadata": {
        "id": "ZPOPg0rkJN6s"
      },
      "source": [
        "###실습7:환율 계산기(보너스)"
      ]
    },
    {
      "cell_type": "code",
      "metadata": {
        "colab": {
          "base_uri": "https://localhost:8080/"
        },
        "id": "jvI-ehBlH8G_",
        "outputId": "b417d60f-79ed-450c-a511-f2a8eedd0e7a"
      },
      "source": [
        "print(\"환율계산 프로그램\\n\")\n",
        "won=int(input('금액을 입력하세요(대한민국 원): '))\n",
        "country=input('변환대상국을 입력하세요: ')\n",
        "\n",
        "dollar=won*0.00084\n",
        "yuan=str(round(dollar/0.15,1))\n",
        "yen=str(round(dollar/0.0094,2))\n",
        "peso=str(round(dollar/0.0021,1))\n",
        "dollar=str(round(dollar,2))\n",
        "won=str(won)\n",
        "\n",
        "if country=='중국':\n",
        "  print(\"대한민국 \"+won+'원은 중국 '+yuan+'위안입니다.')\n",
        "\n",
        "elif country=='미국':\n",
        "  print(\"대한민국 \"+won+'원은 미국 '+dollar+'달러입니다.')\n",
        "\n",
        "elif country=='일본':\n",
        "  print(\"대한민국 \"+won+'원은 일본 '+yen+'옌입니다.')\n",
        "\n",
        "elif country=='필리핀':\n",
        "  print(\"대한민국 \"+won+'원은 필리핀 '+peso+'페소입니다.')\n",
        "\n",
        "else:\n",
        "  print('죄송합니다. 아직 통화변환 서비스 대상이 아닌 국가입니다.')\n"
      ],
      "execution_count": null,
      "outputs": [
        {
          "output_type": "stream",
          "text": [
            "환율계산 프로그램\n",
            "\n",
            "금액을 입력하세요(대한민국 원): 500\n",
            "변환대상국을 입력하세요: 일본\n",
            "대한민국 500원은 일본 44.68옌입니다.\n"
          ],
          "name": "stdout"
        }
      ]
    },
    {
      "cell_type": "markdown",
      "metadata": {
        "id": "QeGIfvhwNa-Y"
      },
      "source": [
        "###실습8:환율 계산기2(보너스)"
      ]
    },
    {
      "cell_type": "code",
      "metadata": {
        "id": "FnkecjjSKhFO"
      },
      "source": [
        "\n",
        "print(\"환율계산 프로그램\\n\")\n",
        "\n",
        "fromc=input('지정국가:')\n",
        "toc=input('대상국가:')\n",
        "price=int(input('금액:'))\n",
        "\n",
        "if fromc=='대한민국':\n",
        "  dollar=price*0.00084\n",
        "  currency='원은'\n",
        "elif fromc=='중국':\n",
        "  dollar= 0.15*price\n",
        "  currency='위안은'\n",
        "elif fromc=='일본':\n",
        "  dollar= 0.0094*price\n",
        "  currency='옌은'\n",
        "elif fromc=='필리핀':\n",
        "  dollar= 0.021*price\n",
        "  currency='페소는'\n",
        "elif fromc=='미국':\n",
        " dollar=price\n",
        " currency='달러는'\n",
        "else:\n",
        "  print('죄송합니다. 아직 통화변환 서비스 대상이 아닌 국가입니다.')\n",
        "  \n",
        "\n",
        "price= str(round(price,0))\n",
        "\n",
        "if toc=='대한민국':\n",
        "  won=str(round(dollar/0.00084,2))\n",
        "  print(fromc+' '+price+currency+' '+toc+won+'원입니다.')\n",
        "elif toc=='중국':\n",
        "  yuan=str(round(dollar/0.15,2))\n",
        "  print(fromc+' '+price+currency+' '+toc+yuan+'위안입니다.')\n",
        "elif toc=='일본':\n",
        "  dollar= 0.0094*price\n",
        "  yen=str(round(dollar/0.0094,2))\n",
        "  print(fromc+' '+price+currency+' '+toc+yen+'옌입니다.')\n",
        "elif toc=='필리핀':\n",
        "  dollar= 0.021*price\n",
        "  peso=str(round(dollar/0.021,2))\n",
        "  print(fromc+' '+price+currency+' '+toc+peso+'페소입니다.')\n",
        "elif toc=='미국':\n",
        "  dollar=price\n",
        "  dollar=str(round(dollar,2))\n",
        "  print(fromc+' '+price+currency+' '+toc+dollar+'달라입니다.')\n",
        "else:\n",
        " print('죄송합니다. 아직 통화변환 서비스 대상이 아닌 국가입니다.')\n",
        "\n",
        "\n"
      ],
      "execution_count": null,
      "outputs": []
    },
    {
      "cell_type": "markdown",
      "metadata": {
        "id": "6MouVcu9SmIE"
      },
      "source": [
        "###실습9: 미세먼지 농도 결과 알려주기(보너스)"
      ]
    },
    {
      "cell_type": "code",
      "metadata": {
        "colab": {
          "base_uri": "https://localhost:8080/"
        },
        "id": "VRRFCraeSnxU",
        "outputId": "2833a12c-f024-402c-eb97-df56f6bcb69c"
      },
      "source": [
        "print('미세먼지 농도 결과 알림 프로그램\\n')\n",
        "aqi=int(input('오늘의 미세먼지 농도는?'))\n",
        "if aqi<=30:\n",
        "  print('오늘의 미세먼지는 좋음입니다.')\n",
        "\n",
        "if 30<aqi<=80:\n",
        "  print('오늘의 미세먼지는 괜찮습니다.')\n",
        "\n",
        "if 80<aqi<=150:\n",
        "  print(\"오늘의 미세먼지는 나쁨입니다.\")\n",
        "\n",
        "if 150<aqi:\n",
        "  print(\"오늘의 미세먼지는 매우나쁨입니다.미세먼지 경계 단계입니다!!\")\n",
        "\n",
        "\n"
      ],
      "execution_count": null,
      "outputs": [
        {
          "output_type": "stream",
          "text": [
            "미세먼지 농도 결과 알림 프로그램\n",
            "\n",
            "오늘의 미세먼지 농도는?90\n",
            "오늘의 미세먼지는 나쁨입니다.\n"
          ],
          "name": "stdout"
        }
      ]
    },
    {
      "cell_type": "markdown",
      "metadata": {
        "id": "Ch6shOj5TY9-"
      },
      "source": [
        "###실습10: 합격/불합격 결과 알려주기(보너스)\n"
      ]
    },
    {
      "cell_type": "code",
      "metadata": {
        "colab": {
          "base_uri": "https://localhost:8080/"
        },
        "id": "E475MaEhStmA",
        "outputId": "94a6788c-b022-4541-b127-7bf43a8fa8af"
      },
      "source": [
        "name= input('당신의 이름은? ')\n",
        "guk= int(input('국어 점수는? '))\n",
        "math= int(input('수학 점수는? '))\n",
        "cs= int(input('컴퓨팅기초 점수는? '))\n",
        "\n",
        "above40=(guk>=40) and (math>=40) and (cs>=40)\n",
        "average60= ((guk+math+cs)/3)>=60\n",
        "\n",
        "if above40 and average60:\n",
        "  print(name+'님은 합격입니다')\n",
        "\n",
        "elif average60 and not(above40):\n",
        "  print(name+'님은 과락...입니다.')\n",
        "\n",
        "else :\n",
        "  print(name+'님은 불합격...입니다.')"
      ],
      "execution_count": null,
      "outputs": [
        {
          "output_type": "stream",
          "text": [
            "당신의 이름은? 홍길동\n",
            "국어 점수는? 62\n",
            "수학 점수는? 37\n",
            "컴퓨팅기초 점수는? 68\n",
            "홍길동님은 불합격...입니다.\n"
          ],
          "name": "stdout"
        }
      ]
    },
    {
      "cell_type": "markdown",
      "metadata": {
        "id": "5qUMkcEr66RF"
      },
      "source": [
        "#4주차 실습"
      ]
    },
    {
      "cell_type": "markdown",
      "metadata": {
        "id": "KdemWsMD7LSE"
      },
      "source": [
        "##4-1"
      ]
    },
    {
      "cell_type": "markdown",
      "metadata": {
        "id": "6r9NLxCV7c1L"
      },
      "source": [
        "###실습1:나무찍기"
      ]
    },
    {
      "cell_type": "code",
      "metadata": {
        "colab": {
          "base_uri": "https://localhost:8080/"
        },
        "id": "IYOdVt-L7b7X",
        "outputId": "493c19a9-e438-4601-c1be-c5c8546147ad"
      },
      "source": [
        "print(\"열 번 찍어 안 넘어가는 나무 없다!!!\\n\")\n",
        "count =1\n",
        "\n",
        "while count<=10:\n",
        "  print(\"나무를\", count, \"번 찍었습니다.\")\n",
        "  count= count+1\n",
        "\n",
        "print(\"\\n간다~간다~ 넘어간다!!!\")\n"
      ],
      "execution_count": null,
      "outputs": [
        {
          "output_type": "stream",
          "text": [
            "열 번 찍어 안 넘어가는 나무 없다!!!\n",
            "\n",
            "나무를 1 번 찍었습니다.\n",
            "나무를 2 번 찍었습니다.\n",
            "나무를 3 번 찍었습니다.\n",
            "나무를 4 번 찍었습니다.\n",
            "나무를 5 번 찍었습니다.\n",
            "나무를 6 번 찍었습니다.\n",
            "나무를 7 번 찍었습니다.\n",
            "나무를 8 번 찍었습니다.\n",
            "나무를 9 번 찍었습니다.\n",
            "나무를 10 번 찍었습니다.\n",
            "\n",
            "간다~간다~ 넘어간다!!!\n"
          ],
          "name": "stdout"
        }
      ]
    },
    {
      "cell_type": "markdown",
      "metadata": {
        "id": "wOdfcY4k77xh"
      },
      "source": [
        "###실습2: 티끌 모아 태산\n"
      ]
    },
    {
      "cell_type": "code",
      "metadata": {
        "colab": {
          "base_uri": "https://localhost:8080/"
        },
        "id": "W8WSUfop7itn",
        "outputId": "bfa80985-2c84-48f5-f174-ea7612bf1188"
      },
      "source": [
        "print(\"티끌 모아 태산!!!\\n\")\n",
        "count = 1\n",
        "\n",
        "while count<=10:\n",
        "  \n",
        "  coin=str(count*100)\n",
        "  print(\"땡그랑,\"*count+\"동전 \"+coin+\"원을 모았습니다.\")\n",
        "  count=count+1\n",
        "\n",
        "print(\"\\n산다. 산다. 집 산다!!!\")\n"
      ],
      "execution_count": null,
      "outputs": [
        {
          "output_type": "stream",
          "text": [
            "티끌 모아 태산!!!\n",
            "\n",
            "땡그랑,동전 100원을 모았습니다.\n",
            "땡그랑,땡그랑,동전 200원을 모았습니다.\n",
            "땡그랑,땡그랑,땡그랑,동전 300원을 모았습니다.\n",
            "땡그랑,땡그랑,땡그랑,땡그랑,동전 400원을 모았습니다.\n",
            "땡그랑,땡그랑,땡그랑,땡그랑,땡그랑,동전 500원을 모았습니다.\n",
            "땡그랑,땡그랑,땡그랑,땡그랑,땡그랑,땡그랑,동전 600원을 모았습니다.\n",
            "땡그랑,땡그랑,땡그랑,땡그랑,땡그랑,땡그랑,땡그랑,동전 700원을 모았습니다.\n",
            "땡그랑,땡그랑,땡그랑,땡그랑,땡그랑,땡그랑,땡그랑,땡그랑,동전 800원을 모았습니다.\n",
            "땡그랑,땡그랑,땡그랑,땡그랑,땡그랑,땡그랑,땡그랑,땡그랑,땡그랑,동전 900원을 모았습니다.\n",
            "땡그랑,땡그랑,땡그랑,땡그랑,땡그랑,땡그랑,땡그랑,땡그랑,땡그랑,땡그랑,동전 1000원을 모았습니다.\n",
            "\n",
            "산다. 산다. 집 산다!!!\n"
          ],
          "name": "stdout"
        }
      ]
    },
    {
      "cell_type": "markdown",
      "metadata": {
        "id": "SOPTdEbF9YiP"
      },
      "source": [
        "###실습3: 로또번호 생성 프로그램"
      ]
    },
    {
      "cell_type": "code",
      "metadata": {
        "colab": {
          "base_uri": "https://localhost:8080/"
        },
        "id": "RKFA2hYe8A10",
        "outputId": "df012dab-900b-4723-e2c5-a2a64d7cc448"
      },
      "source": [
        "import random\n",
        "\n",
        "print(\"로또번호 생성기 프로그램\")\n",
        "count=1\n",
        "number=0\n",
        "while count<=6:\n",
        "  count=str(count)\n",
        "  number=str(random.randint(1,45))\n",
        "  print(count+\"번째 번호는 \"+number+\"입니다.\")\n",
        "  count=int(count)+1\n",
        "\n",
        "print(\"\\n산다. 산다. 집 산다!!!\")\n",
        "  \n",
        "  "
      ],
      "execution_count": null,
      "outputs": [
        {
          "output_type": "stream",
          "text": [
            "로또번호 생성기 프로그램\n",
            "1번째 번호는 37입니다.\n",
            "2번째 번호는 35입니다.\n",
            "3번째 번호는 33입니다.\n",
            "4번째 번호는 32입니다.\n",
            "5번째 번호는 29입니다.\n",
            "6번째 번호는 42입니다.\n",
            "\n",
            "산다. 산다. 집 산다!!!\n"
          ],
          "name": "stdout"
        }
      ]
    },
    {
      "cell_type": "markdown",
      "metadata": {
        "id": "ViFsisAx-_tm"
      },
      "source": [
        "###실습4-1: 로그인 프로그램1\n"
      ]
    },
    {
      "cell_type": "code",
      "metadata": {
        "colab": {
          "base_uri": "https://localhost:8080/"
        },
        "id": "gy1CTrys-Lc-",
        "outputId": "3641e36c-792c-425e-aa07-1a80fbac2d2d"
      },
      "source": [
        "guess=input(\"암호를 입력하세요.\\n\")\n",
        "\n",
        "\n",
        "while not(guess==\"pythonisfun\"):\n",
        "  \n",
        "  guess=input(\"암호를 입력하세요.\\n\")\n",
        "\n",
        "print(\"로그인 성공\")\n"
      ],
      "execution_count": null,
      "outputs": [
        {
          "output_type": "stream",
          "text": [
            "암호를 입력하세요.\n",
            "pythonis\n",
            "암호를 입력하세요.\n",
            "funfunf\n",
            "암호를 입력하세요.\n",
            "d\n",
            "암호를 입력하세요.\n",
            "pythonisfun\n",
            "로그인 성공\n"
          ],
          "name": "stdout"
        }
      ]
    },
    {
      "cell_type": "markdown",
      "metadata": {
        "id": "DKZYAr8c_nH2"
      },
      "source": [
        "실습4-2: 로그인 프로그램2"
      ]
    },
    {
      "cell_type": "code",
      "metadata": {
        "colab": {
          "base_uri": "https://localhost:8080/"
        },
        "id": "F2bJqQUj_r6E",
        "outputId": "298ffa81-6099-4c13-a2ec-c0fb05b560b9"
      },
      "source": [
        "\n",
        "count=1\n",
        "\n",
        "while not(guess==\"pythonisfun\") and count<=5:\n",
        "  \n",
        "  guess=input(\"암호를 입력하세요.\\n\")\n",
        "  count=count+1\n",
        "\n",
        "if count<=5:\n",
        "  print(\"로그인 성공\")\n",
        "\n",
        "else:\n",
        "  print(\"5회 틀렸습니다. 로그인에 실패하셨습니다\")"
      ],
      "execution_count": null,
      "outputs": [
        {
          "output_type": "stream",
          "text": [
            "암호를 입력하세요.\n",
            "pythonisfun\n",
            "로그인 성공\n"
          ],
          "name": "stdout"
        }
      ]
    },
    {
      "cell_type": "markdown",
      "metadata": {
        "id": "Fu65eP_FAKZg"
      },
      "source": [
        "###실습5-1: 구구단 출력1"
      ]
    },
    {
      "cell_type": "code",
      "metadata": {
        "colab": {
          "base_uri": "https://localhost:8080/"
        },
        "id": "rgLWJO-wAK8F",
        "outputId": "101648e3-2380-45d1-f692-ac65f923ce3a"
      },
      "source": [
        "number= int(input(\"원하는 단은:\"))\n",
        "count=1\n",
        "\n",
        "while count<=9:\n",
        "  answer= str(number*count)\n",
        "  count=str(count)\n",
        "  number=str(number)\n",
        "  print(number+\"*\"+count+\"=\"+answer)\n",
        "  count=int(count)+1\n",
        "  number=int(number)"
      ],
      "execution_count": null,
      "outputs": [
        {
          "output_type": "stream",
          "text": [
            "원하는 단은:1\n",
            "1*1=1\n",
            "1*2=2\n",
            "1*3=3\n",
            "1*4=4\n",
            "1*5=5\n",
            "1*6=6\n",
            "1*7=7\n",
            "1*8=8\n",
            "1*9=9\n"
          ],
          "name": "stdout"
        }
      ]
    },
    {
      "cell_type": "markdown",
      "metadata": {
        "id": "oKRFZPFNBSqH"
      },
      "source": [
        "###실습5-2: 구구단 출력하기2"
      ]
    },
    {
      "cell_type": "code",
      "metadata": {
        "id": "S7vIQGptBTC_"
      },
      "source": [
        "number=2\n",
        "count=1\n",
        "while number<=9:\n",
        "  number=str(number)\n",
        "  print(\"\\n\"+number+'단')\n",
        "  number=int(number)\n",
        "  while count<=9:\n",
        "    answer= str(number*count)\n",
        "    count=str(count)\n",
        "    number=str(number)\n",
        "    print(number+\"*\"+count+\"=\"+answer)\n",
        "    count=int(count)+1\n",
        "    number=int(number)\n",
        "    \n",
        "  count=1\n",
        "  number=int(number)+1"
      ],
      "execution_count": null,
      "outputs": []
    },
    {
      "cell_type": "markdown",
      "metadata": {
        "id": "6SBey56oClBF"
      },
      "source": [
        "###실습6: 입력 받은 수까지 합 구하기"
      ]
    },
    {
      "cell_type": "code",
      "metadata": {
        "id": "gHuWahzDCmUa"
      },
      "source": [
        "number=int(input(\"숫자를 입력하세요 :\"))\n",
        "count=1\n",
        "answer=0\n",
        "while count<=number:\n",
        "  answer=answer+count\n",
        "  count=count+1\n",
        "\n",
        "print(\"합:\", answer)"
      ],
      "execution_count": null,
      "outputs": []
    },
    {
      "cell_type": "markdown",
      "metadata": {
        "id": "HyDVwWx_DHmr"
      },
      "source": [
        "###실습7: Summation / Average / Max / Min  FINISHED"
      ]
    },
    {
      "cell_type": "code",
      "metadata": {
        "id": "LIQWj6VKDI09"
      },
      "source": [
        "sum=0\n",
        "count=1\n",
        "big=0\n",
        "small=0\n",
        "\n",
        "\n",
        "while True:\n",
        "  number=input(\"숫자 혹은 '입력 끝'을 입력하세요. \\n\")\n",
        "  \n",
        "  if (number=='입력 끝'):\n",
        "     break\n",
        "\n",
        "  else:\n",
        "    number=int(number)\n",
        "    sum=(number)+sum\n",
        "\n",
        "  if count==1:\n",
        "    big= int(number)\n",
        "    small= int(number)\n",
        "    \n",
        "  \n",
        "  if big<=number:\n",
        "      big=number\n",
        "  \n",
        "  if small>=number:\n",
        "      small=number\n",
        "  \n",
        "\n",
        "  \n",
        "  count=count+1\n",
        "  \n",
        "\n",
        "\n",
        "\n",
        "if (count==1) :\n",
        "  print('입력한 숫자가 없습니다')\n",
        "\n",
        "else :\n",
        "  average= sum/(count-1)\n",
        "  print(\"입력 받은 숫자들의 합:\",sum)\n",
        "  print(\"입력 받은 숫자들의 평균:\",average)\n",
        "  print(\"가장 큰 숫자:\",big)\n",
        "  print(\"가장 작은 숫자:\",small)  \n"
      ],
      "execution_count": null,
      "outputs": []
    },
    {
      "cell_type": "markdown",
      "metadata": {
        "id": "Q8nCsGeqJr5I"
      },
      "source": [
        "##4-2"
      ]
    },
    {
      "cell_type": "code",
      "metadata": {
        "colab": {
          "base_uri": "https://localhost:8080/"
        },
        "id": "0w0PjheEa20b",
        "outputId": "43ffcb5e-d9cb-4436-e8ec-a8330976aa88"
      },
      "source": [
        ""
      ],
      "execution_count": null,
      "outputs": [
        {
          "output_type": "stream",
          "text": [
            "/bin/bash: -c: line 0: syntax error near unexpected token `https://drive.google.com/file/d/1B-vPv_bzw909Z8kzHNL0KlgutwXsVUOn/view?usp=sharing'\n",
            "/bin/bash: -c: line 0: `[picture](https://drive.google.com/file/d/1B-vPv_bzw909Z8kzHNL0KlgutwXsVUOn/view?usp=sharing)'\n"
          ],
          "name": "stdout"
        }
      ]
    },
    {
      "cell_type": "markdown",
      "metadata": {
        "id": "9y6cCY7JKHHZ"
      },
      "source": [
        "###실습1: Dragon realm (열심히 해봤으니 봐주세요 ㅎㅎ)\n"
      ]
    },
    {
      "cell_type": "code",
      "metadata": {
        "id": "88PysXIJJsnw",
        "colab": {
          "base_uri": "https://localhost:8080/",
          "height": 1000
        },
        "outputId": "d68d529e-8293-437b-8244-f44165923c2b"
      },
      "source": [
        "import time, random, os\n",
        "\n",
        "def colored(r, g, b, text):\n",
        "    return \"\\033[38;2;{};{};{}m{} \\033[38;2;255;255;255m\".format(r, g, b, text)\n",
        "\n",
        "def dragongame():\n",
        "  print(\"\\nYou are the heir of a King's knight in a land full of dragons.\")\n",
        "  time.sleep(3)\n",
        "  print(\"Your ancestors have failed the king and you arrive to the dragon's den.\")\n",
        "  time.sleep(3)\n",
        "  print(\"You promise yourself you will finish the unfinished deed and bring honor back to your family\")\n",
        "  time.sleep(3)\n",
        "  print(\"In front of you, you see two caves.\")\n",
        "  time.sleep(3)\n",
        "  print(\"In one cave, the dragon is friendly\")\n",
        "  time.sleep(2)\n",
        "  print(\"and will share his treasure with you.\")\n",
        "  time.sleep(2)\n",
        "  print(\"The other dragon is greedy and hungry,\")\n",
        "  time.sleep(2)\n",
        "  print(\"and will eat you on sight...\")\n",
        "  time.sleep(2)\n",
        "\n",
        "  path= input(\"\\nDaring adventure, choose your path between 1 or 2. Neither cowardice nor an half-assed answer will be tolerated.\")\n",
        "  while not(path==\"1\" or path ==\"2\"):\n",
        "        path=input(\"Muster your courage, adventurer, and hastily choose between path 1 or 2 \")\n",
        "        if path==\"1\" or path ==\"2\":\n",
        "          break\n",
        "\n",
        "  print(\"\\nYou slowly approach the cave you have chosen.\")\n",
        "  time.sleep(3)\n",
        "  print(\"The darkness embraces you as you slowly proceed into the mouth of the cave\")\n",
        "  time.sleep(3)\n",
        "  print(\"Every step you take reminds you of the terrors of the myth\")\n",
        "  time.sleep(2)\n",
        "  print(\"or the reward you will reap for your well chosen path\")\n",
        "  time.sleep(2)\n",
        "  print(\"... ...\")\n",
        "  time.sleep(2)\n",
        "  print(\"... ... ...\")\n",
        "  time.sleep(2)\n",
        "  print(\"You have approached an endless abyss. \")\n",
        "  time.sleep(2)\n",
        "\n",
        "\n",
        "  print(\"\\nThis will be your final chance to change your decision.\")\n",
        "  time.sleep(3)\n",
        "  print(\"You gamble with your life and if you win, you may be rewarded with lifelong wealth.\")\n",
        "  time.sleep(3)\n",
        "\n",
        "  light= input(\"\\nIf you lose, you may suffer a gruesome death no one will have imagined. Will you shine your torch towards the Abyss? (y/n)\")\n",
        "  while not(light==\"y\" or light ==\"n\"):\n",
        "        light=input(\"Muster your courage, adventurer, and hastily choose between path y or n \")\n",
        "        if light==\"y\" or light ==\"n\":\n",
        "          break\n",
        "  number=random.randint(1,2)\n",
        "  if (light==\"y\"):\n",
        "    if (int(path)==number):\n",
        "      print(\"\\nYour courage has been rewarded. The benevolent dragon offers to share his valued treasures.\")\n",
        "      time.sleep(3)\n",
        "      print(\"You return to your village and is praised as a hero for your courageous acts. \")\n",
        "      time.sleep(2)\n",
        "      print(\"You become a legend many will live on tell.\")\n",
        "      quit()\n",
        "\n",
        "    else:\n",
        "      print(\"\\nAs you shine the light down the seemingly endless abyss, a large creature emerges.\")\n",
        "      time.sleep(3)\n",
        "      print(\"It is time to prove yourself adventurer. Prove your worth or suffer a terrible death!\")\n",
        "      time.sleep(3)\n",
        "      print(\"You unsheath your sword as you prepare for battle.\")\n",
        "      battle()\n",
        "\n",
        "  if (light==\"n\"):\n",
        "    print(\"\\nYou coward as you drop your belongings and run for the exit\")\n",
        "    time.sleep(3)\n",
        "    print(\"The townsfolk that depended on you are dissapointed and the King executes you to death for failing his command.\")\n",
        "    time.sleep(3)\n",
        "    print(\"Meanwhile, your son watches your execution and promises himself to finish his father's unfinished mission\")\n",
        "    time.sleep(3)\n",
        "    print(\"Who knows, maybe your son will be the fabled Knight to collect the Dragon's Treasures.\")\n",
        "\n",
        "\n",
        "  again= input(\"\\nDo you want to play again?(y/n) by the way there IS a battle scene\")\n",
        "\n",
        "  if again=='y':\n",
        "    dragongame()\n",
        "\n",
        "  elif again=='n':\n",
        "\n",
        "    print(\"thank you for playing!\")\n",
        "\n",
        "  elif again=='b':\n",
        "    battle()\n",
        "\n",
        "  return  \n",
        "\n",
        "\n",
        "def battle():\n",
        "  time.sleep(2)\n",
        "  print(\"\\nThe Ravenous Dragon roars as you drop into the abyss.\")\n",
        "  time.sleep(2)\n",
        "  print(\"You manage to barely land on your feet and regain balance as prepare youself for battle.\")\n",
        "  time.sleep(2)\n",
        "\n",
        "  dragonh=5\n",
        "  userh=4\n",
        "  while (dragonh>0 and userh>0):\n",
        "    dragonmove=random.randint(1,2)\n",
        "  \n",
        "    move= input(\"\\nThe dragon prepares for an attack, will you dodge or defend with your shield? ('d'for dodge/ 's' for shield)\")\n",
        "    if not(move==\"d\" or move ==\"s\"):\n",
        "      print(\"you fail to decide in time and the dragon strikes you. you lose 25% of your Health Point\")\n",
        "      userh=userh-1\n",
        "    \n",
        "    elif (move==\"s\"):\n",
        "     move= 1\n",
        "     if (move==dragonmove):\n",
        "        print(\"\\nThe dragon strikes you with its claws\")\n",
        "        time.sleep(2)\n",
        "        print(\"But you barely manage to block with your shield!\")\n",
        "        time.sleep(2)\n",
        "        print(\"The dragon is stunned and you Attack with a reposte! The Dragon seems disturbed.\")\n",
        "        dragonh=dragonh-1\n",
        "        time.sleep(2)\n",
        "     else:\n",
        "        print(\"\\nThe dragon launches a ball of flame as you bolster up with your shield.\")\n",
        "        time.sleep(2)\n",
        "        print(\"The Shield is completely useless against the heat!\")\n",
        "        time.sleep(2)\n",
        "        print(\"The combustion gets your skin and you lose 25% of your healthpoint.\")\n",
        "        time.sleep(2)\n",
        "        print(\"This is going to be an uphill battle.\")\n",
        "        userh=userh-1\n",
        "        time.sleep(2)\n",
        "\n",
        "    elif (move==\"d\"):\n",
        "      move=2\n",
        "      if (move==dragonmove):\n",
        "        print(\"\\nThe dragon launches a beam of flame as you strafe towards its tail.\")\n",
        "        time.sleep(2)\n",
        "        print(\"As its too busy breathing fire, you slash its tail!\")\n",
        "        time.sleep(2)\n",
        "        print(\"Pieces of its scale fall off. The dragon seems exhuasted.\")\n",
        "        dragonh=dragonh-1\n",
        "        time.sleep(2)\n",
        "      else:\n",
        "        print(\"\\nThe dragon strikes you with its claws\")\n",
        "        time.sleep(2)\n",
        "        print(\"You roll to the side but its Wide Stride manages to puncture your armor!\")\n",
        "        time.sleep(2)\n",
        "        print(\"Bloodstain is on your arm and you suffer hemorage. You lose 25% of your Health Point\")\n",
        "        userh=userh-1\n",
        "        time.sleep(2)\n",
        "\n",
        "  if dragonh==0:\n",
        "    time.sleep(3)\n",
        "    print(\"\\nThe Dragon seems infuriated and it prepares for its final attack!\")\n",
        "    time.sleep(2)\n",
        "    print(\"As it charges up its last and final breath of fire, you stab your trusty sword right into its chest!\")\n",
        "    time.sleep(3)\n",
        "    print(\"The Dragon's Corpse collapses as you take a breath.\")\n",
        "    time.sleep(3)\n",
        "    print(\"\\nYour courage has been rewarded and you collect the treasures the ravenous dragon was guarding.\")\n",
        "    time.sleep(3)\n",
        "    print(\"You return to your village and is praised as a hero for your courageous acts. \")\n",
        "    time.sleep(2)\n",
        "    print(\"You become a legend many will live on tell.\")\n",
        "    quit()\n",
        "\n",
        "  elif userh==0:\n",
        "    time.sleep(3)\n",
        "    print(\"\\nThe Dragon seems infuriated and it prepares for its final attack!\")\n",
        "    time.sleep(2)\n",
        "    print(\"As it charges up its last and final breath of fire, you fail to dodge its attack\")\n",
        "    time.sleep(3)\n",
        "    print(\"Flame engulfs your body as you scream out of terror\")\n",
        "    time.sleep(3)\n",
        "    print(\"The Dragon bites your burning body and devours your entire corpse\")\n",
        "    time.sleep(3)\n",
        "    print(\"You have fought well but the dragon was too strong of an opponent.\")\n",
        "    time.sleep(3)\n",
        "    print(\"\\n...Meanwhile, your son hears your defeat and promises himself to finish his father's unfinished mission\")\n",
        "    time.sleep(3)\n",
        "    print(\"Who knows, maybe your son will be the fabled knight to collect the Dragon's Treasures.\")\n",
        "    time.sleep(3)\n",
        "    \n",
        "\n",
        "\n",
        "    return\n",
        "dragongame()\n",
        "\n",
        "  \n"
      ],
      "execution_count": null,
      "outputs": [
        {
          "output_type": "stream",
          "text": [
            "\n",
            "You are the heir of a King's knight in a land full of dragons.\n",
            "Your ancestors have failed the king and you arrive to the dragon's den.\n",
            "You promise yourself you will finish the unfinished deed and bring honor back to your family\n",
            "In front of you, you see two caves.\n",
            "In one cave, the dragon is friendly\n",
            "and will share his treasure with you.\n",
            "The other dragon is greedy and hungry,\n",
            "and will eat you on sight...\n",
            "\n",
            "Daring adventure, choose your path between 1 or 2. Neither cowardice nor an half-assed answer will be tolerated.2\n",
            "\n",
            "You slowly approach the cave you have chosen.\n",
            "The darkness embraces you as you slowly proceed into the mouth of the cave\n",
            "Every step you take reminds you of the terrors of the myth\n",
            "or the reward you will reap for your well chosen path\n",
            "... ...\n",
            "... ... ...\n",
            "You have approached an endless abyss. \n",
            "\n",
            "This will be your final chance to change your decision.\n",
            "You gamble with your life and if you win, you may be rewarded with lifelong wealth.\n",
            "\n",
            "If you lose, you may suffer a gruesome death no one will have imagined. Will you shine your torch towards the Abyss? (y/n)y\n",
            "\n",
            "As you shine the light down the seemingly endless abyss, a large creature emerges.\n",
            "It is time to prove yourself adventurer. Prove your worth or suffer a terrible death!\n",
            "You unsheath your sword as you prepare for battle.\n",
            "\n",
            "The Ravenous Dragon roars as you drop into the abyss.\n",
            "You manage to barely land on your feet and regain balance as prepare youself for battle.\n"
          ],
          "name": "stdout"
        },
        {
          "output_type": "error",
          "ename": "KeyboardInterrupt",
          "evalue": "ignored",
          "traceback": [
            "\u001b[0;31m---------------------------------------------------------------------------\u001b[0m",
            "\u001b[0;31mKeyboardInterrupt\u001b[0m                         Traceback (most recent call last)",
            "\u001b[0;32m/usr/local/lib/python3.7/dist-packages/ipykernel/kernelbase.py\u001b[0m in \u001b[0;36m_input_request\u001b[0;34m(self, prompt, ident, parent, password)\u001b[0m\n\u001b[1;32m    728\u001b[0m             \u001b[0;32mtry\u001b[0m\u001b[0;34m:\u001b[0m\u001b[0;34m\u001b[0m\u001b[0;34m\u001b[0m\u001b[0m\n\u001b[0;32m--> 729\u001b[0;31m                 \u001b[0mident\u001b[0m\u001b[0;34m,\u001b[0m \u001b[0mreply\u001b[0m \u001b[0;34m=\u001b[0m \u001b[0mself\u001b[0m\u001b[0;34m.\u001b[0m\u001b[0msession\u001b[0m\u001b[0;34m.\u001b[0m\u001b[0mrecv\u001b[0m\u001b[0;34m(\u001b[0m\u001b[0mself\u001b[0m\u001b[0;34m.\u001b[0m\u001b[0mstdin_socket\u001b[0m\u001b[0;34m,\u001b[0m \u001b[0;36m0\u001b[0m\u001b[0;34m)\u001b[0m\u001b[0;34m\u001b[0m\u001b[0;34m\u001b[0m\u001b[0m\n\u001b[0m\u001b[1;32m    730\u001b[0m             \u001b[0;32mexcept\u001b[0m \u001b[0mException\u001b[0m\u001b[0;34m:\u001b[0m\u001b[0;34m\u001b[0m\u001b[0;34m\u001b[0m\u001b[0m\n",
            "\u001b[0;32m/usr/local/lib/python3.7/dist-packages/jupyter_client/session.py\u001b[0m in \u001b[0;36mrecv\u001b[0;34m(self, socket, mode, content, copy)\u001b[0m\n\u001b[1;32m    802\u001b[0m         \u001b[0;32mtry\u001b[0m\u001b[0;34m:\u001b[0m\u001b[0;34m\u001b[0m\u001b[0;34m\u001b[0m\u001b[0m\n\u001b[0;32m--> 803\u001b[0;31m             \u001b[0mmsg_list\u001b[0m \u001b[0;34m=\u001b[0m \u001b[0msocket\u001b[0m\u001b[0;34m.\u001b[0m\u001b[0mrecv_multipart\u001b[0m\u001b[0;34m(\u001b[0m\u001b[0mmode\u001b[0m\u001b[0;34m,\u001b[0m \u001b[0mcopy\u001b[0m\u001b[0;34m=\u001b[0m\u001b[0mcopy\u001b[0m\u001b[0;34m)\u001b[0m\u001b[0;34m\u001b[0m\u001b[0;34m\u001b[0m\u001b[0m\n\u001b[0m\u001b[1;32m    804\u001b[0m         \u001b[0;32mexcept\u001b[0m \u001b[0mzmq\u001b[0m\u001b[0;34m.\u001b[0m\u001b[0mZMQError\u001b[0m \u001b[0;32mas\u001b[0m \u001b[0me\u001b[0m\u001b[0;34m:\u001b[0m\u001b[0;34m\u001b[0m\u001b[0;34m\u001b[0m\u001b[0m\n",
            "\u001b[0;32m/usr/local/lib/python3.7/dist-packages/zmq/sugar/socket.py\u001b[0m in \u001b[0;36mrecv_multipart\u001b[0;34m(self, flags, copy, track)\u001b[0m\n\u001b[1;32m    582\u001b[0m         \"\"\"\n\u001b[0;32m--> 583\u001b[0;31m         \u001b[0mparts\u001b[0m \u001b[0;34m=\u001b[0m \u001b[0;34m[\u001b[0m\u001b[0mself\u001b[0m\u001b[0;34m.\u001b[0m\u001b[0mrecv\u001b[0m\u001b[0;34m(\u001b[0m\u001b[0mflags\u001b[0m\u001b[0;34m,\u001b[0m \u001b[0mcopy\u001b[0m\u001b[0;34m=\u001b[0m\u001b[0mcopy\u001b[0m\u001b[0;34m,\u001b[0m \u001b[0mtrack\u001b[0m\u001b[0;34m=\u001b[0m\u001b[0mtrack\u001b[0m\u001b[0;34m)\u001b[0m\u001b[0;34m]\u001b[0m\u001b[0;34m\u001b[0m\u001b[0;34m\u001b[0m\u001b[0m\n\u001b[0m\u001b[1;32m    584\u001b[0m         \u001b[0;31m# have first part already, only loop while more to receive\u001b[0m\u001b[0;34m\u001b[0m\u001b[0;34m\u001b[0m\u001b[0;34m\u001b[0m\u001b[0m\n",
            "\u001b[0;32mzmq/backend/cython/socket.pyx\u001b[0m in \u001b[0;36mzmq.backend.cython.socket.Socket.recv\u001b[0;34m()\u001b[0m\n",
            "\u001b[0;32mzmq/backend/cython/socket.pyx\u001b[0m in \u001b[0;36mzmq.backend.cython.socket.Socket.recv\u001b[0;34m()\u001b[0m\n",
            "\u001b[0;32mzmq/backend/cython/socket.pyx\u001b[0m in \u001b[0;36mzmq.backend.cython.socket._recv_copy\u001b[0;34m()\u001b[0m\n",
            "\u001b[0;32m/usr/local/lib/python3.7/dist-packages/zmq/backend/cython/checkrc.pxd\u001b[0m in \u001b[0;36mzmq.backend.cython.checkrc._check_rc\u001b[0;34m()\u001b[0m\n",
            "\u001b[0;31mKeyboardInterrupt\u001b[0m: ",
            "\nDuring handling of the above exception, another exception occurred:\n",
            "\u001b[0;31mKeyboardInterrupt\u001b[0m                         Traceback (most recent call last)",
            "\u001b[0;32m<ipython-input-1-454d734406ae>\u001b[0m in \u001b[0;36m<module>\u001b[0;34m()\u001b[0m\n\u001b[1;32m    189\u001b[0m \u001b[0;34m\u001b[0m\u001b[0m\n\u001b[1;32m    190\u001b[0m     \u001b[0;32mreturn\u001b[0m\u001b[0;34m\u001b[0m\u001b[0;34m\u001b[0m\u001b[0m\n\u001b[0;32m--> 191\u001b[0;31m \u001b[0mdragongame\u001b[0m\u001b[0;34m(\u001b[0m\u001b[0;34m)\u001b[0m\u001b[0;34m\u001b[0m\u001b[0;34m\u001b[0m\u001b[0m\n\u001b[0m\u001b[1;32m    192\u001b[0m \u001b[0;34m\u001b[0m\u001b[0m\n\u001b[1;32m    193\u001b[0m \u001b[0;34m\u001b[0m\u001b[0m\n",
            "\u001b[0;32m<ipython-input-1-454d734406ae>\u001b[0m in \u001b[0;36mdragongame\u001b[0;34m()\u001b[0m\n\u001b[1;32m     70\u001b[0m       \u001b[0mtime\u001b[0m\u001b[0;34m.\u001b[0m\u001b[0msleep\u001b[0m\u001b[0;34m(\u001b[0m\u001b[0;36m3\u001b[0m\u001b[0;34m)\u001b[0m\u001b[0;34m\u001b[0m\u001b[0;34m\u001b[0m\u001b[0m\n\u001b[1;32m     71\u001b[0m       \u001b[0mprint\u001b[0m\u001b[0;34m(\u001b[0m\u001b[0;34m\"You unsheath your sword as you prepare for battle.\"\u001b[0m\u001b[0;34m)\u001b[0m\u001b[0;34m\u001b[0m\u001b[0;34m\u001b[0m\u001b[0m\n\u001b[0;32m---> 72\u001b[0;31m       \u001b[0mbattle\u001b[0m\u001b[0;34m(\u001b[0m\u001b[0;34m)\u001b[0m\u001b[0;34m\u001b[0m\u001b[0;34m\u001b[0m\u001b[0m\n\u001b[0m\u001b[1;32m     73\u001b[0m \u001b[0;34m\u001b[0m\u001b[0m\n\u001b[1;32m     74\u001b[0m   \u001b[0;32mif\u001b[0m \u001b[0;34m(\u001b[0m\u001b[0mlight\u001b[0m\u001b[0;34m==\u001b[0m\u001b[0;34m\"n\"\u001b[0m\u001b[0;34m)\u001b[0m\u001b[0;34m:\u001b[0m\u001b[0;34m\u001b[0m\u001b[0;34m\u001b[0m\u001b[0m\n",
            "\u001b[0;32m<ipython-input-1-454d734406ae>\u001b[0m in \u001b[0;36mbattle\u001b[0;34m()\u001b[0m\n\u001b[1;32m    109\u001b[0m     \u001b[0mdragonmove\u001b[0m\u001b[0;34m=\u001b[0m\u001b[0mrandom\u001b[0m\u001b[0;34m.\u001b[0m\u001b[0mrandint\u001b[0m\u001b[0;34m(\u001b[0m\u001b[0;36m1\u001b[0m\u001b[0;34m,\u001b[0m\u001b[0;36m2\u001b[0m\u001b[0;34m)\u001b[0m\u001b[0;34m\u001b[0m\u001b[0;34m\u001b[0m\u001b[0m\n\u001b[1;32m    110\u001b[0m \u001b[0;34m\u001b[0m\u001b[0m\n\u001b[0;32m--> 111\u001b[0;31m     \u001b[0mmove\u001b[0m\u001b[0;34m=\u001b[0m \u001b[0minput\u001b[0m\u001b[0;34m(\u001b[0m\u001b[0;34m\"\\nThe dragon prepares for an attack, will you dodge or defend with your shield? ('d'for dodge/ 's' for shield)\"\u001b[0m\u001b[0;34m)\u001b[0m\u001b[0;34m\u001b[0m\u001b[0;34m\u001b[0m\u001b[0m\n\u001b[0m\u001b[1;32m    112\u001b[0m     \u001b[0;32mif\u001b[0m \u001b[0;32mnot\u001b[0m\u001b[0;34m(\u001b[0m\u001b[0mmove\u001b[0m\u001b[0;34m==\u001b[0m\u001b[0;34m\"d\"\u001b[0m \u001b[0;32mor\u001b[0m \u001b[0mmove\u001b[0m \u001b[0;34m==\u001b[0m\u001b[0;34m\"s\"\u001b[0m\u001b[0;34m)\u001b[0m\u001b[0;34m:\u001b[0m\u001b[0;34m\u001b[0m\u001b[0;34m\u001b[0m\u001b[0m\n\u001b[1;32m    113\u001b[0m       \u001b[0mprint\u001b[0m\u001b[0;34m(\u001b[0m\u001b[0;34m\"you fail to decide in time and the dragon strikes you. you lose 25% of your Health Point\"\u001b[0m\u001b[0;34m)\u001b[0m\u001b[0;34m\u001b[0m\u001b[0;34m\u001b[0m\u001b[0m\n",
            "\u001b[0;32m/usr/local/lib/python3.7/dist-packages/ipykernel/kernelbase.py\u001b[0m in \u001b[0;36mraw_input\u001b[0;34m(self, prompt)\u001b[0m\n\u001b[1;32m    702\u001b[0m             \u001b[0mself\u001b[0m\u001b[0;34m.\u001b[0m\u001b[0m_parent_ident\u001b[0m\u001b[0;34m,\u001b[0m\u001b[0;34m\u001b[0m\u001b[0;34m\u001b[0m\u001b[0m\n\u001b[1;32m    703\u001b[0m             \u001b[0mself\u001b[0m\u001b[0;34m.\u001b[0m\u001b[0m_parent_header\u001b[0m\u001b[0;34m,\u001b[0m\u001b[0;34m\u001b[0m\u001b[0;34m\u001b[0m\u001b[0m\n\u001b[0;32m--> 704\u001b[0;31m             \u001b[0mpassword\u001b[0m\u001b[0;34m=\u001b[0m\u001b[0;32mFalse\u001b[0m\u001b[0;34m,\u001b[0m\u001b[0;34m\u001b[0m\u001b[0;34m\u001b[0m\u001b[0m\n\u001b[0m\u001b[1;32m    705\u001b[0m         )\n\u001b[1;32m    706\u001b[0m \u001b[0;34m\u001b[0m\u001b[0m\n",
            "\u001b[0;32m/usr/local/lib/python3.7/dist-packages/ipykernel/kernelbase.py\u001b[0m in \u001b[0;36m_input_request\u001b[0;34m(self, prompt, ident, parent, password)\u001b[0m\n\u001b[1;32m    732\u001b[0m             \u001b[0;32mexcept\u001b[0m \u001b[0mKeyboardInterrupt\u001b[0m\u001b[0;34m:\u001b[0m\u001b[0;34m\u001b[0m\u001b[0;34m\u001b[0m\u001b[0m\n\u001b[1;32m    733\u001b[0m                 \u001b[0;31m# re-raise KeyboardInterrupt, to truncate traceback\u001b[0m\u001b[0;34m\u001b[0m\u001b[0;34m\u001b[0m\u001b[0;34m\u001b[0m\u001b[0m\n\u001b[0;32m--> 734\u001b[0;31m                 \u001b[0;32mraise\u001b[0m \u001b[0mKeyboardInterrupt\u001b[0m\u001b[0;34m\u001b[0m\u001b[0;34m\u001b[0m\u001b[0m\n\u001b[0m\u001b[1;32m    735\u001b[0m             \u001b[0;32melse\u001b[0m\u001b[0;34m:\u001b[0m\u001b[0;34m\u001b[0m\u001b[0;34m\u001b[0m\u001b[0m\n\u001b[1;32m    736\u001b[0m                 \u001b[0;32mbreak\u001b[0m\u001b[0;34m\u001b[0m\u001b[0;34m\u001b[0m\u001b[0m\n",
            "\u001b[0;31mKeyboardInterrupt\u001b[0m: "
          ]
        }
      ]
    },
    {
      "cell_type": "code",
      "metadata": {
        "id": "fU2rgSsiYLq5"
      },
      "source": [
        "\n"
      ],
      "execution_count": null,
      "outputs": []
    },
    {
      "cell_type": "code",
      "metadata": {
        "colab": {
          "base_uri": "https://localhost:8080/"
        },
        "id": "tkZqW5g0dvfh",
        "outputId": "57caf9bb-9d15-44d7-ee8b-b2c0e1bcabd0"
      },
      "source": [
        "print(\"hello?\")"
      ],
      "execution_count": null,
      "outputs": [
        {
          "output_type": "stream",
          "text": [
            "hello?\n"
          ],
          "name": "stdout"
        }
      ]
    },
    {
      "cell_type": "code",
      "metadata": {
        "id": "WIBYP32KdwR_"
      },
      "source": [
        ""
      ],
      "execution_count": null,
      "outputs": []
    },
    {
      "cell_type": "markdown",
      "metadata": {
        "id": "z6ZayNCU-hhg"
      },
      "source": [
        "#5주차 실습"
      ]
    },
    {
      "cell_type": "markdown",
      "metadata": {
        "id": "94AE2Faa-mxZ"
      },
      "source": [
        "##5-1 실습"
      ]
    },
    {
      "cell_type": "markdown",
      "metadata": {
        "id": "4IiU2tZI-rpR"
      },
      "source": [
        "###실습1: 상품재고관리 프로그램"
      ]
    },
    {
      "cell_type": "code",
      "metadata": {
        "id": "2uGHtbtC-sTj"
      },
      "source": [
        "print (\"상품재고관리 프로그램\\n\")\n",
        "newlist= ['커피', '우유', '바나나', '감귤', '화장지', '장갑', '이불', '베개', '장난감', '음료수', '빵']\n",
        "\n",
        "choice= int(input(\"상품관리(1. 삽입, 2. 삭제, 3. 상품 확인, 4. 종료):\"))\n",
        "\n",
        "if choice ==1:\n",
        "  product= input(\"상품관리1-삽입) 삽입하고자 하는 상품은?\")\n",
        "  location= int(input(\"상품관리1-삽입) 삽입하고자 하는 위치는?\"))\n",
        "  ##insert\n",
        "  newlist.insert(location,product)\n",
        "  print(\"사과 삽입 완료\")\n",
        "  print(newlist)\n",
        "\n",
        "elif choice ==2:\n",
        "  delete=input(\"상품관리2-삭제) 삭제하고자 하는 상품은?\")\n",
        "  if delete in newlist:\n",
        "    newlist.remove(delete)\n",
        "    print(\"장난감 삭제 완료\")\n",
        "  else:\n",
        "    print(\"장난감 없음\")\n",
        "    \n",
        "  print(newlist)\n",
        "  \n",
        "  \n",
        "\n",
        "elif choice==3:\n",
        "  product=input(\"상품관리3-상품 확인) 확인하고자 하는 상품은?\")\n",
        "  if product in newlist:\n",
        "    print(product+\" 검색 완료\")\n",
        "  else:\n",
        "    print(\"검색하는 상품을 찾지 못하였습니다.\")\n",
        "\n",
        "elif choice==4:\n",
        "  print(\"프로그램을 종료합니다.\")\n",
        "\n",
        "\n"
      ],
      "execution_count": null,
      "outputs": []
    },
    {
      "cell_type": "markdown",
      "metadata": {
        "id": "LbHhNgtcBAmH"
      },
      "source": [
        "###실습2: 동이름만 출력하기"
      ]
    },
    {
      "cell_type": "code",
      "metadata": {
        "colab": {
          "base_uri": "https://localhost:8080/",
          "height": 527
        },
        "id": "SvvZfoc7BCJs",
        "outputId": "aa784b59-9819-4762-e27b-29c98872c21b"
      },
      "source": [
        "newlist= input('In:').split()\n",
        "\n",
        "print(\"=====\")\n",
        "print(\"동이름\")\n",
        "print(\"=====\")\n",
        "a= 0\n",
        "while a<len(newlist):\n",
        "  string=newlist[a]\n",
        "  if \"동\"== string[-1]:\n",
        "    print(newlist[a])\n",
        "  a=a+1\n"
      ],
      "execution_count": null,
      "outputs": [
        {
          "output_type": "error",
          "ename": "KeyboardInterrupt",
          "evalue": "ignored",
          "traceback": [
            "\u001b[0;31m---------------------------------------------------------------------------\u001b[0m",
            "\u001b[0;31mKeyboardInterrupt\u001b[0m                         Traceback (most recent call last)",
            "\u001b[0;32m/usr/local/lib/python3.7/dist-packages/ipykernel/kernelbase.py\u001b[0m in \u001b[0;36m_input_request\u001b[0;34m(self, prompt, ident, parent, password)\u001b[0m\n\u001b[1;32m    728\u001b[0m             \u001b[0;32mtry\u001b[0m\u001b[0;34m:\u001b[0m\u001b[0;34m\u001b[0m\u001b[0;34m\u001b[0m\u001b[0m\n\u001b[0;32m--> 729\u001b[0;31m                 \u001b[0mident\u001b[0m\u001b[0;34m,\u001b[0m \u001b[0mreply\u001b[0m \u001b[0;34m=\u001b[0m \u001b[0mself\u001b[0m\u001b[0;34m.\u001b[0m\u001b[0msession\u001b[0m\u001b[0;34m.\u001b[0m\u001b[0mrecv\u001b[0m\u001b[0;34m(\u001b[0m\u001b[0mself\u001b[0m\u001b[0;34m.\u001b[0m\u001b[0mstdin_socket\u001b[0m\u001b[0;34m,\u001b[0m \u001b[0;36m0\u001b[0m\u001b[0;34m)\u001b[0m\u001b[0;34m\u001b[0m\u001b[0;34m\u001b[0m\u001b[0m\n\u001b[0m\u001b[1;32m    730\u001b[0m             \u001b[0;32mexcept\u001b[0m \u001b[0mException\u001b[0m\u001b[0;34m:\u001b[0m\u001b[0;34m\u001b[0m\u001b[0;34m\u001b[0m\u001b[0m\n",
            "\u001b[0;32m/usr/local/lib/python3.7/dist-packages/jupyter_client/session.py\u001b[0m in \u001b[0;36mrecv\u001b[0;34m(self, socket, mode, content, copy)\u001b[0m\n\u001b[1;32m    802\u001b[0m         \u001b[0;32mtry\u001b[0m\u001b[0;34m:\u001b[0m\u001b[0;34m\u001b[0m\u001b[0;34m\u001b[0m\u001b[0m\n\u001b[0;32m--> 803\u001b[0;31m             \u001b[0mmsg_list\u001b[0m \u001b[0;34m=\u001b[0m \u001b[0msocket\u001b[0m\u001b[0;34m.\u001b[0m\u001b[0mrecv_multipart\u001b[0m\u001b[0;34m(\u001b[0m\u001b[0mmode\u001b[0m\u001b[0;34m,\u001b[0m \u001b[0mcopy\u001b[0m\u001b[0;34m=\u001b[0m\u001b[0mcopy\u001b[0m\u001b[0;34m)\u001b[0m\u001b[0;34m\u001b[0m\u001b[0;34m\u001b[0m\u001b[0m\n\u001b[0m\u001b[1;32m    804\u001b[0m         \u001b[0;32mexcept\u001b[0m \u001b[0mzmq\u001b[0m\u001b[0;34m.\u001b[0m\u001b[0mZMQError\u001b[0m \u001b[0;32mas\u001b[0m \u001b[0me\u001b[0m\u001b[0;34m:\u001b[0m\u001b[0;34m\u001b[0m\u001b[0;34m\u001b[0m\u001b[0m\n",
            "\u001b[0;32m/usr/local/lib/python3.7/dist-packages/zmq/sugar/socket.py\u001b[0m in \u001b[0;36mrecv_multipart\u001b[0;34m(self, flags, copy, track)\u001b[0m\n\u001b[1;32m    582\u001b[0m         \"\"\"\n\u001b[0;32m--> 583\u001b[0;31m         \u001b[0mparts\u001b[0m \u001b[0;34m=\u001b[0m \u001b[0;34m[\u001b[0m\u001b[0mself\u001b[0m\u001b[0;34m.\u001b[0m\u001b[0mrecv\u001b[0m\u001b[0;34m(\u001b[0m\u001b[0mflags\u001b[0m\u001b[0;34m,\u001b[0m \u001b[0mcopy\u001b[0m\u001b[0;34m=\u001b[0m\u001b[0mcopy\u001b[0m\u001b[0;34m,\u001b[0m \u001b[0mtrack\u001b[0m\u001b[0;34m=\u001b[0m\u001b[0mtrack\u001b[0m\u001b[0;34m)\u001b[0m\u001b[0;34m]\u001b[0m\u001b[0;34m\u001b[0m\u001b[0;34m\u001b[0m\u001b[0m\n\u001b[0m\u001b[1;32m    584\u001b[0m         \u001b[0;31m# have first part already, only loop while more to receive\u001b[0m\u001b[0;34m\u001b[0m\u001b[0;34m\u001b[0m\u001b[0;34m\u001b[0m\u001b[0m\n",
            "\u001b[0;32mzmq/backend/cython/socket.pyx\u001b[0m in \u001b[0;36mzmq.backend.cython.socket.Socket.recv\u001b[0;34m()\u001b[0m\n",
            "\u001b[0;32mzmq/backend/cython/socket.pyx\u001b[0m in \u001b[0;36mzmq.backend.cython.socket.Socket.recv\u001b[0;34m()\u001b[0m\n",
            "\u001b[0;32mzmq/backend/cython/socket.pyx\u001b[0m in \u001b[0;36mzmq.backend.cython.socket._recv_copy\u001b[0;34m()\u001b[0m\n",
            "\u001b[0;32m/usr/local/lib/python3.7/dist-packages/zmq/backend/cython/checkrc.pxd\u001b[0m in \u001b[0;36mzmq.backend.cython.checkrc._check_rc\u001b[0;34m()\u001b[0m\n",
            "\u001b[0;31mKeyboardInterrupt\u001b[0m: ",
            "\nDuring handling of the above exception, another exception occurred:\n",
            "\u001b[0;31mKeyboardInterrupt\u001b[0m                         Traceback (most recent call last)",
            "\u001b[0;32m<ipython-input-14-93e146809b94>\u001b[0m in \u001b[0;36m<module>\u001b[0;34m()\u001b[0m\n\u001b[0;32m----> 1\u001b[0;31m \u001b[0mnewlist\u001b[0m\u001b[0;34m=\u001b[0m \u001b[0minput\u001b[0m\u001b[0;34m(\u001b[0m\u001b[0;34m'In:'\u001b[0m\u001b[0;34m)\u001b[0m\u001b[0;34m.\u001b[0m\u001b[0msplit\u001b[0m\u001b[0;34m(\u001b[0m\u001b[0;34m)\u001b[0m\u001b[0;34m\u001b[0m\u001b[0;34m\u001b[0m\u001b[0m\n\u001b[0m\u001b[1;32m      2\u001b[0m \u001b[0;34m\u001b[0m\u001b[0m\n\u001b[1;32m      3\u001b[0m \u001b[0mprint\u001b[0m\u001b[0;34m(\u001b[0m\u001b[0;34m\"=====\"\u001b[0m\u001b[0;34m)\u001b[0m\u001b[0;34m\u001b[0m\u001b[0;34m\u001b[0m\u001b[0m\n\u001b[1;32m      4\u001b[0m \u001b[0mprint\u001b[0m\u001b[0;34m(\u001b[0m\u001b[0;34m\"동이름\"\u001b[0m\u001b[0;34m)\u001b[0m\u001b[0;34m\u001b[0m\u001b[0;34m\u001b[0m\u001b[0m\n\u001b[1;32m      5\u001b[0m \u001b[0mprint\u001b[0m\u001b[0;34m(\u001b[0m\u001b[0;34m\"=====\"\u001b[0m\u001b[0;34m)\u001b[0m\u001b[0;34m\u001b[0m\u001b[0;34m\u001b[0m\u001b[0m\n",
            "\u001b[0;32m/usr/local/lib/python3.7/dist-packages/ipykernel/kernelbase.py\u001b[0m in \u001b[0;36mraw_input\u001b[0;34m(self, prompt)\u001b[0m\n\u001b[1;32m    702\u001b[0m             \u001b[0mself\u001b[0m\u001b[0;34m.\u001b[0m\u001b[0m_parent_ident\u001b[0m\u001b[0;34m,\u001b[0m\u001b[0;34m\u001b[0m\u001b[0;34m\u001b[0m\u001b[0m\n\u001b[1;32m    703\u001b[0m             \u001b[0mself\u001b[0m\u001b[0;34m.\u001b[0m\u001b[0m_parent_header\u001b[0m\u001b[0;34m,\u001b[0m\u001b[0;34m\u001b[0m\u001b[0;34m\u001b[0m\u001b[0m\n\u001b[0;32m--> 704\u001b[0;31m             \u001b[0mpassword\u001b[0m\u001b[0;34m=\u001b[0m\u001b[0;32mFalse\u001b[0m\u001b[0;34m,\u001b[0m\u001b[0;34m\u001b[0m\u001b[0;34m\u001b[0m\u001b[0m\n\u001b[0m\u001b[1;32m    705\u001b[0m         )\n\u001b[1;32m    706\u001b[0m \u001b[0;34m\u001b[0m\u001b[0m\n",
            "\u001b[0;32m/usr/local/lib/python3.7/dist-packages/ipykernel/kernelbase.py\u001b[0m in \u001b[0;36m_input_request\u001b[0;34m(self, prompt, ident, parent, password)\u001b[0m\n\u001b[1;32m    732\u001b[0m             \u001b[0;32mexcept\u001b[0m \u001b[0mKeyboardInterrupt\u001b[0m\u001b[0;34m:\u001b[0m\u001b[0;34m\u001b[0m\u001b[0;34m\u001b[0m\u001b[0m\n\u001b[1;32m    733\u001b[0m                 \u001b[0;31m# re-raise KeyboardInterrupt, to truncate traceback\u001b[0m\u001b[0;34m\u001b[0m\u001b[0;34m\u001b[0m\u001b[0;34m\u001b[0m\u001b[0m\n\u001b[0;32m--> 734\u001b[0;31m                 \u001b[0;32mraise\u001b[0m \u001b[0mKeyboardInterrupt\u001b[0m\u001b[0;34m\u001b[0m\u001b[0;34m\u001b[0m\u001b[0m\n\u001b[0m\u001b[1;32m    735\u001b[0m             \u001b[0;32melse\u001b[0m\u001b[0;34m:\u001b[0m\u001b[0;34m\u001b[0m\u001b[0;34m\u001b[0m\u001b[0m\n\u001b[1;32m    736\u001b[0m                 \u001b[0;32mbreak\u001b[0m\u001b[0;34m\u001b[0m\u001b[0;34m\u001b[0m\u001b[0m\n",
            "\u001b[0;31mKeyboardInterrupt\u001b[0m: "
          ]
        }
      ]
    },
    {
      "cell_type": "markdown",
      "metadata": {
        "id": "5-LIoAELGwGW"
      },
      "source": [
        "###실습3: 문장 내 단어 출력하기\n"
      ]
    },
    {
      "cell_type": "code",
      "metadata": {
        "colab": {
          "base_uri": "https://localhost:8080/"
        },
        "id": "yd6DnnWFCxkl",
        "outputId": "e76494aa-bccc-473b-de40-6df3cfda7f48"
      },
      "source": [
        "inputlist= input('input :')\n",
        "newlist= inputlist.split()\n",
        "\n",
        "a=0\n",
        "while a<len(newlist):\n",
        "  if newlist[a].lower()==\"a\" or newlist[a].lower()==\"the\" or newlist[a].lower()==\"an\":\n",
        "    del newlist[a]\n",
        "    a=a+1\n",
        "\n",
        "  a=a+1\n",
        "print(newlist)"
      ],
      "execution_count": null,
      "outputs": [
        {
          "output_type": "stream",
          "text": [
            "input :A gift in season is a double favor to the needy\n",
            "['gift', 'in', 'season', 'is', 'double', 'favor', 'to', 'needy']\n"
          ],
          "name": "stdout"
        }
      ]
    },
    {
      "cell_type": "markdown",
      "metadata": {
        "id": "9SwfvN0gIDC5"
      },
      "source": [
        "###실습4: 복권 프로그램\n"
      ]
    },
    {
      "cell_type": "code",
      "metadata": {
        "colab": {
          "base_uri": "https://localhost:8080/",
          "height": 918
        },
        "id": "7gPIKs9qIEIW",
        "outputId": "1956d4fc-c0f4-47cc-c877-72e03d09bad6"
      },
      "source": [
        "import random\n",
        "def program():\n",
        "  \n",
        "  global price\n",
        "  print(\"\\n이번 주 컴또복권!\\n\")\n",
        "  inputlist= input(\"네 개의 숫자를 입력하세요: \")\n",
        "  a=0\n",
        "  lottery=[]\n",
        "  while a<4:\n",
        "    lottery.append(random.randint(1,10))\n",
        "    a=a+1\n",
        "    \n",
        " \n",
        "  newlist=inputlist.split(\",\")\n",
        "  print(\"이번 주 컴또복권 번호는 \",lottery, \"입니다.\")\n",
        "  a=0\n",
        "  answer=[]\n",
        "  count=0\n",
        "  while a<len(newlist):\n",
        "    if lottery[a]==int(newlist[a]):\n",
        "      answer.append(lottery[a])\n",
        "      count=count+1\n",
        "  \n",
        "    a=a+1\n",
        "  if count==0:\n",
        "    print(\"하나도 못맞추셨어요...\")\n",
        "  \n",
        "  if count>0:\n",
        "    print(\"맞춘 숫자는 \"+str(answer)+\"입니다\")\n",
        "\n",
        "  if 0<count<3:\n",
        "    print(str(count)+\"개를 맞추셨지만 당청금은 없습니다.\")\n",
        "    \n",
        "  if count==3:\n",
        "    print(str(count)+\"개를 맞춰 당청금은 5000원 입니다.\")\n",
        "    price= price+5000\n",
        "  elif count==4:\n",
        "    print(str(count)+\"개를 맞춰 당청금은 10000원 입니다.\")\n",
        "    price= price+10000\n",
        "  restart= input(\"계속 하시겠습니까?\\n\")\n",
        "  if restart.lower()=='y':\n",
        "    program()\n",
        "\n",
        "  elif restart[0].lower()=='n':\n",
        "    print(price)\n",
        "    return\n",
        "\n",
        "\n",
        "price = 0\n",
        "program()\n",
        "\n",
        "\n"
      ],
      "execution_count": null,
      "outputs": [
        {
          "output_type": "stream",
          "text": [
            "\n",
            "이번 주 컴또복권!\n",
            "\n",
            "네 개의 숫자를 입력하세요: 1,2,3,4\n",
            "이번 주 컴또복권 번호는  [10, 8, 10, 9] 입니다.\n",
            "하나도 못맞추셨어요...\n",
            "계속 하시겠습니까?\n",
            "y\n",
            "\n",
            "이번 주 컴또복권!\n",
            "\n",
            "네 개의 숫자를 입력하세요: 1,2,3,4\n",
            "이번 주 컴또복권 번호는  [3, 3, 10, 5] 입니다.\n",
            "하나도 못맞추셨어요...\n",
            "계속 하시겠습니까?\n",
            "y\n",
            "\n",
            "이번 주 컴또복권!\n",
            "\n",
            "네 개의 숫자를 입력하세요: 3,4,5,6\n",
            "이번 주 컴또복권 번호는  [1, 4, 4, 3] 입니다.\n",
            "맞춘 숫자는 [4]입니다\n",
            "1개를 맞추셨지만 당청금은 없습니다.\n"
          ],
          "name": "stdout"
        },
        {
          "output_type": "error",
          "ename": "KeyboardInterrupt",
          "evalue": "ignored",
          "traceback": [
            "\u001b[0;31m---------------------------------------------------------------------------\u001b[0m",
            "\u001b[0;31mKeyboardInterrupt\u001b[0m                         Traceback (most recent call last)",
            "\u001b[0;32m/usr/local/lib/python3.7/dist-packages/ipykernel/kernelbase.py\u001b[0m in \u001b[0;36m_input_request\u001b[0;34m(self, prompt, ident, parent, password)\u001b[0m\n\u001b[1;32m    728\u001b[0m             \u001b[0;32mtry\u001b[0m\u001b[0;34m:\u001b[0m\u001b[0;34m\u001b[0m\u001b[0;34m\u001b[0m\u001b[0m\n\u001b[0;32m--> 729\u001b[0;31m                 \u001b[0mident\u001b[0m\u001b[0;34m,\u001b[0m \u001b[0mreply\u001b[0m \u001b[0;34m=\u001b[0m \u001b[0mself\u001b[0m\u001b[0;34m.\u001b[0m\u001b[0msession\u001b[0m\u001b[0;34m.\u001b[0m\u001b[0mrecv\u001b[0m\u001b[0;34m(\u001b[0m\u001b[0mself\u001b[0m\u001b[0;34m.\u001b[0m\u001b[0mstdin_socket\u001b[0m\u001b[0;34m,\u001b[0m \u001b[0;36m0\u001b[0m\u001b[0;34m)\u001b[0m\u001b[0;34m\u001b[0m\u001b[0;34m\u001b[0m\u001b[0m\n\u001b[0m\u001b[1;32m    730\u001b[0m             \u001b[0;32mexcept\u001b[0m \u001b[0mException\u001b[0m\u001b[0;34m:\u001b[0m\u001b[0;34m\u001b[0m\u001b[0;34m\u001b[0m\u001b[0m\n",
            "\u001b[0;32m/usr/local/lib/python3.7/dist-packages/jupyter_client/session.py\u001b[0m in \u001b[0;36mrecv\u001b[0;34m(self, socket, mode, content, copy)\u001b[0m\n\u001b[1;32m    802\u001b[0m         \u001b[0;32mtry\u001b[0m\u001b[0;34m:\u001b[0m\u001b[0;34m\u001b[0m\u001b[0;34m\u001b[0m\u001b[0m\n\u001b[0;32m--> 803\u001b[0;31m             \u001b[0mmsg_list\u001b[0m \u001b[0;34m=\u001b[0m \u001b[0msocket\u001b[0m\u001b[0;34m.\u001b[0m\u001b[0mrecv_multipart\u001b[0m\u001b[0;34m(\u001b[0m\u001b[0mmode\u001b[0m\u001b[0;34m,\u001b[0m \u001b[0mcopy\u001b[0m\u001b[0;34m=\u001b[0m\u001b[0mcopy\u001b[0m\u001b[0;34m)\u001b[0m\u001b[0;34m\u001b[0m\u001b[0;34m\u001b[0m\u001b[0m\n\u001b[0m\u001b[1;32m    804\u001b[0m         \u001b[0;32mexcept\u001b[0m \u001b[0mzmq\u001b[0m\u001b[0;34m.\u001b[0m\u001b[0mZMQError\u001b[0m \u001b[0;32mas\u001b[0m \u001b[0me\u001b[0m\u001b[0;34m:\u001b[0m\u001b[0;34m\u001b[0m\u001b[0;34m\u001b[0m\u001b[0m\n",
            "\u001b[0;32m/usr/local/lib/python3.7/dist-packages/zmq/sugar/socket.py\u001b[0m in \u001b[0;36mrecv_multipart\u001b[0;34m(self, flags, copy, track)\u001b[0m\n\u001b[1;32m    582\u001b[0m         \"\"\"\n\u001b[0;32m--> 583\u001b[0;31m         \u001b[0mparts\u001b[0m \u001b[0;34m=\u001b[0m \u001b[0;34m[\u001b[0m\u001b[0mself\u001b[0m\u001b[0;34m.\u001b[0m\u001b[0mrecv\u001b[0m\u001b[0;34m(\u001b[0m\u001b[0mflags\u001b[0m\u001b[0;34m,\u001b[0m \u001b[0mcopy\u001b[0m\u001b[0;34m=\u001b[0m\u001b[0mcopy\u001b[0m\u001b[0;34m,\u001b[0m \u001b[0mtrack\u001b[0m\u001b[0;34m=\u001b[0m\u001b[0mtrack\u001b[0m\u001b[0;34m)\u001b[0m\u001b[0;34m]\u001b[0m\u001b[0;34m\u001b[0m\u001b[0;34m\u001b[0m\u001b[0m\n\u001b[0m\u001b[1;32m    584\u001b[0m         \u001b[0;31m# have first part already, only loop while more to receive\u001b[0m\u001b[0;34m\u001b[0m\u001b[0;34m\u001b[0m\u001b[0;34m\u001b[0m\u001b[0m\n",
            "\u001b[0;32mzmq/backend/cython/socket.pyx\u001b[0m in \u001b[0;36mzmq.backend.cython.socket.Socket.recv\u001b[0;34m()\u001b[0m\n",
            "\u001b[0;32mzmq/backend/cython/socket.pyx\u001b[0m in \u001b[0;36mzmq.backend.cython.socket.Socket.recv\u001b[0;34m()\u001b[0m\n",
            "\u001b[0;32mzmq/backend/cython/socket.pyx\u001b[0m in \u001b[0;36mzmq.backend.cython.socket._recv_copy\u001b[0;34m()\u001b[0m\n",
            "\u001b[0;32m/usr/local/lib/python3.7/dist-packages/zmq/backend/cython/checkrc.pxd\u001b[0m in \u001b[0;36mzmq.backend.cython.checkrc._check_rc\u001b[0;34m()\u001b[0m\n",
            "\u001b[0;31mKeyboardInterrupt\u001b[0m: ",
            "\nDuring handling of the above exception, another exception occurred:\n",
            "\u001b[0;31mKeyboardInterrupt\u001b[0m                         Traceback (most recent call last)",
            "\u001b[0;32m<ipython-input-48-68d8ee05185b>\u001b[0m in \u001b[0;36m<module>\u001b[0;34m()\u001b[0m\n\u001b[1;32m     48\u001b[0m \u001b[0;34m\u001b[0m\u001b[0m\n\u001b[1;32m     49\u001b[0m \u001b[0mprice\u001b[0m \u001b[0;34m=\u001b[0m \u001b[0;36m0\u001b[0m\u001b[0;34m\u001b[0m\u001b[0;34m\u001b[0m\u001b[0m\n\u001b[0;32m---> 50\u001b[0;31m \u001b[0mprogram\u001b[0m\u001b[0;34m(\u001b[0m\u001b[0;34m)\u001b[0m\u001b[0;34m\u001b[0m\u001b[0;34m\u001b[0m\u001b[0m\n\u001b[0m\u001b[1;32m     51\u001b[0m \u001b[0;34m\u001b[0m\u001b[0m\n\u001b[1;32m     52\u001b[0m \u001b[0;34m\u001b[0m\u001b[0m\n",
            "\u001b[0;32m<ipython-input-48-68d8ee05185b>\u001b[0m in \u001b[0;36mprogram\u001b[0;34m()\u001b[0m\n\u001b[1;32m     40\u001b[0m   \u001b[0mrestart\u001b[0m\u001b[0;34m=\u001b[0m \u001b[0minput\u001b[0m\u001b[0;34m(\u001b[0m\u001b[0;34m\"계속 하시겠습니까?\\n\"\u001b[0m\u001b[0;34m)\u001b[0m\u001b[0;34m\u001b[0m\u001b[0;34m\u001b[0m\u001b[0m\n\u001b[1;32m     41\u001b[0m   \u001b[0;32mif\u001b[0m \u001b[0mrestart\u001b[0m\u001b[0;34m.\u001b[0m\u001b[0mlower\u001b[0m\u001b[0;34m(\u001b[0m\u001b[0;34m)\u001b[0m\u001b[0;34m==\u001b[0m\u001b[0;34m'y'\u001b[0m\u001b[0;34m:\u001b[0m\u001b[0;34m\u001b[0m\u001b[0;34m\u001b[0m\u001b[0m\n\u001b[0;32m---> 42\u001b[0;31m     \u001b[0mprogram\u001b[0m\u001b[0;34m(\u001b[0m\u001b[0;34m)\u001b[0m\u001b[0;34m\u001b[0m\u001b[0;34m\u001b[0m\u001b[0m\n\u001b[0m\u001b[1;32m     43\u001b[0m \u001b[0;34m\u001b[0m\u001b[0m\n\u001b[1;32m     44\u001b[0m   \u001b[0;32melif\u001b[0m \u001b[0mrestart\u001b[0m\u001b[0;34m[\u001b[0m\u001b[0;36m0\u001b[0m\u001b[0;34m]\u001b[0m\u001b[0;34m.\u001b[0m\u001b[0mlower\u001b[0m\u001b[0;34m(\u001b[0m\u001b[0;34m)\u001b[0m\u001b[0;34m==\u001b[0m\u001b[0;34m'n'\u001b[0m\u001b[0;34m:\u001b[0m\u001b[0;34m\u001b[0m\u001b[0;34m\u001b[0m\u001b[0m\n",
            "\u001b[0;32m<ipython-input-48-68d8ee05185b>\u001b[0m in \u001b[0;36mprogram\u001b[0;34m()\u001b[0m\n\u001b[1;32m     40\u001b[0m   \u001b[0mrestart\u001b[0m\u001b[0;34m=\u001b[0m \u001b[0minput\u001b[0m\u001b[0;34m(\u001b[0m\u001b[0;34m\"계속 하시겠습니까?\\n\"\u001b[0m\u001b[0;34m)\u001b[0m\u001b[0;34m\u001b[0m\u001b[0;34m\u001b[0m\u001b[0m\n\u001b[1;32m     41\u001b[0m   \u001b[0;32mif\u001b[0m \u001b[0mrestart\u001b[0m\u001b[0;34m.\u001b[0m\u001b[0mlower\u001b[0m\u001b[0;34m(\u001b[0m\u001b[0;34m)\u001b[0m\u001b[0;34m==\u001b[0m\u001b[0;34m'y'\u001b[0m\u001b[0;34m:\u001b[0m\u001b[0;34m\u001b[0m\u001b[0;34m\u001b[0m\u001b[0m\n\u001b[0;32m---> 42\u001b[0;31m     \u001b[0mprogram\u001b[0m\u001b[0;34m(\u001b[0m\u001b[0;34m)\u001b[0m\u001b[0;34m\u001b[0m\u001b[0;34m\u001b[0m\u001b[0m\n\u001b[0m\u001b[1;32m     43\u001b[0m \u001b[0;34m\u001b[0m\u001b[0m\n\u001b[1;32m     44\u001b[0m   \u001b[0;32melif\u001b[0m \u001b[0mrestart\u001b[0m\u001b[0;34m[\u001b[0m\u001b[0;36m0\u001b[0m\u001b[0;34m]\u001b[0m\u001b[0;34m.\u001b[0m\u001b[0mlower\u001b[0m\u001b[0;34m(\u001b[0m\u001b[0;34m)\u001b[0m\u001b[0;34m==\u001b[0m\u001b[0;34m'n'\u001b[0m\u001b[0;34m:\u001b[0m\u001b[0;34m\u001b[0m\u001b[0;34m\u001b[0m\u001b[0m\n",
            "\u001b[0;32m<ipython-input-48-68d8ee05185b>\u001b[0m in \u001b[0;36mprogram\u001b[0;34m()\u001b[0m\n\u001b[1;32m     38\u001b[0m     \u001b[0mprint\u001b[0m\u001b[0;34m(\u001b[0m\u001b[0mstr\u001b[0m\u001b[0;34m(\u001b[0m\u001b[0mcount\u001b[0m\u001b[0;34m)\u001b[0m\u001b[0;34m+\u001b[0m\u001b[0;34m\"개를 맞춰 당청금은 10000원 입니다.\"\u001b[0m\u001b[0;34m)\u001b[0m\u001b[0;34m\u001b[0m\u001b[0;34m\u001b[0m\u001b[0m\n\u001b[1;32m     39\u001b[0m     \u001b[0mprice\u001b[0m\u001b[0;34m=\u001b[0m \u001b[0mprice\u001b[0m\u001b[0;34m+\u001b[0m\u001b[0;36m10000\u001b[0m\u001b[0;34m\u001b[0m\u001b[0;34m\u001b[0m\u001b[0m\n\u001b[0;32m---> 40\u001b[0;31m   \u001b[0mrestart\u001b[0m\u001b[0;34m=\u001b[0m \u001b[0minput\u001b[0m\u001b[0;34m(\u001b[0m\u001b[0;34m\"계속 하시겠습니까?\\n\"\u001b[0m\u001b[0;34m)\u001b[0m\u001b[0;34m\u001b[0m\u001b[0;34m\u001b[0m\u001b[0m\n\u001b[0m\u001b[1;32m     41\u001b[0m   \u001b[0;32mif\u001b[0m \u001b[0mrestart\u001b[0m\u001b[0;34m.\u001b[0m\u001b[0mlower\u001b[0m\u001b[0;34m(\u001b[0m\u001b[0;34m)\u001b[0m\u001b[0;34m==\u001b[0m\u001b[0;34m'y'\u001b[0m\u001b[0;34m:\u001b[0m\u001b[0;34m\u001b[0m\u001b[0;34m\u001b[0m\u001b[0m\n\u001b[1;32m     42\u001b[0m     \u001b[0mprogram\u001b[0m\u001b[0;34m(\u001b[0m\u001b[0;34m)\u001b[0m\u001b[0;34m\u001b[0m\u001b[0;34m\u001b[0m\u001b[0m\n",
            "\u001b[0;32m/usr/local/lib/python3.7/dist-packages/ipykernel/kernelbase.py\u001b[0m in \u001b[0;36mraw_input\u001b[0;34m(self, prompt)\u001b[0m\n\u001b[1;32m    702\u001b[0m             \u001b[0mself\u001b[0m\u001b[0;34m.\u001b[0m\u001b[0m_parent_ident\u001b[0m\u001b[0;34m,\u001b[0m\u001b[0;34m\u001b[0m\u001b[0;34m\u001b[0m\u001b[0m\n\u001b[1;32m    703\u001b[0m             \u001b[0mself\u001b[0m\u001b[0;34m.\u001b[0m\u001b[0m_parent_header\u001b[0m\u001b[0;34m,\u001b[0m\u001b[0;34m\u001b[0m\u001b[0;34m\u001b[0m\u001b[0m\n\u001b[0;32m--> 704\u001b[0;31m             \u001b[0mpassword\u001b[0m\u001b[0;34m=\u001b[0m\u001b[0;32mFalse\u001b[0m\u001b[0;34m,\u001b[0m\u001b[0;34m\u001b[0m\u001b[0;34m\u001b[0m\u001b[0m\n\u001b[0m\u001b[1;32m    705\u001b[0m         )\n\u001b[1;32m    706\u001b[0m \u001b[0;34m\u001b[0m\u001b[0m\n",
            "\u001b[0;32m/usr/local/lib/python3.7/dist-packages/ipykernel/kernelbase.py\u001b[0m in \u001b[0;36m_input_request\u001b[0;34m(self, prompt, ident, parent, password)\u001b[0m\n\u001b[1;32m    732\u001b[0m             \u001b[0;32mexcept\u001b[0m \u001b[0mKeyboardInterrupt\u001b[0m\u001b[0;34m:\u001b[0m\u001b[0;34m\u001b[0m\u001b[0;34m\u001b[0m\u001b[0m\n\u001b[1;32m    733\u001b[0m                 \u001b[0;31m# re-raise KeyboardInterrupt, to truncate traceback\u001b[0m\u001b[0;34m\u001b[0m\u001b[0;34m\u001b[0m\u001b[0;34m\u001b[0m\u001b[0m\n\u001b[0;32m--> 734\u001b[0;31m                 \u001b[0;32mraise\u001b[0m \u001b[0mKeyboardInterrupt\u001b[0m\u001b[0;34m\u001b[0m\u001b[0;34m\u001b[0m\u001b[0m\n\u001b[0m\u001b[1;32m    735\u001b[0m             \u001b[0;32melse\u001b[0m\u001b[0;34m:\u001b[0m\u001b[0;34m\u001b[0m\u001b[0;34m\u001b[0m\u001b[0m\n\u001b[1;32m    736\u001b[0m                 \u001b[0;32mbreak\u001b[0m\u001b[0;34m\u001b[0m\u001b[0;34m\u001b[0m\u001b[0m\n",
            "\u001b[0;31mKeyboardInterrupt\u001b[0m: "
          ]
        }
      ]
    },
    {
      "cell_type": "markdown",
      "metadata": {
        "id": "0o2rJt5aPaqQ"
      },
      "source": [
        "###실습5: 오늘의 명언(보너스)\n"
      ]
    },
    {
      "cell_type": "code",
      "metadata": {
        "colab": {
          "base_uri": "https://localhost:8080/"
        },
        "id": "70j_vjyhPeH8",
        "outputId": "d0698e31-b035-4f52-9f6a-346961c76d11"
      },
      "source": [
        "import random\n",
        "print(\"========================\")\n",
        "print(\"       오늘의 명언       \")\n",
        "print(\"========================\")\n",
        "newlist=[\"꿈을 지녀라. 그러면 어려운 현실을 이길 수 있다.\",\"고생없이 얻을 수 있는 진실로 귀중한 것은 하나도 없다.\",\"사람은 사랑할 때 누구나 시인이 된다.\",\"시작이 반이다.\",\"나는 사랑으로 내가 이해하는 모든 것들을 이해한다\"]\n",
        "print(newlist[random.randint(0,4)])\n"
      ],
      "execution_count": null,
      "outputs": [
        {
          "output_type": "stream",
          "text": [
            "========================\n",
            "       오늘의 명언       \n",
            "========================\n",
            "고생없이 얻을 수 있는 진실로 귀중핚 것은 하나도 없다.\n"
          ],
          "name": "stdout"
        }
      ]
    },
    {
      "cell_type": "markdown",
      "metadata": {
        "id": "cMQrBA-OQDNx"
      },
      "source": [
        "###실습6: 지역구이름 정렬하기"
      ]
    },
    {
      "cell_type": "code",
      "metadata": {
        "colab": {
          "base_uri": "https://localhost:8080/"
        },
        "id": "hiYv3Lg9QEJC",
        "outputId": "66b31646-34ce-4409-b154-fcceb5d78d23"
      },
      "source": [
        "newlist= ['강동구','노원구', '용산구','중구', '관악구','중랑구', '동대문구', '서대문구']\n",
        "newlist.sort()\n",
        "print(\"정렬된 데이터\\n\"+str(newlist))"
      ],
      "execution_count": null,
      "outputs": [
        {
          "output_type": "stream",
          "text": [
            "정렬된 데이터\n",
            "['강동구', '관악구', '노원구', '동대문구', '서대문구', '용산구', '중구', '중랑구']\n"
          ],
          "name": "stdout"
        }
      ]
    },
    {
      "cell_type": "markdown",
      "metadata": {
        "id": "jOlwJYEaQ4TP"
      },
      "source": [
        "###실습7: 지역구이름 입력받아 슬라이싱하기\n"
      ]
    },
    {
      "cell_type": "code",
      "metadata": {
        "colab": {
          "base_uri": "https://localhost:8080/"
        },
        "id": "dZtZ71CdQ5Vf",
        "outputId": "b88fc992-45f2-4542-c0fc-bce7ae448e3c"
      },
      "source": [
        "newlist= ['강동구','노원구', '용산구','중구', '관악구','중랑구', '동대문구', '서대문구']\n",
        "newlist.sort()\n",
        "print(\"정렬된 데이터\\n\"+str(newlist))\n",
        "\n",
        "region=input(\"\\n지역구이름:\")\n",
        "\n",
        "print(newlist[0:int(newlist.index(region))+1])\n"
      ],
      "execution_count": null,
      "outputs": [
        {
          "output_type": "stream",
          "text": [
            "정렬된 데이터\n",
            "['강동구', '관악구', '노원구', '동대문구', '서대문구', '용산구', '중구', '중랑구']\n",
            "\n",
            "지역구이름:강동구\n",
            "['강동구']\n"
          ],
          "name": "stdout"
        }
      ]
    },
    {
      "cell_type": "markdown",
      "metadata": {
        "id": "vDNmrHBMS4hA"
      },
      "source": [
        "###실습8: 주소 슬라이싱하기"
      ]
    },
    {
      "cell_type": "code",
      "metadata": {
        "colab": {
          "base_uri": "https://localhost:8080/"
        },
        "id": "wlNpLC7eS4_N",
        "outputId": "e0d78318-ff9b-40c1-819c-986a92afad6d"
      },
      "source": [
        "newlist=['02-334-0000', '서울시', '노원구', '행복동', '가즈아로', '낙엽', '패딩점퍼']\n",
        "a=0\n",
        "address=[]\n",
        "while a<len(newlist):\n",
        "  word=newlist[a]\n",
        "  if word[-1]=='시'or word[-1]=='동'or word[-1]=='구'or word[-1]=='로':\n",
        "    address.append(newlist[a])\n",
        "\n",
        "  a=a+1\n",
        "\n",
        "print(address)\n",
        "\n"
      ],
      "execution_count": null,
      "outputs": [
        {
          "output_type": "stream",
          "text": [
            "['서울시', '노원구', '행복동', '가즈아로']\n"
          ],
          "name": "stdout"
        }
      ]
    },
    {
      "cell_type": "markdown",
      "metadata": {
        "id": "DkZMaWFMTs9w"
      },
      "source": [
        "###실습9: 점수 입력 받아 합구하기"
      ]
    },
    {
      "cell_type": "code",
      "metadata": {
        "colab": {
          "base_uri": "https://localhost:8080/"
        },
        "id": "OVO3LPziTtjO",
        "outputId": "59fd8b86-5de9-4108-8c4a-8cb1e8bf27aa"
      },
      "source": [
        "inputlist=input(\"학생들의 이름 입력(,로 구분): \")\n",
        "newlist=inputlist.split(\",\")\n",
        "inputscore=input(\"학생들의 국어성적 입력(,로 구분): \")\n",
        "score=inputscore.split(\",\")\n",
        "totalscore=0\n",
        "a=0\n",
        "while a<len(score):\n",
        "  totalscore=totalscore+int(score[a])\n",
        "  a=a+1\n",
        "\n",
        "print (\"\\nSum:\",totalscore)\n",
        "\n"
      ],
      "execution_count": null,
      "outputs": [
        {
          "output_type": "stream",
          "text": [
            "학생들의 이름 입력(,로 구분): 90,80,95\n",
            "학생들의 국어성적 입력(,로 구분): 90,80,95\n",
            "\n",
            "Sum: 265\n"
          ],
          "name": "stdout"
        }
      ]
    },
    {
      "cell_type": "markdown",
      "metadata": {
        "id": "Yo8jRudbUp9x"
      },
      "source": [
        "###실습10 : 단어의 개수 출력하기"
      ]
    },
    {
      "cell_type": "code",
      "metadata": {
        "colab": {
          "base_uri": "https://localhost:8080/"
        },
        "id": "RoLM-BZRUqYY",
        "outputId": "1071d465-8720-4581-cdf7-82e72b23e1e4"
      },
      "source": [
        "newlist=input().split()\n",
        "print(\"count:\",len(newlist))"
      ],
      "execution_count": null,
      "outputs": [
        {
          "output_type": "stream",
          "text": [
            "ant baboon badger bat bear beaver camel cat clam cobra cougar coyote crow deer dog donkey duck eagle ferret fox frog goat goose hawk lion lizard llama mole monkey moose mouse mule newt otter owl panda parrot pigeon python rabbit ram rat raven rhino salmon seal shark sheep skunk sloth snake spider stork swan tiger toad trout turkey turtle weasel whale wolf zebra\n",
            "count: 63\n"
          ],
          "name": "stdout"
        }
      ]
    },
    {
      "cell_type": "markdown",
      "metadata": {
        "id": "SDny60T1U5PW"
      },
      "source": [
        "###실습11 : 단어의 개수만큼 숫자아이템 만들기"
      ]
    },
    {
      "cell_type": "code",
      "metadata": {
        "colab": {
          "base_uri": "https://localhost:8080/"
        },
        "id": "TTG-a9QFU6UY",
        "outputId": "f768f7ee-842c-4ef4-dde7-1fbc204441d0"
      },
      "source": [
        "newlist=input().split()\n",
        "print(\"count:\", len(newlist))\n",
        "print(list(range(len(newlist))))\n",
        "\n"
      ],
      "execution_count": null,
      "outputs": [
        {
          "output_type": "stream",
          "text": [
            "ant baboon badger bat bear beaver camel cat clam cobra cougar coyote crow deer dog donkey duck eagle ferret fox frog goat goose hawk lion lizard llama mole monkey moose mouse mule newt otter owl panda parrot pigeon python rabbit ram rat raven rhino salmon seal shark sheep skunk sloth snake spider stork swan tiger toad trout turkey turtle weasel whale wolf zebra\n",
            "count: 63\n",
            "[0, 1, 2, 3, 4, 5, 6, 7, 8, 9, 10, 11, 12, 13, 14, 15, 16, 17, 18, 19, 20, 21, 22, 23, 24, 25, 26, 27, 28, 29, 30, 31, 32, 33, 34, 35, 36, 37, 38, 39, 40, 41, 42, 43, 44, 45, 46, 47, 48, 49, 50, 51, 52, 53, 54, 55, 56, 57, 58, 59, 60, 61, 62]\n"
          ],
          "name": "stdout"
        }
      ]
    },
    {
      "cell_type": "markdown",
      "metadata": {
        "id": "q3gtKP_LAKCN"
      },
      "source": [
        "#6주차 실습"
      ]
    },
    {
      "cell_type": "markdown",
      "metadata": {
        "id": "jgDCeVYbATQO"
      },
      "source": [
        "##6-1 실습"
      ]
    },
    {
      "cell_type": "markdown",
      "metadata": {
        "id": "2CgpuMAPAYtY"
      },
      "source": [
        "###실습 1: 로그인프로그램 함수정의"
      ]
    },
    {
      "cell_type": "code",
      "metadata": {
        "colab": {
          "base_uri": "https://localhost:8080/"
        },
        "id": "CedfwLVSASQZ",
        "outputId": "d9865736-86f8-4db6-8ee6-0bef8507d283"
      },
      "source": [
        "def login(pwd):\n",
        "  if pwd==\"pythonisfun\":\n",
        "    return True\n",
        "\n",
        "  else:\n",
        "    return False\n",
        "\n",
        "\n",
        "password=\"\"\n",
        "while login(password)== False:\n",
        "    password=input(\"암호를 입력하시오: \")\n",
        "  \n",
        "print(\"로그인 성공\")\n",
        "\n",
        "\n",
        "\n"
      ],
      "execution_count": null,
      "outputs": [
        {
          "output_type": "stream",
          "text": [
            "암호를 입력하시오: asdf\n",
            "암호를 입력하시오: asdf\n",
            "암호를 입력하시오: 123\n",
            "암호를 입력하시오: 2314\n",
            "암호를 입력하시오: pythonisfun\n",
            "로그인 성공\n"
          ],
          "name": "stdout"
        }
      ]
    },
    {
      "cell_type": "markdown",
      "metadata": {
        "id": "HbDqg4QxAyVD"
      },
      "source": [
        "###실습 2. 함수로 입력 받은 수 까지의 합 구하기"
      ]
    },
    {
      "cell_type": "code",
      "metadata": {
        "colab": {
          "base_uri": "https://localhost:8080/"
        },
        "id": "USOb6tpsA02C",
        "outputId": "d68e5307-59a7-4741-b3b5-86398c633338"
      },
      "source": [
        "def compute(numb):\n",
        "  k=1\n",
        "  a=0\n",
        "  while k<=numb:  \n",
        "    a=a+k\n",
        "    k=k+1\n",
        "  \n",
        "  else:\n",
        "    return a\n",
        "\n",
        "\n",
        "\n",
        "number=int(input(\"수를 입력하세요.\"))\n",
        "if number<1:\n",
        "  print(\"1 이상의 수를 입력하셔야 합니다.\")\n",
        "\n",
        "else:\n",
        "  print(\"1 부터 \",number,\"까지의 합은\",compute(number))"
      ],
      "execution_count": null,
      "outputs": [
        {
          "output_type": "stream",
          "text": [
            "수를 입력하세요.1\n",
            "1 부터  1 까지의 합은 1\n"
          ],
          "name": "stdout"
        }
      ]
    },
    {
      "cell_type": "markdown",
      "metadata": {
        "id": "HEFuDU4tA1Fr"
      },
      "source": [
        "###실습 3. 사칙연산 계산기"
      ]
    },
    {
      "cell_type": "code",
      "metadata": {
        "colab": {
          "base_uri": "https://localhost:8080/"
        },
        "id": "vYLQdEZ4A2nv",
        "outputId": "b75c8724-ef50-43c5-8ef2-65f8e271b5f0"
      },
      "source": [
        "def addition(a,b):\n",
        "  return int(a)+int(b)\n",
        "\n",
        "def subtraction(a,b):\n",
        "  return int(a)-int(b)\n",
        "\n",
        "def division(a,b):\n",
        "  return int(a)//int(b)\n",
        "\n",
        "def multiplication(a,b):\n",
        "  return int(a)*int(b)\n",
        "\n",
        "number= input(\"input two numbers with space \").split()\n",
        "function= input(\"Choose between (Add/Minus/Multiply/Divide) \")\n",
        "if function.lower()==\"add\":\n",
        "  print(\"The Addition of\", number[0],\"and\", number[1],\"is\",addition(number[0],number[1]))\n",
        "\n",
        "elif function.lower()==\"minus\":\n",
        "  print(\"The subtraction of\", number[0],\"and\", number[1],\"is\",subtraction(number[0],number[1]))\n",
        "\n",
        "elif function.lower()==\"multiply\":\n",
        "  print(\"The Multiplication of\", number[0],\"and\", number[1],\"is\",multiplication(number[0],number[1]))\n",
        "\n",
        "elif function.lower()==\"divide\":\n",
        "  print(\"The Division of\", number[0],\"and\", number[1],\"is\",division(number[0],number[1]))\n",
        "\n",
        "else:\n",
        "  print(\"enter a proper command\")\n",
        "\n",
        "\n",
        "\n",
        "\n"
      ],
      "execution_count": null,
      "outputs": [
        {
          "output_type": "stream",
          "text": [
            "input two numbers with space 9 4\n",
            "Choose between (Add/Minus/Multiply/Divide) divide\n",
            "The Division of 9 and 4 is 2\n"
          ],
          "name": "stdout"
        }
      ]
    },
    {
      "cell_type": "markdown",
      "metadata": {
        "id": "Ab6bceO2A26-"
      },
      "source": [
        "###실습 4: 상품재고관리 프로그램"
      ]
    },
    {
      "cell_type": "code",
      "metadata": {
        "colab": {
          "base_uri": "https://localhost:8080/"
        },
        "id": "VK5jaDC1A487",
        "outputId": "5db3a2b8-9c32-48cb-b530-9397b12115ac"
      },
      "source": [
        "def start():\n",
        "  print (\"상품재고관리 프로그램\\n\")\n",
        "  global newlist\n",
        "  newlist= ['커피', '우유', '바나나', '감귤', '화장지', '장갑', '이불', '베개', '장난감', '음료수', '빵']\n",
        "\n",
        "def insert(loc,pro):\n",
        "  newlist.insert(loc,pro)\n",
        "  print(\"사과 삽입 완료\")\n",
        "  print(newlist)\n",
        "  return\n",
        "\n",
        "def search(product):\n",
        "  if product in newlist:\n",
        "    return True\n",
        "  else:\n",
        "    return False\n",
        "\n",
        "def deletion(product):\n",
        "  if search(product)==True:\n",
        "    newlist.remove(delete)\n",
        "    return True\n",
        "  \n",
        "  else:\n",
        "    return False\n",
        "\n",
        "\n",
        "start()\n",
        "\n",
        "choice= int(input(\"상품관리(1. 삽입, 2. 삭제, 3. 상품 확인, 4. 종료):\"))\n",
        "\n",
        "if choice ==1:\n",
        "  product= input(\"상품관리1-삽입) 삽입하고자 하는 상품은?\")\n",
        "  location= int(input(\"상품관리1-삽입) 삽입하고자 하는 위치는?\"))\n",
        "  ##insert\n",
        "  insert(location,product)\n",
        "\n",
        "elif choice ==2:\n",
        "  delete=input(\"상품관리2-삭제) 삭제하고자 하는 상품은?\")\n",
        "  if deletion(delete)==True:\n",
        "    print(delete+\" 삭제 완료\")\n",
        "  else:\n",
        "    print(delete+\" 없음\")\n",
        "    \n",
        "  print(newlist)\n",
        "  \n",
        "  \n",
        "\n",
        "elif choice==3:\n",
        "  product=input(\"상품관리3-상품 확인) 확인하고자 하는 상품은?\")\n",
        "  search(product)\n",
        "  if search==True:\n",
        "    print(product+\" 검색 완료\")\n",
        "  \n",
        "  else:\n",
        "    print(\"검색하는 상품을 찾지 못하였습니다.\")\n",
        "\n",
        "\n",
        "\n",
        "elif choice==4:\n",
        "  print(\"프로그램을 종료합니다.\")\n",
        "\n"
      ],
      "execution_count": null,
      "outputs": [
        {
          "output_type": "stream",
          "text": [
            "상품재고관리 프로그램\n",
            "\n",
            "상품관리(1. 삽입, 2. 삭제, 3. 상품 확인, 4. 종료):2\n",
            "상품관리2-삭제) 삭제하고자 하는 상품은?장난감\n",
            "장난감 삭제 완료\n",
            "['커피', '우유', '바나나', '감귤', '화장지', '장갑', '이불', '베개', '음료수', '빵']\n"
          ],
          "name": "stdout"
        }
      ]
    },
    {
      "cell_type": "markdown",
      "metadata": {
        "id": "KXZ7siV1A5Wl"
      },
      "source": [
        "###실습 5. Dragon realm"
      ]
    },
    {
      "cell_type": "code",
      "metadata": {
        "colab": {
          "base_uri": "https://localhost:8080/",
          "height": 425
        },
        "id": "1RDwa5wyA67o",
        "outputId": "78c62e67-0db7-4277-8dd4-12a7b4b165ec"
      },
      "source": [
        "import time, random, os\n",
        "\n",
        "def colored(r, g, b, text):\n",
        "    return \"\\033[38;2;{};{};{}m{} \\033[38;2;255;255;255m\".format(r, g, b, text)\n",
        "def intro():\n",
        "  print(\"\\nYou are the heir of a King's knight in a land full of dragons.\")\n",
        "  time.sleep(3)\n",
        "  print(\"Your ancestors have failed the king and you arrive to the dragon's den.\")\n",
        "  time.sleep(3)\n",
        "  print(\"You promise yourself you will finish the unfinished deed and bring honor back to your family\")\n",
        "  time.sleep(3)\n",
        "  print(\"In front of you, you see two caves.\")\n",
        "  time.sleep(3)\n",
        "  print(\"In one cave, the dragon is friendly\")\n",
        "  time.sleep(2)\n",
        "  print(\"and will share his treasure with you.\")\n",
        "  time.sleep(2)\n",
        "  print(\"The other dragon is greedy and hungry,\")\n",
        "  time.sleep(2)\n",
        "  print(\"and will eat you on sight...\")\n",
        "  time.sleep(2)\n",
        "\n",
        "def chooseCave():\n",
        "  global path\n",
        "  path= input(\"\\nDaring adventure, choose your path between 1 or 2. Neither cowardice nor an half-assed answer will be tolerated.\")\n",
        "  while not(path==\"1\" or path ==\"2\"):\n",
        "      path=input(\"Muster your courage, adventurer, and hastily choose between path 1 or 2 \")\n",
        "      if path==\"1\" or path ==\"2\":\n",
        "        break\n",
        "\n",
        "def dragongame():\n",
        "  intro()\n",
        "  \n",
        "  chooseCave()\n",
        "\n",
        "  print(\"\\nYou slowly approach the cave you have chosen.\")\n",
        "  time.sleep(3)\n",
        "  print(\"The darkness embraces you as you slowly proceed into the mouth of the cave\")\n",
        "  time.sleep(3)\n",
        "  print(\"Every step you take reminds you of the terrors of the myth\")\n",
        "  time.sleep(2)\n",
        "  print(\"or the reward you will reap for your well chosen path\")\n",
        "  time.sleep(2)\n",
        "  print(\"... ...\")\n",
        "  time.sleep(2)\n",
        "  print(\"... ... ...\")\n",
        "  time.sleep(2)\n",
        "  print(\"You have approached an endless abyss. \")\n",
        "  time.sleep(2)\n",
        "\n",
        "\n",
        "  print(\"\\nThis will be your final chance to change your decision.\")\n",
        "  time.sleep(3)\n",
        "  print(\"You gamble with your life and if you win, you may be rewarded with lifelong wealth.\")\n",
        "  time.sleep(3)\n",
        "\n",
        "  light= input(\"\\nIf you lose, you may suffer a gruesome death no one will have imagined. Will you shine your torch towards the Abyss? (y/n)\")\n",
        "  while not(light==\"y\" or light ==\"n\"):\n",
        "        light=input(\"Muster your courage, adventurer, and hastily choose between path y or n \")\n",
        "        if light==\"y\" or light ==\"n\":\n",
        "          break\n",
        "  number=random.randint(1,2)\n",
        "  if (light==\"y\"):\n",
        "    if (int(path)==number):\n",
        "      print(\"\\nYour courage has been rewarded. The benevolent dragon offers to share his valued treasures.\")\n",
        "      time.sleep(3)\n",
        "      print(\"You return to your village and is praised as a hero for your courageous acts. \")\n",
        "      time.sleep(2)\n",
        "      print(\"You become a legend many will live on tell.\")\n",
        "      quit()\n",
        "\n",
        "    else:\n",
        "      print(\"\\nAs you shine the light down the seemingly endless abyss, a large creature emerges.\")\n",
        "      time.sleep(3)\n",
        "      print(\"It is time to prove yourself adventurer. Prove your worth or suffer a terrible death!\")\n",
        "      time.sleep(3)\n",
        "      print(\"You unsheath your sword as you prepare for battle.\")\n",
        "      battle()\n",
        "\n",
        "  if (light==\"n\"):\n",
        "    print(\"\\nYou coward as you drop your belongings and run for the exit\")\n",
        "    time.sleep(3)\n",
        "    print(\"The townsfolk that depended on you are dissapointed and the King executes you to death for failing his command.\")\n",
        "    time.sleep(3)\n",
        "    print(\"Meanwhile, your son watches your execution and promises himself to finish his father's unfinished mission\")\n",
        "    time.sleep(3)\n",
        "    print(\"Who knows, maybe your son will be the fabled Knight to collect the Dragon's Treasures.\")\n",
        "\n",
        "\n",
        "  again= input(\"\\nDo you want to play again?(y/n) by the way there IS a battle scene\")\n",
        "\n",
        "  if again=='y':\n",
        "    dragongame()\n",
        "\n",
        "  elif again=='n':\n",
        "\n",
        "    print(\"thank you for playing!\")\n",
        "\n",
        "  elif again=='b':\n",
        "    battle()\n",
        "\n",
        "  return  \n",
        "\n",
        "\n",
        "def battle():\n",
        "  time.sleep(2)\n",
        "  print(\"\\nThe Ravenous Dragon roars as you drop into the abyss.\")\n",
        "  time.sleep(2)\n",
        "  print(\"You manage to barely land on your feet and regain balance as prepare youself for battle.\")\n",
        "  time.sleep(2)\n",
        "\n",
        "  dragonh=5\n",
        "  userh=4\n",
        "  while (dragonh>0 and userh>0):\n",
        "    dragonmove=random.randint(1,2)\n",
        "  \n",
        "    move= input(\"\\nThe dragon prepares for an attack, will you dodge or defend with your shield? ('d'for dodge/ 's' for shield)\")\n",
        "    if not(move==\"d\" or move ==\"s\"):\n",
        "      print(\"you fail to decide in time and the dragon strikes you. you lose 25% of your Health Point\")\n",
        "      userh=userh-1\n",
        "    \n",
        "    elif (move==\"s\"):\n",
        "     move= 1\n",
        "     if (move==dragonmove):\n",
        "        print(\"\\nThe dragon strikes you with its claws\")\n",
        "        time.sleep(2)\n",
        "        print(\"But you barely manage to block with your shield!\")\n",
        "        time.sleep(2)\n",
        "        print(\"The dragon is stunned and you Attack with a reposte! The Dragon seems disturbed.\")\n",
        "        dragonh=dragonh-1\n",
        "        time.sleep(2)\n",
        "     else:\n",
        "        print(\"\\nThe dragon launches a ball of flame as you bolster up with your shield.\")\n",
        "        time.sleep(2)\n",
        "        print(\"The Shield is completely useless against the heat!\")\n",
        "        time.sleep(2)\n",
        "        print(\"The combustion gets your skin and you lose 25% of your healthpoint.\")\n",
        "        time.sleep(2)\n",
        "        print(\"This is going to be an uphill battle.\")\n",
        "        userh=userh-1\n",
        "        time.sleep(2)\n",
        "\n",
        "    elif (move==\"d\"):\n",
        "      move=2\n",
        "      if (move==dragonmove):\n",
        "        print(\"\\nThe dragon launches a beam of flame as you strafe towards its tail.\")\n",
        "        time.sleep(2)\n",
        "        print(\"As its too busy breathing fire, you slash its tail!\")\n",
        "        time.sleep(2)\n",
        "        print(\"Pieces of its scale fall off. The dragon seems exhuasted.\")\n",
        "        dragonh=dragonh-1\n",
        "        time.sleep(2)\n",
        "      else:\n",
        "        print(\"\\nThe dragon strikes you with its claws\")\n",
        "        time.sleep(2)\n",
        "        print(\"You roll to the side but its Wide Stride manages to puncture your armor!\")\n",
        "        time.sleep(2)\n",
        "        print(\"Bloodstain is on your arm and you suffer hemorage. You lose 25% of your Health Point\")\n",
        "        userh=userh-1\n",
        "        time.sleep(2)\n",
        "\n",
        "  if dragonh==0:\n",
        "    time.sleep(3)\n",
        "    print(\"\\nThe Dragon seems infuriated and it prepares for its final attack!\")\n",
        "    time.sleep(2)\n",
        "    print(\"As it charges up its last and final breath of fire, you stab your trusty sword right into its chest!\")\n",
        "    time.sleep(3)\n",
        "    print(\"The Dragon's Corpse collapses as you take a breath.\")\n",
        "    time.sleep(3)\n",
        "    print(\"\\nYour courage has been rewarded and you collect the treasures the ravenous dragon was guarding.\")\n",
        "    time.sleep(3)\n",
        "    print(\"You return to your village and is praised as a hero for your courageous acts. \")\n",
        "    time.sleep(2)\n",
        "    print(\"You become a legend many will live on tell.\")\n",
        "    quit()\n",
        "\n",
        "  elif userh==0:\n",
        "    time.sleep(3)\n",
        "    print(\"\\nThe Dragon seems infuriated and it prepares for its final attack!\")\n",
        "    time.sleep(2)\n",
        "    print(\"As it charges up its last and final breath of fire, you fail to dodge its attack\")\n",
        "    time.sleep(3)\n",
        "    print(\"Flame engulfs your body as you scream out of terror\")\n",
        "    time.sleep(3)\n",
        "    print(\"The Dragon bites your burning body and devours your entire corpse\")\n",
        "    time.sleep(3)\n",
        "    print(\"You have fought well but the dragon was too strong of an opponent.\")\n",
        "    time.sleep(3)\n",
        "    print(\"\\n...Meanwhile, your son hears your defeat and promises himself to finish his father's unfinished mission\")\n",
        "    time.sleep(3)\n",
        "    print(\"Who knows, maybe your son will be the fabled knight to collect the Dragon's Treasures.\")\n",
        "    time.sleep(3)\n",
        "    \n",
        "\n",
        "\n",
        "    return\n",
        "dragongame()\n",
        "\n",
        "  "
      ],
      "execution_count": null,
      "outputs": [
        {
          "output_type": "stream",
          "text": [
            "\n",
            "You are the heir of a King's knight in a land full of dragons.\n",
            "Your ancestors have failed the king and you arrive to the dragon's den.\n"
          ],
          "name": "stdout"
        },
        {
          "output_type": "error",
          "ename": "KeyboardInterrupt",
          "evalue": "ignored",
          "traceback": [
            "\u001b[0;31m---------------------------------------------------------------------------\u001b[0m",
            "\u001b[0;31mKeyboardInterrupt\u001b[0m                         Traceback (most recent call last)",
            "\u001b[0;32m<ipython-input-38-22dfecd30424>\u001b[0m in \u001b[0;36m<module>\u001b[0;34m()\u001b[0m\n\u001b[1;32m    195\u001b[0m \u001b[0;34m\u001b[0m\u001b[0m\n\u001b[1;32m    196\u001b[0m     \u001b[0;32mreturn\u001b[0m\u001b[0;34m\u001b[0m\u001b[0;34m\u001b[0m\u001b[0m\n\u001b[0;32m--> 197\u001b[0;31m \u001b[0mdragongame\u001b[0m\u001b[0;34m(\u001b[0m\u001b[0;34m)\u001b[0m\u001b[0;34m\u001b[0m\u001b[0;34m\u001b[0m\u001b[0m\n\u001b[0m\u001b[1;32m    198\u001b[0m \u001b[0;34m\u001b[0m\u001b[0m\n\u001b[1;32m    199\u001b[0m \u001b[0;34m\u001b[0m\u001b[0m\n",
            "\u001b[0;32m<ipython-input-38-22dfecd30424>\u001b[0m in \u001b[0;36mdragongame\u001b[0;34m()\u001b[0m\n\u001b[1;32m     30\u001b[0m \u001b[0;34m\u001b[0m\u001b[0m\n\u001b[1;32m     31\u001b[0m \u001b[0;32mdef\u001b[0m \u001b[0mdragongame\u001b[0m\u001b[0;34m(\u001b[0m\u001b[0;34m)\u001b[0m\u001b[0;34m:\u001b[0m\u001b[0;34m\u001b[0m\u001b[0;34m\u001b[0m\u001b[0m\n\u001b[0;32m---> 32\u001b[0;31m   \u001b[0mintro\u001b[0m\u001b[0;34m(\u001b[0m\u001b[0;34m)\u001b[0m\u001b[0;34m\u001b[0m\u001b[0;34m\u001b[0m\u001b[0m\n\u001b[0m\u001b[1;32m     33\u001b[0m \u001b[0;34m\u001b[0m\u001b[0m\n\u001b[1;32m     34\u001b[0m   \u001b[0mchooseCave\u001b[0m\u001b[0;34m(\u001b[0m\u001b[0;34m)\u001b[0m\u001b[0;34m\u001b[0m\u001b[0;34m\u001b[0m\u001b[0m\n",
            "\u001b[0;32m<ipython-input-38-22dfecd30424>\u001b[0m in \u001b[0;36mintro\u001b[0;34m()\u001b[0m\n\u001b[1;32m      7\u001b[0m   \u001b[0mtime\u001b[0m\u001b[0;34m.\u001b[0m\u001b[0msleep\u001b[0m\u001b[0;34m(\u001b[0m\u001b[0;36m3\u001b[0m\u001b[0;34m)\u001b[0m\u001b[0;34m\u001b[0m\u001b[0;34m\u001b[0m\u001b[0m\n\u001b[1;32m      8\u001b[0m   \u001b[0mprint\u001b[0m\u001b[0;34m(\u001b[0m\u001b[0;34m\"Your ancestors have failed the king and you arrive to the dragon's den.\"\u001b[0m\u001b[0;34m)\u001b[0m\u001b[0;34m\u001b[0m\u001b[0;34m\u001b[0m\u001b[0m\n\u001b[0;32m----> 9\u001b[0;31m   \u001b[0mtime\u001b[0m\u001b[0;34m.\u001b[0m\u001b[0msleep\u001b[0m\u001b[0;34m(\u001b[0m\u001b[0;36m3\u001b[0m\u001b[0;34m)\u001b[0m\u001b[0;34m\u001b[0m\u001b[0;34m\u001b[0m\u001b[0m\n\u001b[0m\u001b[1;32m     10\u001b[0m   \u001b[0mprint\u001b[0m\u001b[0;34m(\u001b[0m\u001b[0;34m\"You promise yourself you will finish the unfinished deed and bring honor back to your family\"\u001b[0m\u001b[0;34m)\u001b[0m\u001b[0;34m\u001b[0m\u001b[0;34m\u001b[0m\u001b[0m\n\u001b[1;32m     11\u001b[0m   \u001b[0mtime\u001b[0m\u001b[0;34m.\u001b[0m\u001b[0msleep\u001b[0m\u001b[0;34m(\u001b[0m\u001b[0;36m3\u001b[0m\u001b[0;34m)\u001b[0m\u001b[0;34m\u001b[0m\u001b[0;34m\u001b[0m\u001b[0m\n",
            "\u001b[0;31mKeyboardInterrupt\u001b[0m: "
          ]
        }
      ]
    },
    {
      "cell_type": "markdown",
      "metadata": {
        "id": "D48todV3FNM8"
      },
      "source": [
        "#7주차 실습"
      ]
    },
    {
      "cell_type": "markdown",
      "metadata": {
        "id": "X39WNUhqFiIK"
      },
      "source": [
        "##7-1 실습"
      ]
    },
    {
      "cell_type": "markdown",
      "metadata": {
        "id": "DquFmgMhA7TA"
      },
      "source": [
        "###실습1 : 패션 추천 조합"
      ]
    },
    {
      "cell_type": "code",
      "metadata": {
        "colab": {
          "base_uri": "https://localhost:8080/"
        },
        "id": "2t0yAvLKFsV9",
        "outputId": "3e52a56d-791e-4fdf-f158-167fe7764b72"
      },
      "source": [
        "import random\n",
        "\n",
        "color = ['black', 'grey', 'white', 'pink', 'orange']\n",
        "topwears = ['sweater', 'shirts', 'blouse', 'jacket']\n",
        "bottomwears = ['skirt', 'pants', 'leggings', 'jeans']\n",
        "accessory = ['hat', 'tie', 'scarf', 'shoes']\n",
        "\n",
        "i=0\n",
        "\n",
        "for i in range(0,3):\n",
        "  print (\"오늘의 패션 \"+str(i+1)+\"번 추천 조합입니다.\"  )\n",
        "  print (color[random.randint(0,len(color)-1)]+\" \"+topwears[random.randint(0,len(topwears)-1)])\n",
        "  print (color[random.randint(0,len(color)-1)]+\" \"+bottomwears[random.randint(0,len(bottomwears)-1)])\n",
        "  print (color[random.randint(0,len(color)-1)]+\" \"+accessory[random.randint(0,len(accessory)-1)]+\"\\n\")\n",
        "  "
      ],
      "execution_count": null,
      "outputs": [
        {
          "output_type": "stream",
          "text": [
            "오늘의 패션 1번 추천 조합입니다.\n",
            "orange sweater\n",
            "orange leggings\n",
            "orange shoes\n",
            "\n",
            "오늘의 패션 2번 추천 조합입니다.\n",
            "grey jacket\n",
            "grey leggings\n",
            "orange hat\n",
            "\n",
            "오늘의 패션 3번 추천 조합입니다.\n",
            "pink jacket\n",
            "white pants\n",
            "orange hat\n",
            "\n"
          ],
          "name": "stdout"
        }
      ]
    },
    {
      "cell_type": "markdown",
      "metadata": {
        "id": "5ONS7MMFFuyQ"
      },
      "source": [
        "###실습2 : 소수 찾기\n"
      ]
    },
    {
      "cell_type": "code",
      "metadata": {
        "colab": {
          "base_uri": "https://localhost:8080/"
        },
        "id": "uAQGtbwNFvuz",
        "outputId": "ddd48d02-5885-42cf-b422-55576981c258"
      },
      "source": [
        "number=int(input(\"enter number: \"))\n",
        "lists=[]\n",
        "for i in range(3, number):\n",
        "  a=2\n",
        "  prime= True\n",
        "  for a in range(a,i):\n",
        "    if (i%a==0):\n",
        "      prime=False\n",
        "      break\n",
        "    \n",
        "  if prime== True:\n",
        "    lists.append(i)\n",
        "\n",
        "print(lists)\n",
        "\n",
        "    \n",
        "    \n"
      ],
      "execution_count": null,
      "outputs": [
        {
          "output_type": "stream",
          "text": [
            "enter number: 200\n",
            "[3, 5, 7, 11, 13, 17, 19, 23, 29, 31, 37, 41, 43, 47, 53, 59, 61, 67, 71, 73, 79, 83, 89, 97, 101, 103, 107, 109, 113, 127, 131, 137, 139, 149, 151, 157, 163, 167, 173, 179, 181, 191, 193, 197, 199]\n"
          ],
          "name": "stdout"
        }
      ]
    },
    {
      "cell_type": "markdown",
      "metadata": {
        "id": "Dqy9prlDFy1I"
      },
      "source": [
        "###실습3: 숫자야구게임 만들기"
      ]
    },
    {
      "cell_type": "code",
      "metadata": {
        "colab": {
          "base_uri": "https://localhost:8080/"
        },
        "id": "f4aOuEAtFzme",
        "outputId": "a19deb3a-e83b-410f-ce7a-209b740af97a"
      },
      "source": [
        "import random\n",
        "\n",
        "\n",
        "lists=[str(random.randint(0,9)), str(random.randint(0,9)), str(random.randint(0,9))]\n",
        "\n",
        "print(\"숫자야구게임을 시작합니다. \\n\")\n",
        "\n",
        "\n",
        "print (list)\n",
        "\n",
        "\n",
        "\n",
        "\n",
        "for i in range(0,5):\n",
        "  guess= input(\"\\n숫자 3개를 입력하세요(예 3 5 8)\").split()\n",
        "  j=0\n",
        "  strike=0\n",
        "  ball=0\n",
        "  for j in range(0,3):\n",
        "   \n",
        "    if(guess[j] in lists):\n",
        "      if(guess[j]==lists[j]):\n",
        "        strike=strike+1\n",
        "\n",
        "      else:\n",
        "        ball=ball+1\n",
        "\n",
        "  \n",
        "  if strike==3:\n",
        "    print(\"Home run\\n게임을 종료합니다.\")\n",
        "    break\n",
        "  print(strike,\"strike\",ball,\"ball\")\n",
        "  if i==4:\n",
        "    print(\"기회를 모두 소진하였습니다. 비밀숫자는\",lists,\"입니다.\")\n",
        "  \n",
        "  \n"
      ],
      "execution_count": null,
      "outputs": [
        {
          "output_type": "stream",
          "text": [
            "숫자야구게임을 시작합니다. \n",
            "\n",
            "['0', '3', '6']\n"
          ],
          "name": "stdout"
        }
      ]
    },
    {
      "cell_type": "markdown",
      "metadata": {
        "id": "hVVRzMYtFz97"
      },
      "source": [
        "##7-2 실습"
      ]
    },
    {
      "cell_type": "markdown",
      "metadata": {
        "id": "D9Lk_A6xORRW"
      },
      "source": [
        "###실습1 : tuple의 활용"
      ]
    },
    {
      "cell_type": "code",
      "metadata": {
        "colab": {
          "base_uri": "https://localhost:8080/"
        },
        "id": "HC1yh9pwF2-O",
        "outputId": "aa2ac4c0-5165-451d-a757-fc98c761b644"
      },
      "source": [
        "tuple1=('초록','빨강','파랑')\n",
        "tuple2 = tuple([7,1,2,23,4,5])\n",
        "print('튜플의 길이는', len(tuple2),'입니다.')\n",
        "print('튜플의 최대값은', max(tuple2),'입니다.')\n",
        "print('튜플의 최소값은', min(tuple2),'입니다.')\n",
        "print('튜플의 합계는', sum(tuple2),'입니다.')\n",
        "#print (tuple2.sort())#에러나옴\n",
        "print()\n",
        "print(tuple2)\n",
        "for v in tuple1:\n",
        " print(v, end=' ')\n",
        "print()\n",
        "list1=list(tuple2)\n",
        "print(list1)\n",
        "list1.sort() #결과가 출력되지 않는다.\n",
        "print(list1.sort()) #마찬가지로 결과가 출력되지 않는다.\n",
        "print(list1) #결과가 출력된다.\n",
        "\n",
        "\n",
        "#print ('츄플의 길이는'), len(tuple2), '입니다)\n",
        "#print ('튜플의 최대값은, max(tuple2), '입니다.')\n",
        "#print ('튜플의 최소값은', min(tuple2), '입니다.')\n",
        "#print ('튜플의 합계는', sum(tuple2), '입니다.')\n",
        "#print"
      ],
      "execution_count": null,
      "outputs": [
        {
          "output_type": "stream",
          "text": [
            "튜플의 길이는 6 입니다.\n",
            "튜플의 최대값은 23 입니다.\n",
            "튜플의 최소값은 1 입니다.\n",
            "튜플의 합계는 42 입니다.\n",
            "\n",
            "(7, 1, 2, 23, 4, 5)\n",
            "초록 빨강 파랑 \n",
            "[7, 1, 2, 23, 4, 5]\n",
            "None\n",
            "[1, 2, 4, 5, 7, 23]\n"
          ],
          "name": "stdout"
        }
      ]
    },
    {
      "cell_type": "markdown",
      "metadata": {
        "id": "sEvyc8bWPQUD"
      },
      "source": [
        "###실습2 : set의 활용"
      ]
    },
    {
      "cell_type": "code",
      "metadata": {
        "colab": {
          "base_uri": "https://localhost:8080/",
          "height": 180
        },
        "id": "gtqJ1LaqPRa-",
        "outputId": "192e78ee-bcfc-4929-cdf3-d30d850b209d"
      },
      "source": [
        "import os\n",
        "import sys\n",
        "keyWords ={\"and\", \"as\", \"if\", \"default\", \"default\", \"as\", \"like\"}\n",
        "filename = input('소스코드파일명을 입력하세요').strip()\n",
        "if not os.path.isfile(filename):\n",
        " print(\"파일\", filename, \"이 존재하지 않습니다.\")\n",
        " sys.exit()\n",
        "infile = open(filename,'r')\n",
        "text=infile.read().split()\n",
        "count=0\n",
        "for word in text:\n",
        " if word in keyWords:\n",
        "  count +=1\n",
        "print(filename, \"에\", count,'개의 키워드가 포함되어 있습니다.')"
      ],
      "execution_count": null,
      "outputs": [
        {
          "output_type": "stream",
          "text": [
            "소스코드파일명을 입력하세요data.txt\n",
            "파일 data.txt 이 존재하지 않습니다.\n"
          ],
          "name": "stdout"
        },
        {
          "output_type": "error",
          "ename": "SystemExit",
          "evalue": "ignored",
          "traceback": [
            "An exception has occurred, use %tb to see the full traceback.\n",
            "\u001b[0;31mSystemExit\u001b[0m\n"
          ]
        },
        {
          "output_type": "stream",
          "text": [
            "/usr/local/lib/python3.7/dist-packages/IPython/core/interactiveshell.py:2890: UserWarning: To exit: use 'exit', 'quit', or Ctrl-D.\n",
            "  warn(\"To exit: use 'exit', 'quit', or Ctrl-D.\", stacklevel=1)\n"
          ],
          "name": "stderr"
        }
      ]
    },
    {
      "cell_type": "markdown",
      "metadata": {
        "id": "L2QgdImUSNPu"
      },
      "source": [
        "###실습 3 : 편의점 재고관리 프로그램(dict 실습)"
      ]
    },
    {
      "cell_type": "code",
      "metadata": {
        "colab": {
          "base_uri": "https://localhost:8080/",
          "height": 579
        },
        "id": "BNhDt13uSSbl",
        "outputId": "882bf8df-a292-4b33-a847-6a30275f955b"
      },
      "source": [
        "store = {'커피' : 7, '펜' : 3, '종이컵' : 2, '우유' : 1, '콜라' : 5, '책' : 5}\n",
        "\n",
        "\n",
        "while True :\n",
        "  print('-------------------메뉴 ------------')\n",
        "  print('1. 재고확인 2. 판매 3. 종료')\n",
        "  print('-------------------------------------')\n",
        "  menu = input('메뉴를 선택하세요: ')\n",
        "  \n",
        "  if (menu == '1') :\n",
        "    stuff = input('물건명 입력: ')\n",
        "    amount = store[stuff]\n",
        "    print(stuff + '는 ' + str(amount) + '개 남았습니다.')\n",
        "\n",
        "  elif (menu == '2') :\n",
        "    stuff = input('물건명 입력: ')\n",
        "    sell = input(stuff + '의 판매 개수: ')\n",
        "    sell = int(sell)\n",
        "    store[stuff] = store[stuff] - sell\n",
        "    left = store[stuff]\n",
        "    print(stuff + '는 ' + str(left) + '개 남았습니다.')\n",
        "\n",
        "  else :\n",
        "    break\n",
        "  \n",
        "  print()"
      ],
      "execution_count": null,
      "outputs": [
        {
          "output_type": "stream",
          "text": [
            "-------------------메뉴 ------------\n",
            "1. 재고확인 2. 판매 3. 종료\n",
            "-------------------------------------\n"
          ],
          "name": "stdout"
        },
        {
          "output_type": "error",
          "ename": "KeyboardInterrupt",
          "evalue": "ignored",
          "traceback": [
            "\u001b[0;31m---------------------------------------------------------------------------\u001b[0m",
            "\u001b[0;31mKeyboardInterrupt\u001b[0m                         Traceback (most recent call last)",
            "\u001b[0;32m/usr/local/lib/python3.7/dist-packages/ipykernel/kernelbase.py\u001b[0m in \u001b[0;36m_input_request\u001b[0;34m(self, prompt, ident, parent, password)\u001b[0m\n\u001b[1;32m    728\u001b[0m             \u001b[0;32mtry\u001b[0m\u001b[0;34m:\u001b[0m\u001b[0;34m\u001b[0m\u001b[0;34m\u001b[0m\u001b[0m\n\u001b[0;32m--> 729\u001b[0;31m                 \u001b[0mident\u001b[0m\u001b[0;34m,\u001b[0m \u001b[0mreply\u001b[0m \u001b[0;34m=\u001b[0m \u001b[0mself\u001b[0m\u001b[0;34m.\u001b[0m\u001b[0msession\u001b[0m\u001b[0;34m.\u001b[0m\u001b[0mrecv\u001b[0m\u001b[0;34m(\u001b[0m\u001b[0mself\u001b[0m\u001b[0;34m.\u001b[0m\u001b[0mstdin_socket\u001b[0m\u001b[0;34m,\u001b[0m \u001b[0;36m0\u001b[0m\u001b[0;34m)\u001b[0m\u001b[0;34m\u001b[0m\u001b[0;34m\u001b[0m\u001b[0m\n\u001b[0m\u001b[1;32m    730\u001b[0m             \u001b[0;32mexcept\u001b[0m \u001b[0mException\u001b[0m\u001b[0;34m:\u001b[0m\u001b[0;34m\u001b[0m\u001b[0;34m\u001b[0m\u001b[0m\n",
            "\u001b[0;32m/usr/local/lib/python3.7/dist-packages/jupyter_client/session.py\u001b[0m in \u001b[0;36mrecv\u001b[0;34m(self, socket, mode, content, copy)\u001b[0m\n\u001b[1;32m    802\u001b[0m         \u001b[0;32mtry\u001b[0m\u001b[0;34m:\u001b[0m\u001b[0;34m\u001b[0m\u001b[0;34m\u001b[0m\u001b[0m\n\u001b[0;32m--> 803\u001b[0;31m             \u001b[0mmsg_list\u001b[0m \u001b[0;34m=\u001b[0m \u001b[0msocket\u001b[0m\u001b[0;34m.\u001b[0m\u001b[0mrecv_multipart\u001b[0m\u001b[0;34m(\u001b[0m\u001b[0mmode\u001b[0m\u001b[0;34m,\u001b[0m \u001b[0mcopy\u001b[0m\u001b[0;34m=\u001b[0m\u001b[0mcopy\u001b[0m\u001b[0;34m)\u001b[0m\u001b[0;34m\u001b[0m\u001b[0;34m\u001b[0m\u001b[0m\n\u001b[0m\u001b[1;32m    804\u001b[0m         \u001b[0;32mexcept\u001b[0m \u001b[0mzmq\u001b[0m\u001b[0;34m.\u001b[0m\u001b[0mZMQError\u001b[0m \u001b[0;32mas\u001b[0m \u001b[0me\u001b[0m\u001b[0;34m:\u001b[0m\u001b[0;34m\u001b[0m\u001b[0;34m\u001b[0m\u001b[0m\n",
            "\u001b[0;32m/usr/local/lib/python3.7/dist-packages/zmq/sugar/socket.py\u001b[0m in \u001b[0;36mrecv_multipart\u001b[0;34m(self, flags, copy, track)\u001b[0m\n\u001b[1;32m    582\u001b[0m         \"\"\"\n\u001b[0;32m--> 583\u001b[0;31m         \u001b[0mparts\u001b[0m \u001b[0;34m=\u001b[0m \u001b[0;34m[\u001b[0m\u001b[0mself\u001b[0m\u001b[0;34m.\u001b[0m\u001b[0mrecv\u001b[0m\u001b[0;34m(\u001b[0m\u001b[0mflags\u001b[0m\u001b[0;34m,\u001b[0m \u001b[0mcopy\u001b[0m\u001b[0;34m=\u001b[0m\u001b[0mcopy\u001b[0m\u001b[0;34m,\u001b[0m \u001b[0mtrack\u001b[0m\u001b[0;34m=\u001b[0m\u001b[0mtrack\u001b[0m\u001b[0;34m)\u001b[0m\u001b[0;34m]\u001b[0m\u001b[0;34m\u001b[0m\u001b[0;34m\u001b[0m\u001b[0m\n\u001b[0m\u001b[1;32m    584\u001b[0m         \u001b[0;31m# have first part already, only loop while more to receive\u001b[0m\u001b[0;34m\u001b[0m\u001b[0;34m\u001b[0m\u001b[0;34m\u001b[0m\u001b[0m\n",
            "\u001b[0;32mzmq/backend/cython/socket.pyx\u001b[0m in \u001b[0;36mzmq.backend.cython.socket.Socket.recv\u001b[0;34m()\u001b[0m\n",
            "\u001b[0;32mzmq/backend/cython/socket.pyx\u001b[0m in \u001b[0;36mzmq.backend.cython.socket.Socket.recv\u001b[0;34m()\u001b[0m\n",
            "\u001b[0;32mzmq/backend/cython/socket.pyx\u001b[0m in \u001b[0;36mzmq.backend.cython.socket._recv_copy\u001b[0;34m()\u001b[0m\n",
            "\u001b[0;32m/usr/local/lib/python3.7/dist-packages/zmq/backend/cython/checkrc.pxd\u001b[0m in \u001b[0;36mzmq.backend.cython.checkrc._check_rc\u001b[0;34m()\u001b[0m\n",
            "\u001b[0;31mKeyboardInterrupt\u001b[0m: ",
            "\nDuring handling of the above exception, another exception occurred:\n",
            "\u001b[0;31mKeyboardInterrupt\u001b[0m                         Traceback (most recent call last)",
            "\u001b[0;32m<ipython-input-9-32acd9d2b2fe>\u001b[0m in \u001b[0;36m<module>\u001b[0;34m()\u001b[0m\n\u001b[1;32m      6\u001b[0m   \u001b[0mprint\u001b[0m\u001b[0;34m(\u001b[0m\u001b[0;34m'1. 재고확인 2. 판매 3. 종료'\u001b[0m\u001b[0;34m)\u001b[0m\u001b[0;34m\u001b[0m\u001b[0;34m\u001b[0m\u001b[0m\n\u001b[1;32m      7\u001b[0m   \u001b[0mprint\u001b[0m\u001b[0;34m(\u001b[0m\u001b[0;34m'-------------------------------------'\u001b[0m\u001b[0;34m)\u001b[0m\u001b[0;34m\u001b[0m\u001b[0;34m\u001b[0m\u001b[0m\n\u001b[0;32m----> 8\u001b[0;31m   \u001b[0mmenu\u001b[0m \u001b[0;34m=\u001b[0m \u001b[0minput\u001b[0m\u001b[0;34m(\u001b[0m\u001b[0;34m'메뉴를 선택하세요: '\u001b[0m\u001b[0;34m)\u001b[0m\u001b[0;34m\u001b[0m\u001b[0;34m\u001b[0m\u001b[0m\n\u001b[0m\u001b[1;32m      9\u001b[0m \u001b[0;34m\u001b[0m\u001b[0m\n\u001b[1;32m     10\u001b[0m   \u001b[0;32mif\u001b[0m \u001b[0;34m(\u001b[0m\u001b[0mmenu\u001b[0m \u001b[0;34m==\u001b[0m \u001b[0;34m'1'\u001b[0m\u001b[0;34m)\u001b[0m \u001b[0;34m:\u001b[0m\u001b[0;34m\u001b[0m\u001b[0;34m\u001b[0m\u001b[0m\n",
            "\u001b[0;32m/usr/local/lib/python3.7/dist-packages/ipykernel/kernelbase.py\u001b[0m in \u001b[0;36mraw_input\u001b[0;34m(self, prompt)\u001b[0m\n\u001b[1;32m    702\u001b[0m             \u001b[0mself\u001b[0m\u001b[0;34m.\u001b[0m\u001b[0m_parent_ident\u001b[0m\u001b[0;34m,\u001b[0m\u001b[0;34m\u001b[0m\u001b[0;34m\u001b[0m\u001b[0m\n\u001b[1;32m    703\u001b[0m             \u001b[0mself\u001b[0m\u001b[0;34m.\u001b[0m\u001b[0m_parent_header\u001b[0m\u001b[0;34m,\u001b[0m\u001b[0;34m\u001b[0m\u001b[0;34m\u001b[0m\u001b[0m\n\u001b[0;32m--> 704\u001b[0;31m             \u001b[0mpassword\u001b[0m\u001b[0;34m=\u001b[0m\u001b[0;32mFalse\u001b[0m\u001b[0;34m,\u001b[0m\u001b[0;34m\u001b[0m\u001b[0;34m\u001b[0m\u001b[0m\n\u001b[0m\u001b[1;32m    705\u001b[0m         )\n\u001b[1;32m    706\u001b[0m \u001b[0;34m\u001b[0m\u001b[0m\n",
            "\u001b[0;32m/usr/local/lib/python3.7/dist-packages/ipykernel/kernelbase.py\u001b[0m in \u001b[0;36m_input_request\u001b[0;34m(self, prompt, ident, parent, password)\u001b[0m\n\u001b[1;32m    732\u001b[0m             \u001b[0;32mexcept\u001b[0m \u001b[0mKeyboardInterrupt\u001b[0m\u001b[0;34m:\u001b[0m\u001b[0;34m\u001b[0m\u001b[0;34m\u001b[0m\u001b[0m\n\u001b[1;32m    733\u001b[0m                 \u001b[0;31m# re-raise KeyboardInterrupt, to truncate traceback\u001b[0m\u001b[0;34m\u001b[0m\u001b[0;34m\u001b[0m\u001b[0;34m\u001b[0m\u001b[0m\n\u001b[0;32m--> 734\u001b[0;31m                 \u001b[0;32mraise\u001b[0m \u001b[0mKeyboardInterrupt\u001b[0m\u001b[0;34m\u001b[0m\u001b[0;34m\u001b[0m\u001b[0m\n\u001b[0m\u001b[1;32m    735\u001b[0m             \u001b[0;32melse\u001b[0m\u001b[0;34m:\u001b[0m\u001b[0;34m\u001b[0m\u001b[0;34m\u001b[0m\u001b[0m\n\u001b[1;32m    736\u001b[0m                 \u001b[0;32mbreak\u001b[0m\u001b[0;34m\u001b[0m\u001b[0;34m\u001b[0m\u001b[0m\n",
            "\u001b[0;31mKeyboardInterrupt\u001b[0m: "
          ]
        }
      ]
    },
    {
      "cell_type": "markdown",
      "metadata": {
        "id": "XbVcs43aSdRp"
      },
      "source": [
        "###실습 4: 한영사전 단어등록 및 검색 프로그램(dict 활용)\n"
      ]
    },
    {
      "cell_type": "code",
      "metadata": {
        "colab": {
          "base_uri": "https://localhost:8080/",
          "height": 783
        },
        "id": "2r57ZK08TYBh",
        "outputId": "bf0b80c7-366b-4ffa-d535-02878f7e3a1d"
      },
      "source": [
        "words = {}\n",
        "\n",
        "print('-------------------메뉴----------------------------------------')\n",
        "print('1. 단어 등록 2. 한국어->영어 3. 영어->한국어 4. 종료')\n",
        "print('-----------------------------------------------------------------\\n')\n",
        "\n",
        "while True :\n",
        "  menu = input('메뉴를 선택하세요: ')\n",
        "  if (menu == '1') :\n",
        "    korean = input('등록할 한국어 단어 입력:')\n",
        "    english = input('등록할 영어 단어 입력:')\n",
        "    words[korean] = english\n",
        "  \n",
        "  elif (menu == '2') :\n",
        "    find = input('검색할 단어:')\n",
        "    print('영어 : ' + words[find])\n",
        "\n",
        "\n",
        "  elif (menu == '3') :\n",
        "    find = input('검색할 단어:')\n",
        "    for num in words.keys() :\n",
        "      if (words[num] == find) :\n",
        "        print('한국어 : ' + num)\n",
        "  else:\n",
        "    print('프로그램을 종료합니다.')\n",
        "    break\n",
        "    \n",
        "  print()"
      ],
      "execution_count": null,
      "outputs": [
        {
          "output_type": "stream",
          "text": [
            "-------------------메뉴----------------------------------------\n",
            "1. 단어 등록 2. 한국어->영어 3. 영어->한국어 4. 종료\n",
            "-----------------------------------------------------------------\n",
            "메뉴를 선택하세요: 1\n",
            "등록할 한국어 단어 입력:한국어\n",
            "등록할 영어 단어 입력:korean\n",
            "\n",
            "메뉴를 선택하세요: 2\n",
            "검색할 단어:한국어\n",
            "영어 : korean\n",
            "\n",
            "메뉴를 선택하세요: 3\n",
            "검색할 단어:korean\n",
            "한국어 : 한국어\n",
            "\n"
          ],
          "name": "stdout"
        },
        {
          "output_type": "error",
          "ename": "KeyboardInterrupt",
          "evalue": "ignored",
          "traceback": [
            "\u001b[0;31m---------------------------------------------------------------------------\u001b[0m",
            "\u001b[0;31mKeyboardInterrupt\u001b[0m                         Traceback (most recent call last)",
            "\u001b[0;32m/usr/local/lib/python3.7/dist-packages/ipykernel/kernelbase.py\u001b[0m in \u001b[0;36m_input_request\u001b[0;34m(self, prompt, ident, parent, password)\u001b[0m\n\u001b[1;32m    728\u001b[0m             \u001b[0;32mtry\u001b[0m\u001b[0;34m:\u001b[0m\u001b[0;34m\u001b[0m\u001b[0;34m\u001b[0m\u001b[0m\n\u001b[0;32m--> 729\u001b[0;31m                 \u001b[0mident\u001b[0m\u001b[0;34m,\u001b[0m \u001b[0mreply\u001b[0m \u001b[0;34m=\u001b[0m \u001b[0mself\u001b[0m\u001b[0;34m.\u001b[0m\u001b[0msession\u001b[0m\u001b[0;34m.\u001b[0m\u001b[0mrecv\u001b[0m\u001b[0;34m(\u001b[0m\u001b[0mself\u001b[0m\u001b[0;34m.\u001b[0m\u001b[0mstdin_socket\u001b[0m\u001b[0;34m,\u001b[0m \u001b[0;36m0\u001b[0m\u001b[0;34m)\u001b[0m\u001b[0;34m\u001b[0m\u001b[0;34m\u001b[0m\u001b[0m\n\u001b[0m\u001b[1;32m    730\u001b[0m             \u001b[0;32mexcept\u001b[0m \u001b[0mException\u001b[0m\u001b[0;34m:\u001b[0m\u001b[0;34m\u001b[0m\u001b[0;34m\u001b[0m\u001b[0m\n",
            "\u001b[0;32m/usr/local/lib/python3.7/dist-packages/jupyter_client/session.py\u001b[0m in \u001b[0;36mrecv\u001b[0;34m(self, socket, mode, content, copy)\u001b[0m\n\u001b[1;32m    802\u001b[0m         \u001b[0;32mtry\u001b[0m\u001b[0;34m:\u001b[0m\u001b[0;34m\u001b[0m\u001b[0;34m\u001b[0m\u001b[0m\n\u001b[0;32m--> 803\u001b[0;31m             \u001b[0mmsg_list\u001b[0m \u001b[0;34m=\u001b[0m \u001b[0msocket\u001b[0m\u001b[0;34m.\u001b[0m\u001b[0mrecv_multipart\u001b[0m\u001b[0;34m(\u001b[0m\u001b[0mmode\u001b[0m\u001b[0;34m,\u001b[0m \u001b[0mcopy\u001b[0m\u001b[0;34m=\u001b[0m\u001b[0mcopy\u001b[0m\u001b[0;34m)\u001b[0m\u001b[0;34m\u001b[0m\u001b[0;34m\u001b[0m\u001b[0m\n\u001b[0m\u001b[1;32m    804\u001b[0m         \u001b[0;32mexcept\u001b[0m \u001b[0mzmq\u001b[0m\u001b[0;34m.\u001b[0m\u001b[0mZMQError\u001b[0m \u001b[0;32mas\u001b[0m \u001b[0me\u001b[0m\u001b[0;34m:\u001b[0m\u001b[0;34m\u001b[0m\u001b[0;34m\u001b[0m\u001b[0m\n",
            "\u001b[0;32m/usr/local/lib/python3.7/dist-packages/zmq/sugar/socket.py\u001b[0m in \u001b[0;36mrecv_multipart\u001b[0;34m(self, flags, copy, track)\u001b[0m\n\u001b[1;32m    582\u001b[0m         \"\"\"\n\u001b[0;32m--> 583\u001b[0;31m         \u001b[0mparts\u001b[0m \u001b[0;34m=\u001b[0m \u001b[0;34m[\u001b[0m\u001b[0mself\u001b[0m\u001b[0;34m.\u001b[0m\u001b[0mrecv\u001b[0m\u001b[0;34m(\u001b[0m\u001b[0mflags\u001b[0m\u001b[0;34m,\u001b[0m \u001b[0mcopy\u001b[0m\u001b[0;34m=\u001b[0m\u001b[0mcopy\u001b[0m\u001b[0;34m,\u001b[0m \u001b[0mtrack\u001b[0m\u001b[0;34m=\u001b[0m\u001b[0mtrack\u001b[0m\u001b[0;34m)\u001b[0m\u001b[0;34m]\u001b[0m\u001b[0;34m\u001b[0m\u001b[0;34m\u001b[0m\u001b[0m\n\u001b[0m\u001b[1;32m    584\u001b[0m         \u001b[0;31m# have first part already, only loop while more to receive\u001b[0m\u001b[0;34m\u001b[0m\u001b[0;34m\u001b[0m\u001b[0;34m\u001b[0m\u001b[0m\n",
            "\u001b[0;32mzmq/backend/cython/socket.pyx\u001b[0m in \u001b[0;36mzmq.backend.cython.socket.Socket.recv\u001b[0;34m()\u001b[0m\n",
            "\u001b[0;32mzmq/backend/cython/socket.pyx\u001b[0m in \u001b[0;36mzmq.backend.cython.socket.Socket.recv\u001b[0;34m()\u001b[0m\n",
            "\u001b[0;32mzmq/backend/cython/socket.pyx\u001b[0m in \u001b[0;36mzmq.backend.cython.socket._recv_copy\u001b[0;34m()\u001b[0m\n",
            "\u001b[0;32m/usr/local/lib/python3.7/dist-packages/zmq/backend/cython/checkrc.pxd\u001b[0m in \u001b[0;36mzmq.backend.cython.checkrc._check_rc\u001b[0;34m()\u001b[0m\n",
            "\u001b[0;31mKeyboardInterrupt\u001b[0m: ",
            "\nDuring handling of the above exception, another exception occurred:\n",
            "\u001b[0;31mKeyboardInterrupt\u001b[0m                         Traceback (most recent call last)",
            "\u001b[0;32m<ipython-input-10-6dacf7a89ac5>\u001b[0m in \u001b[0;36m<module>\u001b[0;34m()\u001b[0m\n\u001b[1;32m      6\u001b[0m \u001b[0;34m\u001b[0m\u001b[0m\n\u001b[1;32m      7\u001b[0m \u001b[0;32mwhile\u001b[0m \u001b[0;32mTrue\u001b[0m \u001b[0;34m:\u001b[0m\u001b[0;34m\u001b[0m\u001b[0;34m\u001b[0m\u001b[0m\n\u001b[0;32m----> 8\u001b[0;31m   \u001b[0mmenu\u001b[0m \u001b[0;34m=\u001b[0m \u001b[0minput\u001b[0m\u001b[0;34m(\u001b[0m\u001b[0;34m'메뉴를 선택하세요: '\u001b[0m\u001b[0;34m)\u001b[0m\u001b[0;34m\u001b[0m\u001b[0;34m\u001b[0m\u001b[0m\n\u001b[0m\u001b[1;32m      9\u001b[0m   \u001b[0;32mif\u001b[0m \u001b[0;34m(\u001b[0m\u001b[0mmenu\u001b[0m \u001b[0;34m==\u001b[0m \u001b[0;34m'1'\u001b[0m\u001b[0;34m)\u001b[0m \u001b[0;34m:\u001b[0m\u001b[0;34m\u001b[0m\u001b[0;34m\u001b[0m\u001b[0m\n\u001b[1;32m     10\u001b[0m     \u001b[0mkorean\u001b[0m \u001b[0;34m=\u001b[0m \u001b[0minput\u001b[0m\u001b[0;34m(\u001b[0m\u001b[0;34m'등록할 한국어 단어 입력:'\u001b[0m\u001b[0;34m)\u001b[0m\u001b[0;34m\u001b[0m\u001b[0;34m\u001b[0m\u001b[0m\n",
            "\u001b[0;32m/usr/local/lib/python3.7/dist-packages/ipykernel/kernelbase.py\u001b[0m in \u001b[0;36mraw_input\u001b[0;34m(self, prompt)\u001b[0m\n\u001b[1;32m    702\u001b[0m             \u001b[0mself\u001b[0m\u001b[0;34m.\u001b[0m\u001b[0m_parent_ident\u001b[0m\u001b[0;34m,\u001b[0m\u001b[0;34m\u001b[0m\u001b[0;34m\u001b[0m\u001b[0m\n\u001b[1;32m    703\u001b[0m             \u001b[0mself\u001b[0m\u001b[0;34m.\u001b[0m\u001b[0m_parent_header\u001b[0m\u001b[0;34m,\u001b[0m\u001b[0;34m\u001b[0m\u001b[0;34m\u001b[0m\u001b[0m\n\u001b[0;32m--> 704\u001b[0;31m             \u001b[0mpassword\u001b[0m\u001b[0;34m=\u001b[0m\u001b[0;32mFalse\u001b[0m\u001b[0;34m,\u001b[0m\u001b[0;34m\u001b[0m\u001b[0;34m\u001b[0m\u001b[0m\n\u001b[0m\u001b[1;32m    705\u001b[0m         )\n\u001b[1;32m    706\u001b[0m \u001b[0;34m\u001b[0m\u001b[0m\n",
            "\u001b[0;32m/usr/local/lib/python3.7/dist-packages/ipykernel/kernelbase.py\u001b[0m in \u001b[0;36m_input_request\u001b[0;34m(self, prompt, ident, parent, password)\u001b[0m\n\u001b[1;32m    732\u001b[0m             \u001b[0;32mexcept\u001b[0m \u001b[0mKeyboardInterrupt\u001b[0m\u001b[0;34m:\u001b[0m\u001b[0;34m\u001b[0m\u001b[0;34m\u001b[0m\u001b[0m\n\u001b[1;32m    733\u001b[0m                 \u001b[0;31m# re-raise KeyboardInterrupt, to truncate traceback\u001b[0m\u001b[0;34m\u001b[0m\u001b[0;34m\u001b[0m\u001b[0;34m\u001b[0m\u001b[0m\n\u001b[0;32m--> 734\u001b[0;31m                 \u001b[0;32mraise\u001b[0m \u001b[0mKeyboardInterrupt\u001b[0m\u001b[0;34m\u001b[0m\u001b[0;34m\u001b[0m\u001b[0m\n\u001b[0m\u001b[1;32m    735\u001b[0m             \u001b[0;32melse\u001b[0m\u001b[0;34m:\u001b[0m\u001b[0;34m\u001b[0m\u001b[0;34m\u001b[0m\u001b[0m\n\u001b[1;32m    736\u001b[0m                 \u001b[0;32mbreak\u001b[0m\u001b[0;34m\u001b[0m\u001b[0;34m\u001b[0m\u001b[0m\n",
            "\u001b[0;31mKeyboardInterrupt\u001b[0m: "
          ]
        }
      ]
    },
    {
      "cell_type": "markdown",
      "metadata": {
        "id": "OD8LOtrRLiEw"
      },
      "source": [
        "#9주차 실습"
      ]
    },
    {
      "cell_type": "markdown",
      "metadata": {
        "id": "85RjkKfMLqqF"
      },
      "source": [
        "##9-1 실습"
      ]
    },
    {
      "cell_type": "markdown",
      "metadata": {
        "id": "AxIB9PJPLnwq"
      },
      "source": [
        "###실습 1: 간단한 웹페이지 만들기\n"
      ]
    },
    {
      "cell_type": "code",
      "metadata": {
        "colab": {
          "base_uri": "https://localhost:8080/",
          "height": 76
        },
        "id": "mKRJDFYLLjSN",
        "outputId": "95708d6e-b551-4102-97e6-16eff4fac6bc"
      },
      "source": [
        "\n",
        "html_text= \"\"\"\n",
        "<!DOCTYPE html>\n",
        "<html>\n",
        "<head>\n",
        " <meta charset=\"utf-8\">\n",
        " <title>My test page</title>\n",
        "</head>\n",
        " <body>\n",
        " <p> 안녕하세요. </p>\n",
        "<H1> </H1>\n",
        "<img src= \"\">\n",
        "\n",
        "\n",
        "</body>\n",
        "</html>\n",
        "\"\"\"\n",
        "\n",
        "\n",
        "def configure_brower_state():\n",
        " import IPython\n",
        " display(IPython.core.display.HTML(html_text))\n",
        "configure_brower_state()\n"
      ],
      "execution_count": null,
      "outputs": [
        {
          "output_type": "display_data",
          "data": {
            "text/html": [
              "\n",
              "\n",
              "<!DOCTYPE html>\n",
              "<html>\n",
              "<head>\n",
              " <meta charset=\"utf-8\">\n",
              " <title>My test page</title>\n",
              "</head>\n",
              " <body>\n",
              " <p> 안녕하세요. </p>\n",
              "<H1> </H1>\n",
              "<img src= \"\">\n",
              "\n",
              "\n",
              "</body>\n",
              "</html>\n"
            ],
            "text/plain": [
              "<IPython.core.display.HTML object>"
            ]
          },
          "metadata": {
            "tags": []
          }
        }
      ]
    },
    {
      "cell_type": "code",
      "metadata": {
        "id": "zXdBpQy3LnFl",
        "colab": {
          "base_uri": "https://localhost:8080/",
          "height": 1000
        },
        "outputId": "9c118e5d-ee61-43a0-b685-9064a818277d"
      },
      "source": [
        "css_text= \"\"\"\n",
        "H1{\n",
        "  color: red;\n",
        "  font-size: 5em;\n",
        "}\n",
        "\n",
        ".div2 {\n",
        " border: 1px solid;\n",
        " width: 100px;\n",
        " height: 50px;\n",
        " display: flex;\n",
        " align-items: center;\n",
        " justify-content: center;\n",
        "}\n",
        ".clicked {\n",
        " color: gold;\n",
        "}\n",
        "\n",
        "\"\"\"\n",
        "\n",
        "html_text= \"\"\"\n",
        "<!DOCTYPE html>\n",
        "<html>\n",
        "<head>\n",
        " <meta charset=\"utf-8\">\n",
        " <title>My test page</title>\n",
        "</head>\n",
        " <body>\n",
        " <p> 안녕하세요. </p>\n",
        "<H1> ***의 홈페이지</H1>\n",
        "<img src= \"https://cdn.vox-cdn.com/thumbor/3mNu_scwQK_JPm6qkuLV7CsEV_g=/0x0:757x510/1200x800/filters:focal(111x157:231x277)/cdn.vox-cdn.com/uploads/chorus_image/image/61402477/Screen_Shot_2018_09_14_at_11.12.49_AM.0.png\"/>\n",
        "<p> 자주가는 싸이트 </p>\n",
        "<a> https://www.naver.com/</a>\n",
        "<table border=\"1\">\n",
        " <th>강좌명</th> <!-- 수업 -->\n",
        " <th>시간</th>\n",
        " <tr> <!-- 컴개실 -->\n",
        " <td>컴개실</td>\n",
        " <td>수기응</td>\n",
        " </tr> <!-- 10:00-12:00 -->\n",
        " <tr> <!-- 수기응 -->\n",
        " <td>10:00-12:00</td>\n",
        " <td>12:00-14:00</td>\n",
        " </tr> <!-- 12:00-14:00 -->\n",
        " </table>\n",
        "\n",
        "<div class=\"div1\">\n",
        " <table border=\"1\">\n",
        " <th>자바스크립트</th>\n",
        " <th>버튼만들기</th>\n",
        " <tr>\n",
        " <td>\n",
        " <div class=\"div2\">버튼1</div>\n",
        " <div class=\"div2\">버튼2</div>\n",
        " <div class=\"div2\">버튼3</div>\n",
        " <div class=\"div2\">버튼4</div>\n",
        " <div class=\"div2\">버튼5</div> </td>\n",
        " <td>\n",
        " <div class=\"div2\">버튼6</div>\n",
        " <div class=\"div2\">버튼7</div>\n",
        " <div class=\"div2\">버튼8</div>\n",
        " <div class=\"div2\">버튼9</div>\n",
        " <div class=\"div2\">버튼10</div> </td>\n",
        " </tr>\n",
        " </table>\n",
        " </div>\n",
        "\n",
        "</body>\n",
        "</html>\n",
        "<script>\n",
        " var div2\n",
        "= document.getElementsByClassName(\"div2\");\n",
        " function handleClick(event)\n",
        "{\n",
        " console.log(event.target);\n",
        " if (event.target.classList[1] == \"clicked\")\n",
        "{\n",
        " event.target.classList.remove(\"clicked\"); //자기 버튼 원래 색상으로 되돌리기\n",
        "\n",
        "} else\n",
        "{\n",
        " for (var\n",
        "i\n",
        "= 0;\n",
        "i\n",
        "< div2.length; i++)\n",
        "{ //나머지 버튼 원래 색상으로 되돌리기\n",
        " div2[i].classList.remove(\"clicked\");\n",
        "\n",
        "}\n",
        " event.target.classList.add(\"clicked\"); //클릭시 색상바꾸기\n",
        "\n",
        "}\n",
        "\n",
        "}\n",
        " function init()\n",
        "{\n",
        " for (var\n",
        "i\n",
        "= 0;\n",
        "i\n",
        "< div2.length; i++)\n",
        "{\n",
        " div2[i].addEventListener(\"click\", handleClick);\n",
        "\n",
        "}\n",
        "\n",
        "}\n",
        " init();\n",
        " </script>\n",
        "\n",
        "\"\"\"\n",
        "with open('styles.css', 'w') as css_file :\n",
        "  css_file.write(css_text)\n",
        "with open('html_file.html','w') as html_file:\n",
        "  html_file.write(html_text)\n",
        "\n",
        "def configure_brower_state():\n",
        " import IPython\n",
        " display(IPython.core.display.HTML(html_text))\n",
        "configure_brower_state()\n"
      ],
      "execution_count": null,
      "outputs": [
        {
          "output_type": "display_data",
          "data": {
            "text/html": [
              "\n",
              "<!DOCTYPE html>\n",
              "<html>\n",
              "<head>\n",
              " <meta charset=\"utf-8\">\n",
              " <title>My test page</title>\n",
              "</head>\n",
              " <body>\n",
              " <p> 안녕하세요. </p>\n",
              "<H1> ***의 홈페이지</H1>\n",
              "<img src= \"https://cdn.vox-cdn.com/thumbor/3mNu_scwQK_JPm6qkuLV7CsEV_g=/0x0:757x510/1200x800/filters:focal(111x157:231x277)/cdn.vox-cdn.com/uploads/chorus_image/image/61402477/Screen_Shot_2018_09_14_at_11.12.49_AM.0.png\"/>\n",
              "<p> 자주가는 싸이트 </p>\n",
              "<a> https://www.naver.com/</a>\n",
              "<table border=\"1\">\n",
              " <th>강좌명</th> <!-- 수업 -->\n",
              " <th>시간</th>\n",
              " <tr> <!-- 컴개실 -->\n",
              " <td>컴개실</td>\n",
              " <td>수기응</td>\n",
              " </tr> <!-- 10:00-12:00 -->\n",
              " <tr> <!-- 수기응 -->\n",
              " <td>10:00-12:00</td>\n",
              " <td>12:00-14:00</td>\n",
              " </tr> <!-- 12:00-14:00 -->\n",
              " </table>\n",
              "\n",
              "<div class=\"div1\">\n",
              " <table border=\"1\">\n",
              " <th>자바스크립트</th>\n",
              " <th>버튼만들기</th>\n",
              " <tr>\n",
              " <td>\n",
              " <div class=\"div2\">버튼1</div>\n",
              " <div class=\"div2\">버튼2</div>\n",
              " <div class=\"div2\">버튼3</div>\n",
              " <div class=\"div2\">버튼4</div>\n",
              " <div class=\"div2\">버튼5</div> </td>\n",
              " <td>\n",
              " <div class=\"div2\">버튼6</div>\n",
              " <div class=\"div2\">버튼7</div>\n",
              " <div class=\"div2\">버튼8</div>\n",
              " <div class=\"div2\">버튼9</div>\n",
              " <div class=\"div2\">버튼10</div> </td>\n",
              " </tr>\n",
              " </table>\n",
              " </div>\n",
              "\n",
              "</body>\n",
              "</html>\n",
              "<script>\n",
              " var div2\n",
              "= document.getElementsByClassName(\"div2\");\n",
              " function handleClick(event)\n",
              "{\n",
              " console.log(event.target);\n",
              " if (event.target.classList[1] == \"clicked\")\n",
              "{\n",
              " event.target.classList.remove(\"clicked\"); //자기 버튼 원래 색상으로 되돌리기\n",
              "\n",
              "} else\n",
              "{\n",
              " for (var\n",
              "i\n",
              "= 0;\n",
              "i\n",
              "< div2.length; i++)\n",
              "{ //나머지 버튼 원래 색상으로 되돌리기\n",
              " div2[i].classList.remove(\"clicked\");\n",
              "\n",
              "}\n",
              " event.target.classList.add(\"clicked\"); //클릭시 색상바꾸기\n",
              "\n",
              "}\n",
              "\n",
              "}\n",
              " function init()\n",
              "{\n",
              " for (var\n",
              "i\n",
              "= 0;\n",
              "i\n",
              "< div2.length; i++)\n",
              "{\n",
              " div2[i].addEventListener(\"click\", handleClick);\n",
              "\n",
              "}\n",
              "\n",
              "}\n",
              " init();\n",
              " </script>\n",
              "\n"
            ],
            "text/plain": [
              "<IPython.core.display.HTML object>"
            ]
          },
          "metadata": {
            "tags": []
          }
        }
      ]
    },
    {
      "cell_type": "markdown",
      "metadata": {
        "id": "_zZHPh00N2B4"
      },
      "source": [
        "#10주차 실습"
      ]
    },
    {
      "cell_type": "code",
      "metadata": {
        "colab": {
          "base_uri": "https://localhost:8080/"
        },
        "id": "xz6DxzUJN3Kv",
        "outputId": "a765e91b-2cde-4abe-b8ad-72d55f19b2d4"
      },
      "source": [
        "from urllib.request import urlopen\n",
        "from bs4 import BeautifulSoup\n",
        "\n",
        "url = urlopen('https://movie.naver.com/movie/sdb/rank/rmovie.nhn?sel=cur&date=20210506')\n",
        "\n",
        "encoding=url.info().get_content_charset(failobj=\"utf-8\")\n",
        "text=url.read().decode(encoding)\n",
        "\n",
        "soup= BeautifulSoup(text,'html.parser')\n",
        "\n",
        "movie_name=soup.find_all('div','tit5')\n",
        "\n",
        "movie_point=soup.find_all('td','point')\n",
        "\n",
        "for i in range(len(movie_name)):\n",
        "  print(movie_name[i].a.string, movie_point[i].string)\n",
        "\n",
        "\n",
        "\n",
        "\n",
        "\n",
        "\n",
        "\n"
      ],
      "execution_count": null,
      "outputs": [
        {
          "output_type": "stream",
          "text": [
            "레옹 9.37\n",
            "다시 태어나도 우리 9.35\n",
            "피아니스트 9.33\n",
            "부활: 그 증거 9.32\n",
            "자산어보 9.31\n",
            "소울 9.30\n",
            "극장판 귀멸의 칼날: 무한열차편 9.30\n",
            "우리들 9.26\n",
            "소년시절의 너 9.26\n",
            "바람과 함께 사라지다 9.24\n",
            "해피 투게더 9.20\n",
            "라야와 마지막 드래곤 9.15\n",
            "타오르는 여인의 초상 9.06\n",
            "바그다드 카페 : 디렉터스컷 9.05\n",
            "그 시절, 우리가 좋아했던 소녀 9.02\n",
            "룸 9.01\n",
            "신세계 8.93\n",
            "그것만이 내 세상 8.93\n",
            "명탐정 코난: 비색의 탄환 8.93\n",
            "러브 액츄얼리 8.93\n",
            "중경삼림 8.93\n",
            "더 박스 8.90\n",
            "장수상회 8.89\n",
            "1917 8.89\n",
            "이별의 아침에 약속의 꽃을 장식하자 8.87\n",
            "리틀 포레스트 8.82\n",
            "너의 이름은. 8.79\n",
            "화양연화 8.78\n",
            "해리 포터와 아즈카반의 죄수 8.74\n",
            "바닷마을 다이어리 8.73\n",
            "아티스트 8.72\n",
            "우리집 8.70\n",
            "진짜로 일어날지도 몰라 기적 8.70\n",
            "마미 8.69\n",
            "노바디  8.65\n",
            "플로리다 프로젝트 8.64\n",
            "라라랜드 8.61\n",
            "태풍이 지나가고 8.60\n",
            "실버라이닝 플레이북 8.57\n",
            "더 스파이 8.57\n",
            "세자매 8.56\n",
            "그녀 8.52\n",
            "윈드 리버 8.52\n",
            "스틸 앨리스 8.48\n",
            "아비정전 8.47\n",
            "노매드랜드 8.43\n",
            "패터슨 8.29\n",
            "고질라 VS. 콩 8.24\n",
            "팅커 테일러 솔저 스파이 8.21\n",
            "언어의 정원 8.17\n"
          ],
          "name": "stdout"
        }
      ]
    },
    {
      "cell_type": "code",
      "metadata": {
        "colab": {
          "base_uri": "https://localhost:8080/"
        },
        "id": "mk0hk-X9TH6X",
        "outputId": "6dc09853-46fd-4643-ada8-218997b6b821"
      },
      "source": [
        "from urllib.request import urlopen\n",
        "from bs4 import BeautifulSoup\n",
        "\n",
        "date=input('날짜를 입력하시요')\n",
        "\n",
        "url = urlopen('https://movie.naver.com/movie/sdb/rank/rmovie.nhn?sel=cur&date='+date)\n",
        "\n",
        "\n",
        "encoding=url.info().get_content_charset(failobj=\"utf-8\")\n",
        "text=url.read().decode(encoding)\n",
        "\n",
        "soup= BeautifulSoup(text,'html.parser')\n",
        "\n",
        "movie_name=soup.find_all('div','tit5')\n",
        "\n",
        "movie_point=soup.find_all('td','point')\n",
        "\n",
        "for i in range(len(movie_name)):\n",
        "  print(movie_name[i].a.string, movie_point[i].string)\n",
        "\n"
      ],
      "execution_count": null,
      "outputs": [
        {
          "output_type": "stream",
          "text": [
            "날짜를 입력하시요20200705\n",
            "가버나움 9.59\n",
            "위대한 쇼맨 9.40\n",
            "에이리언 2 9.34\n",
            "다크 나이트 9.34\n",
            "패왕별희 디 오리지널 9.31\n",
            "우리들 9.26\n",
            "톰보이 9.24\n",
            "시간을 달리는 소녀 9.20\n",
            "오아시스 9.20\n",
            "스타 이즈 본 9.18\n",
            "에이리언 9.12\n",
            "늑대아이 9.11\n",
            "싸이코 9.11\n",
            "박하사탕 9.05\n",
            "타오르는 여인의 초상 9.04\n",
            "미스비헤이비어 9.04\n",
            "비긴 어게인 9.02\n",
            "인생 후르츠 9.02\n",
            "미져리 9.01\n",
            "변호인 8.99\n",
            "안녕, 나의 소울메이트 8.97\n",
            "배트맨 비긴즈 8.96\n",
            "윤희에게 8.95\n",
            "피아노의 숲 8.95\n",
            "기쿠지로의 여름 8.94\n",
            "시 8.93\n",
            "마담 프루스트의 비밀정원 8.92\n",
            "온워드: 단 하루의 기적 8.90\n",
            "바르다가 사랑한 얼굴들 8.89\n",
            "드라큐라 8.86\n",
            "트롤: 월드 투어 8.86\n",
            "콜 오브 와일드 8.83\n",
            "리틀 포레스트 8.80\n",
            "소공녀 8.78\n",
            "사이비 8.76\n",
            "벌새 8.76\n",
            "도그빌 8.76\n",
            "현기증 8.73\n",
            "아메리칸 셰프 8.73\n",
            "바닷마을 다이어리 8.72\n",
            "썸머 워즈 8.67\n",
            "소리꾼 8.65\n",
            "플로리다 프로젝트 8.64\n",
            "걸어도 걸어도 8.62\n",
            "트로이 8.61\n",
            "라라랜드 8.60\n",
            "플라이 8.60\n",
            "찬실이는 복도 많지 8.59\n",
            "족구왕 8.54\n",
            "캐리 8.45\n"
          ],
          "name": "stdout"
        }
      ]
    },
    {
      "cell_type": "code",
      "metadata": {
        "colab": {
          "base_uri": "https://localhost:8080/"
        },
        "id": "nLHzyZDVUedW",
        "outputId": "497f83e5-5985-43b2-a688-e65b2f905a75"
      },
      "source": [
        "from urllib.request import urlopen\n",
        "from bs4 import BeautifulSoup\n",
        "\n",
        "\n",
        "\n",
        "url = urlopen('https://finance.naver.com/marketindex/exchangeList.nhn')\n",
        "\n",
        "\n",
        "encoding=url.info().get_content_charset(failobj=\"utf-8\")\n",
        "text=url.read().decode(encoding)\n",
        "soup= BeautifulSoup(text,'html.parser')\n",
        "\n",
        "data=soup.find_all('td')\n",
        "a=soup.find_all('td','sale')\n",
        "b=soup.find_all('td')\n",
        "#print(b[8].string)\n",
        "\n",
        "for i in range(len(data)):\n",
        "  if i%7==0:\n",
        "   print()\n",
        "  print(data[i].string.strip(),end = '  ')\n",
        "  \n",
        "\n",
        "\n",
        "\n",
        "\n",
        "\n"
      ],
      "execution_count": null,
      "outputs": [
        {
          "output_type": "stream",
          "text": [
            "\n",
            "미국 USD  1,121.50  1,141.12  1,101.88  1,132.40  1,110.60  1.000  \n",
            "유럽연합 EUR  1,352.81  1,379.73  1,325.89  1,366.33  1,339.29  1.206  \n",
            "일본 JPY (100엔)  1,027.86  1,045.84  1,009.88  1,037.93  1,017.79  0.917  \n",
            "중국 CNY  173.71  182.39  165.03  175.44  171.98  0.155  \n",
            "홍콩 HKD  144.40  147.24  141.56  145.84  142.96  0.129  \n",
            "대만 TWD  40.19  45.45  37.38  0.00  0.00  0.036  \n",
            "영국 GBP  1,559.39  1,590.10  1,528.68  1,574.98  1,543.80  1.391  \n",
            "오만 OMR  2,913.06  3,172.32  2,738.28  0.00  0.00  2.598  \n",
            "캐나다 CAD  921.57  939.72  903.42  930.78  912.36  0.822  \n",
            "스위스 CHF  1,235.68  1,260.02  1,211.34  1,248.03  1,223.33  1.102  \n",
            "스웨덴 SEK  133.04  136.29  129.79  134.37  131.71  0.119  \n",
            "호주 AUD  871.91  889.08  854.74  880.62  863.20  0.777  \n",
            "뉴질랜드 NZD  811.18  827.16  795.20  819.29  803.07  0.723  \n",
            "체코 CZK  52.57  57.03  47.84  53.14  52.00  0.047  \n",
            "칠레 CLP  1.60  1.72  1.48  0.00  0.00  0.001  \n",
            "터키 TRY  135.46  0.00  0.00  136.95  133.97  0.121  \n",
            "몽골 MNT  0.39  0.00  0.00  0.00  0.00  0.000  \n",
            "이스라엘 ILS  344.22  378.64  316.69  0.00  0.00  0.307  \n",
            "덴마크 DKK  181.91  186.36  177.46  183.72  180.10  0.162  \n",
            "노르웨이 NOK  135.08  138.38  131.78  136.43  133.73  0.120  \n",
            "사우디아라비아 SAR  299.03  317.86  278.40  302.02  296.04  0.267  \n",
            "쿠웨이트 KWD  3,722.20  3,964.14  3,424.43  3,759.42  3,684.98  3.319  \n",
            "바레인 BHD  2,974.88  3,165.27  2,736.89  3,004.62  2,945.14  2.653  \n",
            "아랍에미리트 AED  305.32  322.11  284.26  308.37  302.27  0.272  \n",
            "요르단 JOD  1,581.81  1,722.59  1,455.27  0.00  0.00  1.410  \n",
            "이집트 EGP  71.57  0.00  0.00  0.00  0.00  0.064  \n",
            "태국 THB  35.87  37.66  33.72  36.22  35.52  0.032  \n",
            "싱가포르 SGD  841.90  858.65  825.15  850.31  833.49  0.751  \n",
            "말레이시아 MYR  272.47  289.63  252.31  0.00  269.75  0.243  \n",
            "인도네시아 IDR 100  7.87  8.42  7.09  7.94  7.80  0.007  \n",
            "카타르 QAR  308.02  0.00  0.00  0.00  0.00  0.275  \n",
            "카자흐스탄 KZT  2.63  0.00  0.00  0.00  0.00  0.002  \n",
            "브루나이 BND  841.90  875.57  791.39  0.00  0.00  0.751  \n",
            "인도 INR  15.23  0.00  0.00  0.00  0.00  0.014  \n",
            "파키스탄 PKR  7.40  0.00  0.00  0.00  0.00  0.007  \n",
            "방글라데시 BDT  13.23  0.00  0.00  0.00  0.00  0.012  \n",
            "필리핀 PHP  23.40  25.74  21.49  23.63  23.17  0.021  \n",
            "멕시코 MXN  55.81  61.39  51.13  56.36  55.26  0.050  \n",
            "브라질 BRL  212.53  234.20  195.53  0.00  209.98  0.190  \n",
            "베트남 VND 100  4.86  5.43  4.29  4.90  4.82  0.004  \n",
            "남아프리카 공화국 ZAR  78.92  83.65  72.61  79.86  77.98  0.070  \n",
            "러시아 RUB  15.10  16.15  13.44  15.25  14.95  0.014  \n",
            "헝가리 HUF  3.77  4.12  3.47  3.81  3.73  0.003  \n",
            "폴란드 PLN  295.95  319.62  272.28  299.20  292.70  0.264  "
          ],
          "name": "stdout"
        }
      ]
    },
    {
      "cell_type": "markdown",
      "metadata": {
        "id": "vPZcP1_MQB9b"
      },
      "source": [
        "#11주차 실습"
      ]
    },
    {
      "cell_type": "code",
      "metadata": {
        "colab": {
          "base_uri": "https://localhost:8080/"
        },
        "id": "L4ZhdkngQLOt",
        "outputId": "6c5395ce-7f72-4557-92e2-327abb23dd98"
      },
      "source": [
        "import sys\n",
        "sys.path.insert(0,'/usr/lib/chromium-browser/chromedriver')\n",
        "from selenium import webdriver\n",
        "from bs4 import BeautifulSoup\n",
        "from selenium.webdriver.common.keys import Keys\n",
        "from bs4 import BeautifulSoup\n",
        "import re\n",
        "from urllib.parse import urljoin\n",
        "chrome_options = webdriver.ChromeOptions()\n",
        "chrome_options.add_argument('--headless')\n",
        "chrome_options.add_argument('--no-sandbox')\n",
        "chrome_options.add_argument('--disable-dev-shm-usage')\n",
        "driver = webdriver.Chrome('chromedriver',chrome_options=chrome_options)\n",
        "driver.get('http://goo.gl/VH1A5t') #Opinet\n",
        "driver.get('http://www.opinet.co.kr/searRgSelect.do')\n",
        "driver.get('http://www.opinet.co.kr/searRgSelect.do') #주유소/충젂소 찾기\n",
        "#elem_login = driver.find_element_by_id('ID')\n",
        "html = driver.page_source\n",
        "soup = BeautifulSoup(html, 'html.parser')\n",
        "## 여기에 코드를 작성하시면 됩니다.\n",
        "#print(soup.prettify()) "
      ],
      "execution_count": null,
      "outputs": [
        {
          "output_type": "stream",
          "text": [
            "/usr/local/lib/python3.7/dist-packages/ipykernel_launcher.py:13: DeprecationWarning: use options instead of chrome_options\n",
            "  del sys.path[0]\n"
          ],
          "name": "stderr"
        }
      ]
    },
    {
      "cell_type": "code",
      "metadata": {
        "colab": {
          "base_uri": "https://localhost:8080/",
          "height": 231
        },
        "id": "0cxSI-IlQC_Z",
        "outputId": "09e099a5-00b7-4902-c2f2-cf66156bc08b"
      },
      "source": [
        "box=driver.find_element_by_id('SIDO_NM0')\n",
        "options=box.find_elements_by_tag_name('option')\n",
        "box.send_keys('서울')\n",
        "\n",
        "box2=driver.find_element_by_id('SIGUNGU_NM0')\n",
        "\n",
        "options2=box2.find_elements_by_tag_name('option')\n",
        "\n",
        "\n",
        "\n",
        "gu_names=[]\n",
        "i=1\n",
        "while (i<len(options2)):\n",
        "  gu_names.append(options2[i].get_attribute('value'))\n",
        "  i=i+1\n",
        "\n",
        "\n",
        "\n",
        "i=0\n",
        "while (i<len(gu_names)):\n",
        "  box2.send_keys(gu_names[i])\n",
        "\n",
        "\n",
        "  xpath = '//*[@id=\"searRgSelect\"]/span'\n",
        "  driver.find_element_by_xpath(xpath).click()\n",
        "  time.sleep(3)\n",
        "  xpath2= '//*[@id=\"glopopd_excel\"]/span'\n",
        "  driver.find_element_by_xpath(xpath2).click()\n",
        "   \n",
        "  \n",
        "  time.sleep(3)\n",
        "\n",
        "  new_filename=(gu_names[i]+'.xls')\n",
        "  !mv download_excel.do $new_filename\n",
        "\n",
        "  box2=driver.find_element_by_id('SIGUNGU_NM0')\n",
        "  i=i+1"
      ],
      "execution_count": null,
      "outputs": [
        {
          "output_type": "error",
          "ename": "IndexError",
          "evalue": "ignored",
          "traceback": [
            "\u001b[0;31m---------------------------------------------------------------------------\u001b[0m",
            "\u001b[0;31mIndexError\u001b[0m                                Traceback (most recent call last)",
            "\u001b[0;32m<ipython-input-74-5fde2415bf92>\u001b[0m in \u001b[0;36m<module>\u001b[0;34m()\u001b[0m\n\u001b[1;32m     19\u001b[0m \u001b[0mi\u001b[0m\u001b[0;34m=\u001b[0m\u001b[0;36m0\u001b[0m\u001b[0;34m\u001b[0m\u001b[0;34m\u001b[0m\u001b[0m\n\u001b[1;32m     20\u001b[0m \u001b[0;32mwhile\u001b[0m \u001b[0;34m(\u001b[0m\u001b[0mi\u001b[0m\u001b[0;34m<\u001b[0m\u001b[0mlen\u001b[0m\u001b[0;34m(\u001b[0m\u001b[0moptions2\u001b[0m\u001b[0;34m)\u001b[0m\u001b[0;34m)\u001b[0m\u001b[0;34m:\u001b[0m\u001b[0;34m\u001b[0m\u001b[0;34m\u001b[0m\u001b[0m\n\u001b[0;32m---> 21\u001b[0;31m   \u001b[0mbox2\u001b[0m\u001b[0;34m.\u001b[0m\u001b[0msend_keys\u001b[0m\u001b[0;34m(\u001b[0m\u001b[0mgu_names\u001b[0m\u001b[0;34m[\u001b[0m\u001b[0mi\u001b[0m\u001b[0;34m]\u001b[0m\u001b[0;34m)\u001b[0m\u001b[0;34m\u001b[0m\u001b[0;34m\u001b[0m\u001b[0m\n\u001b[0m\u001b[1;32m     22\u001b[0m \u001b[0;34m\u001b[0m\u001b[0m\n\u001b[1;32m     23\u001b[0m \u001b[0;34m\u001b[0m\u001b[0m\n",
            "\u001b[0;31mIndexError\u001b[0m: list index out of range"
          ]
        }
      ]
    },
    {
      "cell_type": "code",
      "metadata": {
        "id": "afR4G82ubtDw"
      },
      "source": [
        "box2=driver.find_element_by_id('SIGUNGU_NM0')"
      ],
      "execution_count": null,
      "outputs": []
    },
    {
      "cell_type": "code",
      "metadata": {
        "id": "RNX2R66Jcxo-",
        "colab": {
          "base_uri": "https://localhost:8080/"
        },
        "outputId": "bfbd48cf-4668-4ae0-a3ae-60bd8d88b438"
      },
      "source": [
        "from urllib.request import urlopen\n",
        "from bs4 import BeautifulSoup\n",
        "\n",
        "url = urlopen('https://music.bugs.co.kr/track/30413061')\n",
        "\n",
        "encoding=url.info().get_content_charset(failobj=\"utf-8\")\n",
        "text=url.read().decode(encoding)\n",
        "\n",
        "soup= BeautifulSoup(text,'html.parser')\n",
        "\n",
        "lyrics=soup.find_all('div','lyricsContainer')\n",
        "lyrics=str(lyrics)\n",
        "lyrics = lyrics.lower()\n",
        "words = lyrics.split()\n",
        "words = [word.strip('.,!;()[]') for word in words]\n",
        "words = [word.replace(\"'s\", '') for word in words]\n",
        "words = [word.strip('</div> <a <cite <div <p><xmp>') for word in words]\n",
        "\n",
        "\n",
        "#finding unique\n",
        "unique = []\n",
        "for word in words:\n",
        "    if word not in unique:\n",
        "        unique.append(word)\n",
        "\n",
        "#sort\n",
        "unique.sort()\n",
        "\n",
        "#print\n",
        "\n",
        "print(unique)\n"
      ],
      "execution_count": null,
      "outputs": [
        {
          "output_type": "stream",
          "text": [
            "['', 'baby', 'bitter', 'btnlyricsreport\"', 'bu', 'h', 'han', 'heeks', 'hes', 'hocol', 'href=\"javascript:;\"', 'kiss', 'lass=\"btnnormal', 'lass=\"lyricscontainer\"', 'lass=\"reference\"', 'lass=\"writer\">bugs', 'lips', 'n', 'on', 'onclick=\"bugs.ui.showloginlayer();\">가사', 'r', 'sw', 'sweeter', 'wings', '가', '가사입니다', '가져가', '감겨줘', '감옥에', '거부할', '걸', '것', '것인', '그', '깊숙이', '깊이', '꽉', '나를', '날', '날개는', '내', '내가', '너란', '너무', '너의', '널', '눈', '눈물', '눈물도', '니가', '님이', '다', '다른', '달콤해', '달콤해서', '더', '더는', '도망갈', '도망칠', '독이', '돼', '둘만의', '든', '들이켜', '등록해', '땀', '마음', '마지막', '많이', '목', '몸', '못', '못해', '묶어줘', '벌받게', '부드럽게', '비밀', '사람', '삼켜버린', '섬기지', '성배', '손길로', '수', '수도', '수조차', '숨을', '아닌', '아파도', '아플', '악마의', '알고', '알면서도', '앞엔', '어서', '어차피', '없게', '없어', '영혼도', '오류', '원해', '위스키', '이건', '이상', '이제', '있어', '잘', '정신', '제보', '조여줘', '주문', '주신', '죽여줘', '중독돼', '쥐고', '차가운', '차리게', '춤을', '취해도', '피', '할', '흔들어줘']\n"
          ],
          "name": "stdout"
        }
      ]
    },
    {
      "cell_type": "markdown",
      "metadata": {
        "id": "netDNuLcUdUm"
      },
      "source": [
        "#12주차 실습"
      ]
    },
    {
      "cell_type": "code",
      "metadata": {
        "colab": {
          "base_uri": "https://localhost:8080/",
          "height": 235
        },
        "id": "YdV4S-v3UgVG",
        "outputId": "46d0199c-3482-48a5-da4e-ca269a09c93a"
      },
      "source": [
        "import pandas as pd\n",
        "scores = [[84, 87, 78], [21, 15, 84], [87, 84, 76], [100, 87, 99], [59, 99, 59], [46, 77, 56]]\n",
        "names = ['철수','영이','길동','미영','순이','철이']\n",
        "lectures = ['국어','수학','영어']\n",
        "d2=pd.DataFrame(scores, index=names, columns=lectures)\n",
        "d2\n",
        "\n",
        "import numpy as np\n",
        "names1 = np.array(['철수','영이','길동','미영','순이','철이'])\n",
        "score1 = np.array([84, 21, 87, 100, 59, 46])\n",
        "names2 = np.array(['길동','철수','영이','철이''순이','미영'])\n",
        "score2 = np.array([99, 87, 87, 84, 77, 15])\n",
        "s1=pd.Series(score1, index=names1)\n",
        "s2=pd.Series(score2, index=names2)\n"
      ],
      "execution_count": null,
      "outputs": [
        {
          "output_type": "execute_result",
          "data": {
            "text/html": [
              "<div>\n",
              "<style scoped>\n",
              "    .dataframe tbody tr th:only-of-type {\n",
              "        vertical-align: middle;\n",
              "    }\n",
              "\n",
              "    .dataframe tbody tr th {\n",
              "        vertical-align: top;\n",
              "    }\n",
              "\n",
              "    .dataframe thead th {\n",
              "        text-align: right;\n",
              "    }\n",
              "</style>\n",
              "<table border=\"1\" class=\"dataframe\">\n",
              "  <thead>\n",
              "    <tr style=\"text-align: right;\">\n",
              "      <th></th>\n",
              "      <th>국어</th>\n",
              "      <th>수학</th>\n",
              "      <th>영어</th>\n",
              "    </tr>\n",
              "  </thead>\n",
              "  <tbody>\n",
              "    <tr>\n",
              "      <th>철수</th>\n",
              "      <td>84</td>\n",
              "      <td>87</td>\n",
              "      <td>78</td>\n",
              "    </tr>\n",
              "    <tr>\n",
              "      <th>영이</th>\n",
              "      <td>21</td>\n",
              "      <td>15</td>\n",
              "      <td>84</td>\n",
              "    </tr>\n",
              "    <tr>\n",
              "      <th>길동</th>\n",
              "      <td>87</td>\n",
              "      <td>84</td>\n",
              "      <td>76</td>\n",
              "    </tr>\n",
              "    <tr>\n",
              "      <th>미영</th>\n",
              "      <td>100</td>\n",
              "      <td>87</td>\n",
              "      <td>99</td>\n",
              "    </tr>\n",
              "    <tr>\n",
              "      <th>순이</th>\n",
              "      <td>59</td>\n",
              "      <td>99</td>\n",
              "      <td>59</td>\n",
              "    </tr>\n",
              "    <tr>\n",
              "      <th>철이</th>\n",
              "      <td>46</td>\n",
              "      <td>77</td>\n",
              "      <td>56</td>\n",
              "    </tr>\n",
              "  </tbody>\n",
              "</table>\n",
              "</div>"
            ],
            "text/plain": [
              "     국어  수학  영어\n",
              "철수   84  87  78\n",
              "영이   21  15  84\n",
              "길동   87  84  76\n",
              "미영  100  87  99\n",
              "순이   59  99  59\n",
              "철이   46  77  56"
            ]
          },
          "metadata": {
            "tags": []
          },
          "execution_count": 5
        }
      ]
    },
    {
      "cell_type": "code",
      "metadata": {
        "colab": {
          "base_uri": "https://localhost:8080/",
          "height": 180
        },
        "id": "opDjsBv1ZM0P",
        "outputId": "d4633978-b7c0-49a1-ae24-17d0bb104a3a"
      },
      "source": [
        "a=int(input('학생들의 국어성적 입력(,로 구분): ')).split(',')\n",
        "print a"
      ],
      "execution_count": null,
      "outputs": [
        {
          "output_type": "stream",
          "text": [
            "학생들의 국어성적 입력(,로 구분): 20,20,20\n"
          ],
          "name": "stdout"
        },
        {
          "output_type": "error",
          "ename": "ValueError",
          "evalue": "ignored",
          "traceback": [
            "\u001b[0;31m---------------------------------------------------------------------------\u001b[0m",
            "\u001b[0;31mValueError\u001b[0m                                Traceback (most recent call last)",
            "\u001b[0;32m<ipython-input-19-00c215dd4df1>\u001b[0m in \u001b[0;36m<module>\u001b[0;34m()\u001b[0m\n\u001b[0;32m----> 1\u001b[0;31m \u001b[0ma\u001b[0m\u001b[0;34m=\u001b[0m\u001b[0mint\u001b[0m\u001b[0;34m(\u001b[0m\u001b[0minput\u001b[0m\u001b[0;34m(\u001b[0m\u001b[0;34m'학생들의 국어성적 입력(,로 구분): '\u001b[0m\u001b[0;34m)\u001b[0m\u001b[0;34m)\u001b[0m\u001b[0;34m.\u001b[0m\u001b[0msplit\u001b[0m\u001b[0;34m(\u001b[0m\u001b[0;34m','\u001b[0m\u001b[0;34m)\u001b[0m\u001b[0;34m\u001b[0m\u001b[0;34m\u001b[0m\u001b[0m\n\u001b[0m",
            "\u001b[0;31mValueError\u001b[0m: invalid literal for int() with base 10: '20,20,20'"
          ]
        }
      ]
    },
    {
      "cell_type": "code",
      "metadata": {
        "colab": {
          "base_uri": "https://localhost:8080/"
        },
        "id": "w58VgQacW2FJ",
        "outputId": "2511a223-2f88-4209-fe8a-d9ee88b0780a"
      },
      "source": [
        "import numpy as np\n",
        "names1 = np.array((input('학생들의 이름 입력(,로 구분): ')).split(','))\n",
        "score1 = list(map(int,np.array((input('학생들의 국어성적 입력(,로 구분): ')).split(','))))\n",
        "score2 = list(map(int, np.array((input('학생들의 영어성적 입력(,로 구분): ')).split(','))))\n",
        "score3 = list(map(int, np.array((input('학생들의 수학성적 입력(,로 구분): ')).split(','))))\n",
        "s1=pd.Series(score1, index=names1)\n",
        "s2=pd.Series(score2, index=names1)\n",
        "s3=pd.Series(score3, index=names1)\n",
        "print(\"국어성적\")\n",
        "print(s1)\n",
        "print(\"영어성적\")\n",
        "print(s2)\n",
        "print(\"수학성적\")\n",
        "print(s3)\n",
        "print(\"합계\")\n",
        "print(s1+s2+s3)"
      ],
      "execution_count": null,
      "outputs": [
        {
          "output_type": "stream",
          "text": [
            "학생들의 이름 입력(,로 구분): 영희,철수,미나\n",
            "학생들의 국어성적 입력(,로 구분): 40,60,80\n",
            "학생들의 영어성적 입력(,로 구분): 10,20,20\n",
            "학생들의 수학성적 입력(,로 구분): 1,2,3\n",
            "국어성적\n",
            "영희    40\n",
            "철수    60\n",
            "미나    80\n",
            "dtype: int64\n",
            "영어성적\n",
            "영희    10\n",
            "철수    20\n",
            "미나    20\n",
            "dtype: int64\n",
            "수학성적\n",
            "영희    1\n",
            "철수    2\n",
            "미나    3\n",
            "dtype: int64\n",
            "합계\n",
            "영희     51\n",
            "철수     82\n",
            "미나    103\n",
            "dtype: int64\n"
          ],
          "name": "stdout"
        }
      ]
    },
    {
      "cell_type": "code",
      "metadata": {
        "colab": {
          "resources": {
            "http://localhost:8080/nbextensions/google.colab/files.js": {
              "data": "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",
              "ok": true,
              "headers": [
                [
                  "content-type",
                  "application/javascript"
                ]
              ],
              "status": 200,
              "status_text": ""
            }
          },
          "base_uri": "https://localhost:8080/",
          "height": 395
        },
        "id": "cwFs_Xr2aFxf",
        "outputId": "383e0fb2-5c89-4a6d-daa0-95061f7c1ec6"
      },
      "source": [
        "from google.colab import files\n",
        "myfile = files.upload()\n",
        "import pandas as pd\n",
        "df=pd.read_csv(\"gapminder.tsv\",sep=\"\\t\")\n",
        "country=df['country']\n",
        "second=df[['country','continent','year']]\n",
        "third=df[0:1]\n",
        "third\n",
        "fourth=df.iloc[2]+df.iloc[4]+df.iloc[6]\n",
        "fifth=df.iloc[3:6]\n",
        "sixth=df.iloc[7:11,[0,3,5]]\n",
        "seventh=df.iloc[[1,3,5],[0,1,4]]"
      ],
      "execution_count": null,
      "outputs": [
        {
          "output_type": "display_data",
          "data": {
            "text/html": [
              "\n",
              "     <input type=\"file\" id=\"files-23fce290-d974-4dc6-87e6-4fe17b2abf09\" name=\"files[]\" multiple disabled\n",
              "        style=\"border:none\" />\n",
              "     <output id=\"result-23fce290-d974-4dc6-87e6-4fe17b2abf09\">\n",
              "      Upload widget is only available when the cell has been executed in the\n",
              "      current browser session. Please rerun this cell to enable.\n",
              "      </output>\n",
              "      <script src=\"/nbextensions/google.colab/files.js\"></script> "
            ],
            "text/plain": [
              "<IPython.core.display.HTML object>"
            ]
          },
          "metadata": {
            "tags": []
          }
        },
        {
          "output_type": "error",
          "ename": "KeyboardInterrupt",
          "evalue": "ignored",
          "traceback": [
            "\u001b[0;31m---------------------------------------------------------------------------\u001b[0m",
            "\u001b[0;31mKeyboardInterrupt\u001b[0m                         Traceback (most recent call last)",
            "\u001b[0;32m<ipython-input-34-17cfb52814df>\u001b[0m in \u001b[0;36m<module>\u001b[0;34m()\u001b[0m\n\u001b[1;32m      1\u001b[0m \u001b[0;32mfrom\u001b[0m \u001b[0mgoogle\u001b[0m\u001b[0;34m.\u001b[0m\u001b[0mcolab\u001b[0m \u001b[0;32mimport\u001b[0m \u001b[0mfiles\u001b[0m\u001b[0;34m\u001b[0m\u001b[0;34m\u001b[0m\u001b[0m\n\u001b[0;32m----> 2\u001b[0;31m \u001b[0mmyfile\u001b[0m \u001b[0;34m=\u001b[0m \u001b[0mfiles\u001b[0m\u001b[0;34m.\u001b[0m\u001b[0mupload\u001b[0m\u001b[0;34m(\u001b[0m\u001b[0;34m)\u001b[0m\u001b[0;34m\u001b[0m\u001b[0;34m\u001b[0m\u001b[0m\n\u001b[0m\u001b[1;32m      3\u001b[0m \u001b[0;32mimport\u001b[0m \u001b[0mpandas\u001b[0m \u001b[0;32mas\u001b[0m \u001b[0mpd\u001b[0m\u001b[0;34m\u001b[0m\u001b[0;34m\u001b[0m\u001b[0m\n\u001b[1;32m      4\u001b[0m \u001b[0mdf\u001b[0m\u001b[0;34m=\u001b[0m\u001b[0mpd\u001b[0m\u001b[0;34m.\u001b[0m\u001b[0mread_csv\u001b[0m\u001b[0;34m(\u001b[0m\u001b[0;34m\"gapminder.tsv\"\u001b[0m\u001b[0;34m,\u001b[0m\u001b[0msep\u001b[0m\u001b[0;34m=\u001b[0m\u001b[0;34m\"\\t\"\u001b[0m\u001b[0;34m)\u001b[0m\u001b[0;34m\u001b[0m\u001b[0;34m\u001b[0m\u001b[0m\n\u001b[1;32m      5\u001b[0m \u001b[0mcountry\u001b[0m\u001b[0;34m=\u001b[0m\u001b[0mdf\u001b[0m\u001b[0;34m[\u001b[0m\u001b[0;34m'country'\u001b[0m\u001b[0;34m]\u001b[0m\u001b[0;34m\u001b[0m\u001b[0;34m\u001b[0m\u001b[0m\n",
            "\u001b[0;32m/usr/local/lib/python3.7/dist-packages/google/colab/files.py\u001b[0m in \u001b[0;36mupload\u001b[0;34m()\u001b[0m\n\u001b[1;32m     62\u001b[0m   result = _output.eval_js(\n\u001b[1;32m     63\u001b[0m       'google.colab._files._uploadFiles(\"{input_id}\", \"{output_id}\")'.format(\n\u001b[0;32m---> 64\u001b[0;31m           input_id=input_id, output_id=output_id))\n\u001b[0m\u001b[1;32m     65\u001b[0m   \u001b[0mfiles\u001b[0m \u001b[0;34m=\u001b[0m \u001b[0m_collections\u001b[0m\u001b[0;34m.\u001b[0m\u001b[0mdefaultdict\u001b[0m\u001b[0;34m(\u001b[0m\u001b[0m_six\u001b[0m\u001b[0;34m.\u001b[0m\u001b[0mbinary_type\u001b[0m\u001b[0;34m)\u001b[0m\u001b[0;34m\u001b[0m\u001b[0;34m\u001b[0m\u001b[0m\n\u001b[1;32m     66\u001b[0m   \u001b[0;31m# Mapping from original filename to filename as saved locally.\u001b[0m\u001b[0;34m\u001b[0m\u001b[0;34m\u001b[0m\u001b[0;34m\u001b[0m\u001b[0m\n",
            "\u001b[0;32m/usr/local/lib/python3.7/dist-packages/google/colab/output/_js.py\u001b[0m in \u001b[0;36meval_js\u001b[0;34m(script, ignore_result, timeout_sec)\u001b[0m\n\u001b[1;32m     38\u001b[0m   \u001b[0;32mif\u001b[0m \u001b[0mignore_result\u001b[0m\u001b[0;34m:\u001b[0m\u001b[0;34m\u001b[0m\u001b[0;34m\u001b[0m\u001b[0m\n\u001b[1;32m     39\u001b[0m     \u001b[0;32mreturn\u001b[0m\u001b[0;34m\u001b[0m\u001b[0;34m\u001b[0m\u001b[0m\n\u001b[0;32m---> 40\u001b[0;31m   \u001b[0;32mreturn\u001b[0m \u001b[0m_message\u001b[0m\u001b[0;34m.\u001b[0m\u001b[0mread_reply_from_input\u001b[0m\u001b[0;34m(\u001b[0m\u001b[0mrequest_id\u001b[0m\u001b[0;34m,\u001b[0m \u001b[0mtimeout_sec\u001b[0m\u001b[0;34m)\u001b[0m\u001b[0;34m\u001b[0m\u001b[0;34m\u001b[0m\u001b[0m\n\u001b[0m\u001b[1;32m     41\u001b[0m \u001b[0;34m\u001b[0m\u001b[0m\n\u001b[1;32m     42\u001b[0m \u001b[0;34m\u001b[0m\u001b[0m\n",
            "\u001b[0;32m/usr/local/lib/python3.7/dist-packages/google/colab/_message.py\u001b[0m in \u001b[0;36mread_reply_from_input\u001b[0;34m(message_id, timeout_sec)\u001b[0m\n\u001b[1;32m     99\u001b[0m     \u001b[0mreply\u001b[0m \u001b[0;34m=\u001b[0m \u001b[0m_read_next_input_message\u001b[0m\u001b[0;34m(\u001b[0m\u001b[0;34m)\u001b[0m\u001b[0;34m\u001b[0m\u001b[0;34m\u001b[0m\u001b[0m\n\u001b[1;32m    100\u001b[0m     \u001b[0;32mif\u001b[0m \u001b[0mreply\u001b[0m \u001b[0;34m==\u001b[0m \u001b[0m_NOT_READY\u001b[0m \u001b[0;32mor\u001b[0m \u001b[0;32mnot\u001b[0m \u001b[0misinstance\u001b[0m\u001b[0;34m(\u001b[0m\u001b[0mreply\u001b[0m\u001b[0;34m,\u001b[0m \u001b[0mdict\u001b[0m\u001b[0;34m)\u001b[0m\u001b[0;34m:\u001b[0m\u001b[0;34m\u001b[0m\u001b[0;34m\u001b[0m\u001b[0m\n\u001b[0;32m--> 101\u001b[0;31m       \u001b[0mtime\u001b[0m\u001b[0;34m.\u001b[0m\u001b[0msleep\u001b[0m\u001b[0;34m(\u001b[0m\u001b[0;36m0.025\u001b[0m\u001b[0;34m)\u001b[0m\u001b[0;34m\u001b[0m\u001b[0;34m\u001b[0m\u001b[0m\n\u001b[0m\u001b[1;32m    102\u001b[0m       \u001b[0;32mcontinue\u001b[0m\u001b[0;34m\u001b[0m\u001b[0;34m\u001b[0m\u001b[0m\n\u001b[1;32m    103\u001b[0m     if (reply.get('type') == 'colab_reply' and\n",
            "\u001b[0;31mKeyboardInterrupt\u001b[0m: "
          ]
        }
      ]
    },
    {
      "cell_type": "code",
      "metadata": {
        "colab": {
          "base_uri": "https://localhost:8080/"
        },
        "id": "yILzWPpVdlp2",
        "outputId": "e1553d7c-ff6b-4cad-89d0-500e7f0a2fe0"
      },
      "source": [
        "import numpy as np\n",
        "names1 = np.array((input('학생들의 이름 입력(,로 구분): ')).split(','))\n",
        "score1 = list(map(int,np.array((input('학생들의 국어성적 입력(,로 구분): ')).split(','))))\n",
        "score2 = list(map(int, np.array((input('학생들의 영어성적 입력(,로 구분): ')).split(','))))\n",
        "score3 = list(map(int, np.array((input('학생들의 수학성적 입력(,로 구분): ')).split(','))))\n",
        "\n",
        "s1=pd.Series(score1, index=names1)\n",
        "s2=pd.Series(score2, index=names1)\n",
        "s3=pd.Series(score3, index=names1)\n",
        "\n",
        "s4=(s1+s2+s3)\n",
        "\n",
        "#scores={'국어':score1,'영어':score2,'수학':score3}\n",
        "\n",
        "d=pd.DataFrame()\n",
        "d['국어']=s1\n",
        "d['영어']=s2\n",
        "d['수학']=s3\n",
        "d['합']=s4\n",
        "d.loc['평균']=(d.sum(axis=0))//len(names1)\n",
        "print(d)\n",
        "\n",
        "search=input(\"검색할 학생의 이름은?: \")\n",
        "d.loc[search]\n"
      ],
      "execution_count": null,
      "outputs": [
        {
          "output_type": "stream",
          "text": [
            "학생들의 이름 입력(,로 구분): a,b,c\n",
            "학생들의 국어성적 입력(,로 구분): 10,20,30\n",
            "학생들의 영어성적 입력(,로 구분): 20,30,40\n",
            "학생들의 수학성적 입력(,로 구분): 30,40,50\n",
            "    국어  영어  수학    합\n",
            "a   10  20  30   60\n",
            "b   20  30  40   90\n",
            "c   30  40  50  120\n",
            "평균  20  30  40   90\n",
            "검색할 학생의 이름은?: a\n"
          ],
          "name": "stdout"
        },
        {
          "output_type": "execute_result",
          "data": {
            "text/plain": [
              "국어    10\n",
              "영어    20\n",
              "수학    30\n",
              "합     60\n",
              "Name: a, dtype: int64"
            ]
          },
          "metadata": {
            "tags": []
          },
          "execution_count": 53
        }
      ]
    },
    {
      "cell_type": "code",
      "metadata": {
        "colab": {
          "base_uri": "https://localhost:8080/",
          "height": 329
        },
        "id": "Bq4c2sosjt0P",
        "outputId": "96eb5d06-84aa-4074-e724-821a739c778a"
      },
      "source": [
        "import numpy as np\n",
        "names1 = np.array((input('학생들의 이름 입력(,로 구분): ')).split(','))\n",
        "score1 = list(map(int,np.array((input('학생들의 국어성적 입력(,로 구분): ')).split(','))))\n",
        "score2 = list(map(int, np.array((input('학생들의 영어성적 입력(,로 구분): ')).split(','))))\n",
        "score3 = list(map(int, np.array((input('학생들의 수학성적 입력(,로 구분): ')).split(','))))\n",
        "\n",
        "s1=pd.Series(score1, index=names1)\n",
        "s2=pd.Series(score2, index=names1)\n",
        "s3=pd.Series(score3, index=names1)\n",
        "\n",
        "s4=(s1+s2+s3)\n",
        "\n",
        "#scores={'국어':score1,'영어':score2,'수학':score3}\n",
        "\n",
        "d=pd.DataFrame()\n",
        "d['국어']=s1\n",
        "d['영어']=s2\n",
        "d['수학']=s3\n",
        "d['합계']=s4\n",
        "d.loc['평균']=(d.sum(axis=0))//len(names1)\n",
        "print(d)\n",
        "\n",
        "num=int(input('정렬 기준 선택(1:국어, 2:영어, 3:수학, 4:합계): '))\n",
        "num2=int(input('정렬 방법 선택(1:오름차순, 2:내림차순): '))\n",
        "d=d.drop('평균',axis=0)\n",
        "d\n",
        "array=['국어','영어','수학','합계']\n",
        "if num2==1:\n",
        " d=  d.sort_values(by=array[num-1], ascending=True)\n",
        "\n",
        "if num2==2:\n",
        " d=d.sort_values(by=array[num-1], ascending=False)\n",
        "\n",
        "d\n",
        "    "
      ],
      "execution_count": null,
      "outputs": [
        {
          "output_type": "stream",
          "text": [
            "학생들의 이름 입력(,로 구분): 영희,철수,미미\n",
            "학생들의 국어성적 입력(,로 구분): 40,50,70\n",
            "학생들의 영어성적 입력(,로 구분): 30,70,90\n",
            "학생들의 수학성적 입력(,로 구분): 40,70,89\n",
            "    국어  영어  수학   합계\n",
            "영희  40  30  40  110\n",
            "철수  50  70  70  190\n",
            "미미  70  90  89  249\n",
            "평균  53  63  66  183\n",
            "정렬 기준 선택(1:국어, 2:영어, 3:수학, 4:합계): 4\n",
            "정렬 방법 선택(1:오름차순, 2:내림차순): 2\n"
          ],
          "name": "stdout"
        },
        {
          "output_type": "execute_result",
          "data": {
            "text/html": [
              "<div>\n",
              "<style scoped>\n",
              "    .dataframe tbody tr th:only-of-type {\n",
              "        vertical-align: middle;\n",
              "    }\n",
              "\n",
              "    .dataframe tbody tr th {\n",
              "        vertical-align: top;\n",
              "    }\n",
              "\n",
              "    .dataframe thead th {\n",
              "        text-align: right;\n",
              "    }\n",
              "</style>\n",
              "<table border=\"1\" class=\"dataframe\">\n",
              "  <thead>\n",
              "    <tr style=\"text-align: right;\">\n",
              "      <th></th>\n",
              "      <th>국어</th>\n",
              "      <th>영어</th>\n",
              "      <th>수학</th>\n",
              "      <th>합계</th>\n",
              "    </tr>\n",
              "  </thead>\n",
              "  <tbody>\n",
              "    <tr>\n",
              "      <th>미미</th>\n",
              "      <td>70</td>\n",
              "      <td>90</td>\n",
              "      <td>89</td>\n",
              "      <td>249</td>\n",
              "    </tr>\n",
              "    <tr>\n",
              "      <th>철수</th>\n",
              "      <td>50</td>\n",
              "      <td>70</td>\n",
              "      <td>70</td>\n",
              "      <td>190</td>\n",
              "    </tr>\n",
              "    <tr>\n",
              "      <th>영희</th>\n",
              "      <td>40</td>\n",
              "      <td>30</td>\n",
              "      <td>40</td>\n",
              "      <td>110</td>\n",
              "    </tr>\n",
              "  </tbody>\n",
              "</table>\n",
              "</div>"
            ],
            "text/plain": [
              "    국어  영어  수학   합계\n",
              "미미  70  90  89  249\n",
              "철수  50  70  70  190\n",
              "영희  40  30  40  110"
            ]
          },
          "metadata": {
            "tags": []
          },
          "execution_count": 64
        }
      ]
    },
    {
      "cell_type": "code",
      "metadata": {
        "id": "LnCgAd5kmjQk"
      },
      "source": [
        "name=\"abc\"\n",
        "\n",
        "names=[]\n",
        "infos=[]\n",
        "while(a):\n",
        "\n",
        "  name=input('고객의 이름: ')\n",
        "  sex=input('고객의 성별(남/여): ')\n",
        "  age=int(input('고객의 나이: '))\n",
        "  job=input(\"고객의 직업 (학생/직장인/자영업/전문직/기타): \")\n",
        "  info=[sex,age,job]\n",
        "  names.append(name)\n",
        "  infos.append(info)\n",
        "  if name=\"\":\n",
        "     a=False\n",
        "\n",
        "\n",
        "d1=pd.DataFrame(infos, index=names,columns=['성별','나이','직업'])\n",
        "\n",
        "  \n",
        "x =((d1.나이) >= 60)\n",
        "d2=d1[x]\n",
        "x = ((d2.성별) == '여')\n",
        "d3 = d2[x]\n",
        "x = ((d1.직업) == '학생')\n",
        "d4 = d1[x]\n",
        "x = ((d1.나이) >= 30)\n",
        "d5 = d1[x]\n",
        "x = ((d5.나이) < 50)\n",
        "d6 = d5[x]\n",
        "print('===================================')\n",
        "print('고객 명단: ')\n",
        "print(d1)\n",
        "print('-----------------------------------')\n",
        "print('나이가 60 이상인 여성 고객 명단: ')\n",
        "print(d3)\n",
        "print('-----------------------------------')\n",
        "print('직업이 학생인 고객 명단: ')\n",
        "print(d4)\n",
        "print('-----------------------------------')\n",
        "print('30, 40대 고객 명단: ')\n",
        "print(d6)\n",
        "\n",
        "\n"
      ],
      "execution_count": null,
      "outputs": []
    },
    {
      "cell_type": "markdown",
      "metadata": {
        "id": "jgiGMGbs2rxn"
      },
      "source": [
        "##13주차 실습"
      ]
    },
    {
      "cell_type": "code",
      "metadata": {
        "colab": {
          "base_uri": "https://localhost:8080/",
          "height": 1000
        },
        "id": "kX1LSy-d2t1D",
        "outputId": "5aead214-1fc9-473f-8984-7612b33e13d2"
      },
      "source": [
        "import matplotlib.pyplot as plt\n",
        "import pandas as pd\n",
        "scores = [[84, 87, 78], [21, 15, 84], [87, 84, 76], [100, 87, 99], [59, 99, 59], [46, 77, 56]]\n",
        "names = ['철수','영이','길동','미영','순이','철이']\n",
        "lectures = ['국어','수학','영어']\n",
        "d2=pd.DataFrame(scores, index=names, columns=lectures)\n",
        "d2\n",
        "fig = plt.figure(figsize = (15, 3))\n",
        "subplot_kor = fig.add_subplot(1, 3, 1)\n",
        "subplot_eng = fig.add_subplot(1, 3, 2)\n",
        "subplot_mat = fig.add_subplot(1, 3, 3)\n",
        "subplot_kor.plot(d2.index, d2['국어'])\n",
        "subplot_eng.plot(d2.index, d2['영어'])\n",
        "subplot_mat.plot(d2.index, d2['수학'])\n",
        "subplot_kor.set_title('국어성적')\n",
        "subplot_eng.set_title('영어성적')\n",
        "subplot_mat.set_title('수학성적')\n",
        "plt.show()"
      ],
      "execution_count": 2,
      "outputs": [
        {
          "output_type": "stream",
          "text": [
            "/usr/local/lib/python3.7/dist-packages/matplotlib/backends/backend_agg.py:214: RuntimeWarning: Glyph 44397 missing from current font.\n",
            "  font.set_text(s, 0.0, flags=flags)\n",
            "/usr/local/lib/python3.7/dist-packages/matplotlib/backends/backend_agg.py:214: RuntimeWarning: Glyph 50612 missing from current font.\n",
            "  font.set_text(s, 0.0, flags=flags)\n",
            "/usr/local/lib/python3.7/dist-packages/matplotlib/backends/backend_agg.py:214: RuntimeWarning: Glyph 49457 missing from current font.\n",
            "  font.set_text(s, 0.0, flags=flags)\n",
            "/usr/local/lib/python3.7/dist-packages/matplotlib/backends/backend_agg.py:214: RuntimeWarning: Glyph 51201 missing from current font.\n",
            "  font.set_text(s, 0.0, flags=flags)\n",
            "/usr/local/lib/python3.7/dist-packages/matplotlib/backends/backend_agg.py:214: RuntimeWarning: Glyph 52384 missing from current font.\n",
            "  font.set_text(s, 0.0, flags=flags)\n",
            "/usr/local/lib/python3.7/dist-packages/matplotlib/backends/backend_agg.py:214: RuntimeWarning: Glyph 49688 missing from current font.\n",
            "  font.set_text(s, 0.0, flags=flags)\n",
            "/usr/local/lib/python3.7/dist-packages/matplotlib/backends/backend_agg.py:214: RuntimeWarning: Glyph 50689 missing from current font.\n",
            "  font.set_text(s, 0.0, flags=flags)\n",
            "/usr/local/lib/python3.7/dist-packages/matplotlib/backends/backend_agg.py:214: RuntimeWarning: Glyph 51060 missing from current font.\n",
            "  font.set_text(s, 0.0, flags=flags)\n",
            "/usr/local/lib/python3.7/dist-packages/matplotlib/backends/backend_agg.py:214: RuntimeWarning: Glyph 44600 missing from current font.\n",
            "  font.set_text(s, 0.0, flags=flags)\n",
            "/usr/local/lib/python3.7/dist-packages/matplotlib/backends/backend_agg.py:214: RuntimeWarning: Glyph 46041 missing from current font.\n",
            "  font.set_text(s, 0.0, flags=flags)\n",
            "/usr/local/lib/python3.7/dist-packages/matplotlib/backends/backend_agg.py:214: RuntimeWarning: Glyph 48120 missing from current font.\n",
            "  font.set_text(s, 0.0, flags=flags)\n",
            "/usr/local/lib/python3.7/dist-packages/matplotlib/backends/backend_agg.py:214: RuntimeWarning: Glyph 49692 missing from current font.\n",
            "  font.set_text(s, 0.0, flags=flags)\n",
            "/usr/local/lib/python3.7/dist-packages/matplotlib/backends/backend_agg.py:214: RuntimeWarning: Glyph 54617 missing from current font.\n",
            "  font.set_text(s, 0.0, flags=flags)\n",
            "/usr/local/lib/python3.7/dist-packages/matplotlib/backends/backend_agg.py:183: RuntimeWarning: Glyph 52384 missing from current font.\n",
            "  font.set_text(s, 0, flags=flags)\n",
            "/usr/local/lib/python3.7/dist-packages/matplotlib/backends/backend_agg.py:183: RuntimeWarning: Glyph 49688 missing from current font.\n",
            "  font.set_text(s, 0, flags=flags)\n",
            "/usr/local/lib/python3.7/dist-packages/matplotlib/backends/backend_agg.py:183: RuntimeWarning: Glyph 50689 missing from current font.\n",
            "  font.set_text(s, 0, flags=flags)\n",
            "/usr/local/lib/python3.7/dist-packages/matplotlib/backends/backend_agg.py:183: RuntimeWarning: Glyph 51060 missing from current font.\n",
            "  font.set_text(s, 0, flags=flags)\n",
            "/usr/local/lib/python3.7/dist-packages/matplotlib/backends/backend_agg.py:183: RuntimeWarning: Glyph 44600 missing from current font.\n",
            "  font.set_text(s, 0, flags=flags)\n",
            "/usr/local/lib/python3.7/dist-packages/matplotlib/backends/backend_agg.py:183: RuntimeWarning: Glyph 46041 missing from current font.\n",
            "  font.set_text(s, 0, flags=flags)\n",
            "/usr/local/lib/python3.7/dist-packages/matplotlib/backends/backend_agg.py:183: RuntimeWarning: Glyph 48120 missing from current font.\n",
            "  font.set_text(s, 0, flags=flags)\n",
            "/usr/local/lib/python3.7/dist-packages/matplotlib/backends/backend_agg.py:183: RuntimeWarning: Glyph 49692 missing from current font.\n",
            "  font.set_text(s, 0, flags=flags)\n",
            "/usr/local/lib/python3.7/dist-packages/matplotlib/backends/backend_agg.py:183: RuntimeWarning: Glyph 44397 missing from current font.\n",
            "  font.set_text(s, 0, flags=flags)\n",
            "/usr/local/lib/python3.7/dist-packages/matplotlib/backends/backend_agg.py:183: RuntimeWarning: Glyph 50612 missing from current font.\n",
            "  font.set_text(s, 0, flags=flags)\n",
            "/usr/local/lib/python3.7/dist-packages/matplotlib/backends/backend_agg.py:183: RuntimeWarning: Glyph 49457 missing from current font.\n",
            "  font.set_text(s, 0, flags=flags)\n",
            "/usr/local/lib/python3.7/dist-packages/matplotlib/backends/backend_agg.py:183: RuntimeWarning: Glyph 51201 missing from current font.\n",
            "  font.set_text(s, 0, flags=flags)\n",
            "/usr/local/lib/python3.7/dist-packages/matplotlib/backends/backend_agg.py:183: RuntimeWarning: Glyph 54617 missing from current font.\n",
            "  font.set_text(s, 0, flags=flags)\n"
          ],
          "name": "stderr"
        },
        {
          "output_type": "display_data",
          "data": {
            "image/png": "[encoded data removed]",
            "text/plain": [
              "<Figure size 1080x216 with 3 Axes>"
            ]
          },
          "metadata": {
            "tags": [],
            "needs_background": "light"
          }
        }
      ]
    },
    {
      "cell_type": "code",
      "metadata": {
        "colab": {
          "base_uri": "https://localhost:8080/",
          "height": 1000
        },
        "id": "db8ua8a73rZg",
        "outputId": "23fec487-d687-443e-b90c-a04aa359cc6d"
      },
      "source": [
        "d2['국어'].plot(kind = 'bar')\n",
        "plt.title('국어성적')\n",
        "plt.xlabel('이름')\n",
        "plt.ylabel('점수')\n",
        "plt.show()"
      ],
      "execution_count": 3,
      "outputs": [
        {
          "output_type": "stream",
          "text": [
            "/usr/local/lib/python3.7/dist-packages/matplotlib/backends/backend_agg.py:214: RuntimeWarning: Glyph 44397 missing from current font.\n",
            "  font.set_text(s, 0.0, flags=flags)\n",
            "/usr/local/lib/python3.7/dist-packages/matplotlib/backends/backend_agg.py:214: RuntimeWarning: Glyph 50612 missing from current font.\n",
            "  font.set_text(s, 0.0, flags=flags)\n",
            "/usr/local/lib/python3.7/dist-packages/matplotlib/backends/backend_agg.py:214: RuntimeWarning: Glyph 49457 missing from current font.\n",
            "  font.set_text(s, 0.0, flags=flags)\n",
            "/usr/local/lib/python3.7/dist-packages/matplotlib/backends/backend_agg.py:214: RuntimeWarning: Glyph 51201 missing from current font.\n",
            "  font.set_text(s, 0.0, flags=flags)\n",
            "/usr/local/lib/python3.7/dist-packages/matplotlib/backends/backend_agg.py:214: RuntimeWarning: Glyph 52384 missing from current font.\n",
            "  font.set_text(s, 0.0, flags=flags)\n",
            "/usr/local/lib/python3.7/dist-packages/matplotlib/backends/backend_agg.py:214: RuntimeWarning: Glyph 49688 missing from current font.\n",
            "  font.set_text(s, 0.0, flags=flags)\n",
            "/usr/local/lib/python3.7/dist-packages/matplotlib/backends/backend_agg.py:214: RuntimeWarning: Glyph 50689 missing from current font.\n",
            "  font.set_text(s, 0.0, flags=flags)\n",
            "/usr/local/lib/python3.7/dist-packages/matplotlib/backends/backend_agg.py:214: RuntimeWarning: Glyph 51060 missing from current font.\n",
            "  font.set_text(s, 0.0, flags=flags)\n",
            "/usr/local/lib/python3.7/dist-packages/matplotlib/backends/backend_agg.py:214: RuntimeWarning: Glyph 44600 missing from current font.\n",
            "  font.set_text(s, 0.0, flags=flags)\n",
            "/usr/local/lib/python3.7/dist-packages/matplotlib/backends/backend_agg.py:214: RuntimeWarning: Glyph 46041 missing from current font.\n",
            "  font.set_text(s, 0.0, flags=flags)\n",
            "/usr/local/lib/python3.7/dist-packages/matplotlib/backends/backend_agg.py:214: RuntimeWarning: Glyph 48120 missing from current font.\n",
            "  font.set_text(s, 0.0, flags=flags)\n",
            "/usr/local/lib/python3.7/dist-packages/matplotlib/backends/backend_agg.py:214: RuntimeWarning: Glyph 49692 missing from current font.\n",
            "  font.set_text(s, 0.0, flags=flags)\n",
            "/usr/local/lib/python3.7/dist-packages/matplotlib/backends/backend_agg.py:214: RuntimeWarning: Glyph 47492 missing from current font.\n",
            "  font.set_text(s, 0.0, flags=flags)\n",
            "/usr/local/lib/python3.7/dist-packages/matplotlib/backends/backend_agg.py:214: RuntimeWarning: Glyph 51216 missing from current font.\n",
            "  font.set_text(s, 0.0, flags=flags)\n",
            "/usr/local/lib/python3.7/dist-packages/matplotlib/backends/backend_agg.py:183: RuntimeWarning: Glyph 52384 missing from current font.\n",
            "  font.set_text(s, 0, flags=flags)\n",
            "/usr/local/lib/python3.7/dist-packages/matplotlib/backends/backend_agg.py:183: RuntimeWarning: Glyph 49688 missing from current font.\n",
            "  font.set_text(s, 0, flags=flags)\n",
            "/usr/local/lib/python3.7/dist-packages/matplotlib/backends/backend_agg.py:183: RuntimeWarning: Glyph 50689 missing from current font.\n",
            "  font.set_text(s, 0, flags=flags)\n",
            "/usr/local/lib/python3.7/dist-packages/matplotlib/backends/backend_agg.py:183: RuntimeWarning: Glyph 51060 missing from current font.\n",
            "  font.set_text(s, 0, flags=flags)\n",
            "/usr/local/lib/python3.7/dist-packages/matplotlib/backends/backend_agg.py:183: RuntimeWarning: Glyph 44600 missing from current font.\n",
            "  font.set_text(s, 0, flags=flags)\n",
            "/usr/local/lib/python3.7/dist-packages/matplotlib/backends/backend_agg.py:183: RuntimeWarning: Glyph 46041 missing from current font.\n",
            "  font.set_text(s, 0, flags=flags)\n",
            "/usr/local/lib/python3.7/dist-packages/matplotlib/backends/backend_agg.py:183: RuntimeWarning: Glyph 48120 missing from current font.\n",
            "  font.set_text(s, 0, flags=flags)\n",
            "/usr/local/lib/python3.7/dist-packages/matplotlib/backends/backend_agg.py:183: RuntimeWarning: Glyph 49692 missing from current font.\n",
            "  font.set_text(s, 0, flags=flags)\n",
            "/usr/local/lib/python3.7/dist-packages/matplotlib/backends/backend_agg.py:183: RuntimeWarning: Glyph 47492 missing from current font.\n",
            "  font.set_text(s, 0, flags=flags)\n",
            "/usr/local/lib/python3.7/dist-packages/matplotlib/backends/backend_agg.py:183: RuntimeWarning: Glyph 51216 missing from current font.\n",
            "  font.set_text(s, 0, flags=flags)\n",
            "/usr/local/lib/python3.7/dist-packages/matplotlib/backends/backend_agg.py:183: RuntimeWarning: Glyph 44397 missing from current font.\n",
            "  font.set_text(s, 0, flags=flags)\n",
            "/usr/local/lib/python3.7/dist-packages/matplotlib/backends/backend_agg.py:183: RuntimeWarning: Glyph 50612 missing from current font.\n",
            "  font.set_text(s, 0, flags=flags)\n",
            "/usr/local/lib/python3.7/dist-packages/matplotlib/backends/backend_agg.py:183: RuntimeWarning: Glyph 49457 missing from current font.\n",
            "  font.set_text(s, 0, flags=flags)\n",
            "/usr/local/lib/python3.7/dist-packages/matplotlib/backends/backend_agg.py:183: RuntimeWarning: Glyph 51201 missing from current font.\n",
            "  font.set_text(s, 0, flags=flags)\n"
          ],
          "name": "stderr"
        },
        {
          "output_type": "display_data",
          "data": {
            "image/png": "[encoded data removed]",
            "text/plain": [
              "<Figure size 432x288 with 1 Axes>"
            ]
          },
          "metadata": {
            "tags": [],
            "needs_background": "light"
          }
        }
      ]
    },
    {
      "cell_type": "code",
      "metadata": {
        "colab": {
          "base_uri": "https://localhost:8080/",
          "height": 1000
        },
        "id": "ILOC1Ah73tHE",
        "outputId": "ea85d345-3443-4ee8-9006-6a171c0d5baf"
      },
      "source": [
        "d3 = d2.sort_values(by = '수학', ascending = True)\n",
        "d3['수학'].plot(kind = 'barh')\n",
        "plt.xlabel('점수')\n",
        "plt.title('수학성적')\n",
        "\n",
        "plt.ylabel('이름')\n",
        "plt.show()"
      ],
      "execution_count": 4,
      "outputs": [
        {
          "output_type": "stream",
          "text": [
            "/usr/local/lib/python3.7/dist-packages/matplotlib/backends/backend_agg.py:214: RuntimeWarning: Glyph 49688 missing from current font.\n",
            "  font.set_text(s, 0.0, flags=flags)\n",
            "/usr/local/lib/python3.7/dist-packages/matplotlib/backends/backend_agg.py:214: RuntimeWarning: Glyph 54617 missing from current font.\n",
            "  font.set_text(s, 0.0, flags=flags)\n",
            "/usr/local/lib/python3.7/dist-packages/matplotlib/backends/backend_agg.py:214: RuntimeWarning: Glyph 49457 missing from current font.\n",
            "  font.set_text(s, 0.0, flags=flags)\n",
            "/usr/local/lib/python3.7/dist-packages/matplotlib/backends/backend_agg.py:214: RuntimeWarning: Glyph 51201 missing from current font.\n",
            "  font.set_text(s, 0.0, flags=flags)\n",
            "/usr/local/lib/python3.7/dist-packages/matplotlib/backends/backend_agg.py:214: RuntimeWarning: Glyph 51216 missing from current font.\n",
            "  font.set_text(s, 0.0, flags=flags)\n",
            "/usr/local/lib/python3.7/dist-packages/matplotlib/backends/backend_agg.py:214: RuntimeWarning: Glyph 50689 missing from current font.\n",
            "  font.set_text(s, 0.0, flags=flags)\n",
            "/usr/local/lib/python3.7/dist-packages/matplotlib/backends/backend_agg.py:214: RuntimeWarning: Glyph 51060 missing from current font.\n",
            "  font.set_text(s, 0.0, flags=flags)\n",
            "/usr/local/lib/python3.7/dist-packages/matplotlib/backends/backend_agg.py:214: RuntimeWarning: Glyph 52384 missing from current font.\n",
            "  font.set_text(s, 0.0, flags=flags)\n",
            "/usr/local/lib/python3.7/dist-packages/matplotlib/backends/backend_agg.py:214: RuntimeWarning: Glyph 44600 missing from current font.\n",
            "  font.set_text(s, 0.0, flags=flags)\n",
            "/usr/local/lib/python3.7/dist-packages/matplotlib/backends/backend_agg.py:214: RuntimeWarning: Glyph 46041 missing from current font.\n",
            "  font.set_text(s, 0.0, flags=flags)\n",
            "/usr/local/lib/python3.7/dist-packages/matplotlib/backends/backend_agg.py:214: RuntimeWarning: Glyph 48120 missing from current font.\n",
            "  font.set_text(s, 0.0, flags=flags)\n",
            "/usr/local/lib/python3.7/dist-packages/matplotlib/backends/backend_agg.py:214: RuntimeWarning: Glyph 49692 missing from current font.\n",
            "  font.set_text(s, 0.0, flags=flags)\n",
            "/usr/local/lib/python3.7/dist-packages/matplotlib/backends/backend_agg.py:214: RuntimeWarning: Glyph 47492 missing from current font.\n",
            "  font.set_text(s, 0.0, flags=flags)\n",
            "/usr/local/lib/python3.7/dist-packages/matplotlib/backends/backend_agg.py:183: RuntimeWarning: Glyph 51216 missing from current font.\n",
            "  font.set_text(s, 0, flags=flags)\n",
            "/usr/local/lib/python3.7/dist-packages/matplotlib/backends/backend_agg.py:183: RuntimeWarning: Glyph 49688 missing from current font.\n",
            "  font.set_text(s, 0, flags=flags)\n",
            "/usr/local/lib/python3.7/dist-packages/matplotlib/backends/backend_agg.py:183: RuntimeWarning: Glyph 50689 missing from current font.\n",
            "  font.set_text(s, 0, flags=flags)\n",
            "/usr/local/lib/python3.7/dist-packages/matplotlib/backends/backend_agg.py:183: RuntimeWarning: Glyph 51060 missing from current font.\n",
            "  font.set_text(s, 0, flags=flags)\n",
            "/usr/local/lib/python3.7/dist-packages/matplotlib/backends/backend_agg.py:183: RuntimeWarning: Glyph 52384 missing from current font.\n",
            "  font.set_text(s, 0, flags=flags)\n",
            "/usr/local/lib/python3.7/dist-packages/matplotlib/backends/backend_agg.py:183: RuntimeWarning: Glyph 44600 missing from current font.\n",
            "  font.set_text(s, 0, flags=flags)\n",
            "/usr/local/lib/python3.7/dist-packages/matplotlib/backends/backend_agg.py:183: RuntimeWarning: Glyph 46041 missing from current font.\n",
            "  font.set_text(s, 0, flags=flags)\n",
            "/usr/local/lib/python3.7/dist-packages/matplotlib/backends/backend_agg.py:183: RuntimeWarning: Glyph 48120 missing from current font.\n",
            "  font.set_text(s, 0, flags=flags)\n",
            "/usr/local/lib/python3.7/dist-packages/matplotlib/backends/backend_agg.py:183: RuntimeWarning: Glyph 49692 missing from current font.\n",
            "  font.set_text(s, 0, flags=flags)\n",
            "/usr/local/lib/python3.7/dist-packages/matplotlib/backends/backend_agg.py:183: RuntimeWarning: Glyph 47492 missing from current font.\n",
            "  font.set_text(s, 0, flags=flags)\n",
            "/usr/local/lib/python3.7/dist-packages/matplotlib/backends/backend_agg.py:183: RuntimeWarning: Glyph 54617 missing from current font.\n",
            "  font.set_text(s, 0, flags=flags)\n",
            "/usr/local/lib/python3.7/dist-packages/matplotlib/backends/backend_agg.py:183: RuntimeWarning: Glyph 49457 missing from current font.\n",
            "  font.set_text(s, 0, flags=flags)\n",
            "/usr/local/lib/python3.7/dist-packages/matplotlib/backends/backend_agg.py:183: RuntimeWarning: Glyph 51201 missing from current font.\n",
            "  font.set_text(s, 0, flags=flags)\n"
          ],
          "name": "stderr"
        },
        {
          "output_type": "display_data",
          "data": {
            "image/png": "[encoded data removed]",
            "text/plain": [
              "<Figure size 432x288 with 1 Axes>"
            ]
          },
          "metadata": {
            "tags": [],
            "needs_background": "light"
          }
        }
      ]
    },
    {
      "cell_type": "code",
      "metadata": {
        "colab": {
          "base_uri": "https://localhost:8080/",
          "height": 245
        },
        "id": "ODFoxgNL331l",
        "outputId": "68c52c23-fe3e-46a5-8c4e-9143ca25d922"
      },
      "source": [
        "import seaborn as sns\n",
        "tips = sns.load_dataset(\"tips\") #샘플데이터셋명\n",
        "tips.head() #default로 5개의 데이터셋을 보여줌\n",
        "# 요일별 점심, 저녁, 흡연 여부 & 식사 금액 & 팁\n",
        "\n",
        "tips = sns.load_dataset('tips')\n",
        "plt.style.use('ggplot')\n",
        "tips['total_bill'].plot(kind = 'hist', bins = 10, color = 'blue', figsize = (5, 3))\n",
        "plt.xlabel('Total Bill')\n",
        "plt.title('Histogram of Total Bill')\n",
        "plt.show()"
      ],
      "execution_count": 6,
      "outputs": [
        {
          "output_type": "display_data",
          "data": {
            "image/png": "[encoded data removed]",
            "text/plain": [
              "<Figure size 360x216 with 1 Axes>"
            ]
          },
          "metadata": {
            "tags": []
          }
        }
      ]
    },
    {
      "cell_type": "code",
      "metadata": {
        "colab": {
          "base_uri": "https://localhost:8080/",
          "height": 333
        },
        "id": "HEAlrMH734K_",
        "outputId": "40c25f82-fa27-4e97-b266-da4d2dbb2e1f"
      },
      "source": [
        "tips = sns.load_dataset('tips')\n",
        "plt.style.use('default')\n",
        "tips.plot(kind = 'scatter', x = 'total_bill', y = 'tip', s = 15, figsize = (5, 3))\n",
        "plt.title('Scatterplot of Total Bill vs Tip')\n",
        "plt.show()"
      ],
      "execution_count": 7,
      "outputs": [
        {
          "output_type": "display_data",
          "data": {
            "image/png": "[encoded data removed]",
            "text/plain": [
              "<Figure size 500x300 with 1 Axes>"
            ]
          },
          "metadata": {
            "tags": []
          }
        }
      ]
    },
    {
      "cell_type": "code",
      "metadata": {
        "colab": {
          "base_uri": "https://localhost:8080/",
          "height": 472
        },
        "id": "TMs-Cgm14CKt",
        "outputId": "ad8bc335-0150-4e32-c857-d340d4fced65"
      },
      "source": [
        "tips = sns.load_dataset('tips')\n",
        "sns.regplot(data = tips, x = 'size', y = 'tip', truncate = False)\n",
        "plt.xlabel('Headcount')\n",
        "plt.ylabel('Tip')\n",
        "plt.title('Scatterplot of Tip and Headcount')\n",
        "plt.show()"
      ],
      "execution_count": 10,
      "outputs": [
        {
          "output_type": "display_data",
          "data": {
            "image/png": "[encoded data removed]",
            "text/plain": [
              "<Figure size 640x480 with 1 Axes>"
            ]
          },
          "metadata": {
            "tags": []
          }
        }
      ]
    },
    {
      "cell_type": "code",
      "metadata": {
        "colab": {
          "base_uri": "https://localhost:8080/",
          "height": 548
        },
        "id": "wBoVWseH4EoE",
        "outputId": "f1adfcf8-4492-43b1-fc1b-d9dbd00f9347"
      },
      "source": [
        "tips = sns.load_dataset('tips')\n",
        "sns.lmplot(x = 'total_bill', y = 'tip', hue = 'smoker', data = tips, truncate = False)\n",
        "plt.xlabel('Total Bill')\n",
        "plt.ylabel('Tip')\n",
        "plt.title('Scatterplot of Total Bill and Tip')\n",
        "plt.show()"
      ],
      "execution_count": 11,
      "outputs": [
        {
          "output_type": "display_data",
          "data": {
            "image/png": "[encoded data removed]",
            "text/plain": [
              "<Figure size 572.125x500 with 1 Axes>"
            ]
          },
          "metadata": {
            "tags": []
          }
        }
      ]
    },
    {
      "cell_type": "code",
      "metadata": {
        "colab": {
          "base_uri": "https://localhost:8080/",
          "height": 526
        },
        "id": "vGU7NHTV4cPv",
        "outputId": "d858eae9-e8c4-4b70-e4f9-517fa1e6fde2"
      },
      "source": [
        "tips = sns.load_dataset('tips')\n",
        "sns.distplot(tips['total_bill'])\n",
        "plt.xlabel('Total Bill')\n",
        "plt.ylabel('')\n",
        "plt.title('Histogram/Kernel Density Estimation of Total Bill')\n",
        "plt.show()"
      ],
      "execution_count": 12,
      "outputs": [
        {
          "output_type": "stream",
          "text": [
            "/usr/local/lib/python3.7/dist-packages/seaborn/distributions.py:2557: FutureWarning: `distplot` is a deprecated function and will be removed in a future version. Please adapt your code to use either `displot` (a figure-level function with similar flexibility) or `histplot` (an axes-level function for histograms).\n",
            "  warnings.warn(msg, FutureWarning)\n"
          ],
          "name": "stderr"
        },
        {
          "output_type": "display_data",
          "data": {
            "image/png": "[encoded data removed]",
            "text/plain": [
              "<Figure size 640x480 with 1 Axes>"
            ]
          },
          "metadata": {
            "tags": []
          }
        }
      ]
    },
    {
      "cell_type": "code",
      "metadata": {
        "colab": {
          "base_uri": "https://localhost:8080/",
          "height": 472
        },
        "id": "aT8p7xfh4eZr",
        "outputId": "4cf1ef97-9102-407a-eeb4-f9398c27d7c6"
      },
      "source": [
        "tips = sns.load_dataset('tips')\n",
        "sns.countplot(x = 'day', data = tips)\n",
        "plt.xlabel('Day of the Week')\n",
        "plt.ylabel('Frequency')\n",
        "plt.title('Count of days')\n",
        "plt.show()"
      ],
      "execution_count": 13,
      "outputs": [
        {
          "output_type": "display_data",
          "data": {
            "image/png": "[encoded data removed]",
            "text/plain": [
              "<Figure size 640x480 with 1 Axes>"
            ]
          },
          "metadata": {
            "tags": []
          }
        }
      ]
    },
    {
      "cell_type": "code",
      "metadata": {
        "colab": {
          "base_uri": "https://localhost:8080/",
          "height": 472
        },
        "id": "UVxCiKOM4hwU",
        "outputId": "dd42abb8-0116-4b58-c3b0-1a863e7bc46d"
      },
      "source": [
        "tips = sns.load_dataset('tips')\n",
        "sns.violinplot(x = 'time', y = 'total_bill', data = tips)\n",
        "plt.xlabel('Time of day')\n",
        "plt.ylabel('Total Bill')\n",
        "plt.title('Violin plot of total bill by time of day')\n",
        "plt.show()"
      ],
      "execution_count": 14,
      "outputs": [
        {
          "output_type": "display_data",
          "data": {
            "image/png": "[encoded data removed]",
            "text/plain": [
              "<Figure size 640x480 with 1 Axes>"
            ]
          },
          "metadata": {
            "tags": []
          }
        }
      ]
    },
    {
      "cell_type": "code",
      "metadata": {
        "colab": {
          "base_uri": "https://localhost:8080/",
          "height": 395
        },
        "id": "mOiukcuK4i6x",
        "outputId": "8169b96e-7002-4100-81cf-4f6f916f6194"
      },
      "source": [
        "tips = sns.load_dataset('tips')\n",
        "d1= sns.FacetGrid(data = tips, col = 'time')\n",
        "d1 = d1.map(sns.distplot, 'total_bill')\n",
        "plt.show()"
      ],
      "execution_count": 15,
      "outputs": [
        {
          "output_type": "stream",
          "text": [
            "/usr/local/lib/python3.7/dist-packages/seaborn/distributions.py:2557: FutureWarning: `distplot` is a deprecated function and will be removed in a future version. Please adapt your code to use either `displot` (a figure-level function with similar flexibility) or `histplot` (an axes-level function for histograms).\n",
            "  warnings.warn(msg, FutureWarning)\n",
            "/usr/local/lib/python3.7/dist-packages/seaborn/distributions.py:2557: FutureWarning: `distplot` is a deprecated function and will be removed in a future version. Please adapt your code to use either `displot` (a figure-level function with similar flexibility) or `histplot` (an axes-level function for histograms).\n",
            "  warnings.warn(msg, FutureWarning)\n"
          ],
          "name": "stderr"
        },
        {
          "output_type": "display_data",
          "data": {
            "image/png": "[encoded data removed]",
            "text/plain": [
              "<Figure size 600x300 with 2 Axes>"
            ]
          },
          "metadata": {
            "tags": []
          }
        }
      ]
    },
    {
      "cell_type": "code",
      "metadata": {
        "id": "c77UqpZ94q5W",
        "outputId": "32550744-757e-4d68-991a-0c5611f02c37",
        "colab": {
          "base_uri": "https://localhost:8080/",
          "height": 607
        }
      },
      "source": [
        "tips = sns.load_dataset('tips')\n",
        "chart1 = sns.FacetGrid(data = tips, col = 'time', row = 'smoker', hue = 'sex')\n",
        "chart1 = chart1.map(plt.scatter, 'total_bill', 'tip')\n",
        "plt.legend()\n",
        "plt.show()"
      ],
      "execution_count": 16,
      "outputs": [
        {
          "output_type": "display_data",
          "data": {
            "image/png": "[encoded data removed]",
            "text/plain": [
              "<Figure size 600x600 with 4 Axes>"
            ]
          },
          "metadata": {
            "tags": []
          }
        }
      ]
    }
  ]
}